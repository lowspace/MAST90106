{
 "cells": [
  {
   "cell_type": "markdown",
   "metadata": {},
   "source": [
    "1. Read Financial Statment for each company"
   ]
  },
  {
   "cell_type": "code",
   "execution_count": 68,
   "metadata": {},
   "outputs": [],
   "source": [
    "import os\n",
    "import pandas as pd"
   ]
  },
  {
   "cell_type": "code",
   "execution_count": 22,
   "metadata": {},
   "outputs": [],
   "source": [
    "path = os.getcwd()"
   ]
  },
  {
   "cell_type": "code",
   "execution_count": 23,
   "metadata": {},
   "outputs": [
    {
     "name": "stdout",
     "output_type": "stream",
     "text": [
      "/Users/j/Documents/GitHub/MAST90106/Semester2_NewData\n"
     ]
    }
   ],
   "source": [
    "print(path)"
   ]
  },
  {
   "cell_type": "markdown",
   "metadata": {},
   "source": [
    "2. generate company list"
   ]
  },
  {
   "cell_type": "code",
   "execution_count": 103,
   "metadata": {},
   "outputs": [],
   "source": [
    "# balance sheet file path of travel industry\n",
    "TravelBSPath = f'{path}/Travel/Balance sheet'\n",
    "TravelISPath = f'{path}/Travel/Income Statement'"
   ]
  },
  {
   "cell_type": "code",
   "execution_count": 100,
   "metadata": {},
   "outputs": [],
   "source": [
    "# balance sheet file path of energy industry\n",
    "EnergyBSPath = f'{path}/Energy/Balance sheet'\n",
    "EnergyISPath = f'{path}/Energy/Inome Statement'"
   ]
  },
  {
   "cell_type": "code",
   "execution_count": 58,
   "metadata": {},
   "outputs": [],
   "source": [
    "# creat company list\n",
    "EnergyCompanyList = []\n",
    "TravelCompanyList = []"
   ]
  },
  {
   "cell_type": "code",
   "execution_count": 65,
   "metadata": {},
   "outputs": [
    {
     "name": "stdout",
     "output_type": "stream",
     "text": [
      "BWLVF\n",
      "PDGO\n",
      "PTEN\n",
      "PDS\n",
      "ESVIF\n",
      "VTGDF\n",
      "PHXHF\n",
      "NE\n",
      "ICD\n",
      "NBR\n",
      "SDRLF\n",
      "BRCOQ\n",
      "AKTAF\n",
      "VTDRF\n",
      "GSVI\n",
      "BORR\n",
      "ARHVF\n",
      "RIG\n",
      "HP\n",
      "PTRO\n",
      "AWLCF\n",
      "EXLA\n"
     ]
    }
   ],
   "source": [
    "# add company name into company list\n",
    "for i,j,k in os.walk(EnergyBSPath):\n",
    "    #print(k)\n",
    "    for file in k:\n",
    "        print(file[:-25])\n",
    "        EnergyCompanyList.append(file[:-25])\n"
   ]
  },
  {
   "cell_type": "code",
   "execution_count": 57,
   "metadata": {},
   "outputs": [
    {
     "data": {
      "text/plain": [
       "['BWLVF',\n",
       " 'PDGO',\n",
       " 'PTEN',\n",
       " 'PDS',\n",
       " 'ESVIF',\n",
       " 'VTGDF',\n",
       " 'PHXHF',\n",
       " 'NE',\n",
       " 'ICD',\n",
       " 'NBR',\n",
       " 'SDRLF',\n",
       " 'BRCOQ',\n",
       " 'AKTAF',\n",
       " 'VTDRF',\n",
       " 'GSVI',\n",
       " 'BORR',\n",
       " 'ARHVF',\n",
       " 'RIG',\n",
       " 'HP',\n",
       " 'PTRO',\n",
       " 'AWLCF',\n",
       " 'EXLA']"
      ]
     },
     "execution_count": 57,
     "metadata": {},
     "output_type": "execute_result"
    }
   ],
   "source": [
    "EnergyCompanyList"
   ]
  },
  {
   "cell_type": "code",
   "execution_count": 66,
   "metadata": {},
   "outputs": [
    {
     "name": "stdout",
     "output_type": "stream",
     "text": [
      "CCL\n",
      "DESP\n",
      "MMYT\n",
      "LIND\n",
      "BKNG\n",
      "RCL\n",
      "MKGI\n",
      "TRIP\n",
      "TNL\n",
      "TZOO\n",
      "TCOM\n",
      "TOUR\n",
      "EXPE\n",
      "NCLH\n",
      "YTRA\n"
     ]
    }
   ],
   "source": [
    "for i,j,k in os.walk(TravelBSPath):\n",
    "    #print(k)\n",
    "    for file in k:\n",
    "        print(file[:-25])\n",
    "        TravelCompanyList.append(file[:-25])"
   ]
  },
  {
   "cell_type": "code",
   "execution_count": 61,
   "metadata": {},
   "outputs": [
    {
     "data": {
      "text/plain": [
       "['CCL',\n",
       " 'DESP',\n",
       " 'MMYT',\n",
       " 'LIND',\n",
       " 'BKNG',\n",
       " 'RCL',\n",
       " 'MKGI',\n",
       " 'TRIP',\n",
       " 'TNL',\n",
       " 'TZOO',\n",
       " 'TCOM',\n",
       " 'TOUR',\n",
       " 'EXPE',\n",
       " 'NCLH',\n",
       " 'YTRA']"
      ]
     },
     "execution_count": 61,
     "metadata": {},
     "output_type": "execute_result"
    }
   ],
   "source": [
    "TravelCompanyList"
   ]
  },
  {
   "cell_type": "markdown",
   "metadata": {},
   "source": [
    "3. combine income statment and balance sheet"
   ]
  },
  {
   "cell_type": "code",
   "execution_count": 71,
   "metadata": {},
   "outputs": [
    {
     "data": {
      "text/plain": [
       "'/Users/j/Documents/GitHub/MAST90106/Semester2_NewData/Energy/Income Statement'"
      ]
     },
     "execution_count": 71,
     "metadata": {},
     "output_type": "execute_result"
    }
   ],
   "source": [
    "# combine Energy industry\n",
    "EnergyISPath"
   ]
  },
  {
   "cell_type": "code",
   "execution_count": 96,
   "metadata": {},
   "outputs": [],
   "source": [
    "for i in EnergyCompanyList:\n",
    "    df1 = pd.DataFrame(pd.read_csv(f\"{EnergyBSPath}/{i}_annual_balance-sheet.csv\"))\n",
    "    #print(len(df1))\n",
    "    df2 = pd.DataFrame(pd.read_csv(f\"{EnergyISPath}/{i}_annual_financials.csv\")) \n",
    "    df3 = pd.concat([df1,df2],sort=False)\n",
    "    df3.to_csv(f'{path}/Energy/{i}_financial_ratios.csv')"
   ]
  },
  {
   "cell_type": "code",
   "execution_count": 104,
   "metadata": {},
   "outputs": [],
   "source": [
    "for i in TravelCompanyList:\n",
    "    df1 = pd.DataFrame(pd.read_csv(f\"{TravelBSPath}/{i}_annual_balance-sheet.csv\"))\n",
    "    #print(len(df1))\n",
    "    df2 = pd.DataFrame(pd.read_csv(f\"{TravelISPath}/{i}_annual_financials.csv\")) \n",
    "    df3 = pd.concat([df1,df2],sort=False)\n",
    "    df3.to_csv(f'{path}/Travel/{i}_financial_ratios.csv')"
   ]
  },
  {
   "cell_type": "code",
   "execution_count": null,
   "metadata": {},
   "outputs": [],
   "source": []
  }
 ],
 "metadata": {
  "kernelspec": {
   "display_name": "Python 3",
   "language": "python",
   "name": "python3"
  },
  "language_info": {
   "codemirror_mode": {
    "name": "ipython",
    "version": 3
   },
   "file_extension": ".py",
   "mimetype": "text/x-python",
   "name": "python",
   "nbconvert_exporter": "python",
   "pygments_lexer": "ipython3",
   "version": "3.7.4"
  }
 },
 "nbformat": 4,
 "nbformat_minor": 2
}
