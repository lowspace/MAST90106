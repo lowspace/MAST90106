{
 "cells": [
  {
   "cell_type": "markdown",
   "id": "9240d01a",
   "metadata": {},
   "source": [
    "# Set up"
   ]
  },
  {
   "cell_type": "code",
   "execution_count": 2,
   "id": "042e997a",
   "metadata": {
    "ExecuteTime": {
     "end_time": "2021-09-07T06:08:48.084737Z",
     "start_time": "2021-09-07T06:08:46.487717Z"
    }
   },
   "outputs": [],
   "source": [
    "import jsonlines\n",
    "import os\n",
    "import pandas as pd\n",
    "import copy\n",
    "import json\n",
    "import re"
   ]
  },
  {
   "cell_type": "markdown",
   "id": "eae264d3",
   "metadata": {},
   "source": [
    "# Rename agriculture file name\n",
    "\n",
    "(no need to run now)"
   ]
  },
  {
   "cell_type": "code",
   "execution_count": 9,
   "id": "7dac8992",
   "metadata": {
    "ExecuteTime": {
     "end_time": "2021-09-07T06:11:13.194606Z",
     "start_time": "2021-09-07T06:11:13.188559Z"
    }
   },
   "outputs": [
    {
     "name": "stdout",
     "output_type": "stream",
     "text": [
      "/Users/dnhb/Desktop/MAST90106/data/agriculture/Financial Statistic_Agriculture\n",
      "['CTA-PB', 'annual', 'financials.csv']\n",
      "['RKDA', 'annual', 'financials.csv']\n",
      "['CF', 'annual', 'financials.csv']\n",
      "['ICL', 'annual', 'financials.csv']\n",
      "['CTVA', 'annual', 'financials.csv']\n",
      "['MOS', 'annual', 'financials.csv']\n",
      "['NTR', 'annual', 'financials.csv']\n",
      "['MGPI', 'annual', 'financials.csv']\n",
      "['MBII', 'annual', 'financials.csv']\n",
      "['CGA', 'annual', 'financials.csv']\n",
      "['SEED', 'annual', 'financials.csv']\n",
      "['IPI', 'annual', 'financials.csv']\n",
      "['ROA1', 'differnce.csv']\n",
      "['YTEN', 'annual', 'financials.csv']\n",
      "['AVD', 'annual', 'financials.csv']\n",
      "['SMG', 'annual', 'financials.csv']\n",
      "['UAN', 'annual', 'financials.csv']\n",
      "['CTA-PA', 'annual', 'financials.csv']\n",
      "['ROA2', 'differnce.csv']\n",
      "['FMC', 'annual', 'financials.csv']\n"
     ]
    }
   ],
   "source": [
    "root_path = os.path.abspath(os.path.dirname(os.getcwd()))\n",
    "data_path = os.path.join(root_path, 'data')\n",
    "inds_path = os.path.join(data_path, 'agriculture')\n",
    "fina_path = os.path.join(inds_path, 'Financial Statistic_Agriculture')\n",
    "print(fina_path)\n",
    "for i in os.listdir(fina_path):\n",
    "    comp_code = i.split('_')[0]\n",
    "    old_name = fina_path + os.sep + i\n",
    "    new_name = fina_path + os.sep + "
   ]
  },
  {
   "cell_type": "markdown",
   "id": "8c30ce20",
   "metadata": {},
   "source": [
    "# Assemble data\n",
    "\n",
    "Aim is to structure a company like:\n",
    "```\n",
    "{\"CTVA\": {\n",
    "\"name\": \"Corteva, Inc.\", \n",
    "\"location\": [\"Chestnut Run Plaza 735\", \"PO Box 80735\", \"United States\"], \n",
    "\"website\": \"http://www.corteva.com\", \n",
    "\"section\": \"Basic Materials\", \n",
    "\"industry\": \"Agricultural Inputs\", \n",
    "\"profile\": \"https://finance.yahoo.com/quote/CTVA/profile?p=CTVA\"},\n",
    "\"stock prices\": pandas.framework,\n",
    "\"ROA\": pandas.framework,\n",
    "\"state\": NY\n",
    "}\n",
    "```\n",
    "\n",
    "One `json` file corresponds to a company.  \n",
    "\n",
    "However, `json` can't load the `pandas.framework` directly, and to avoid losing data and adding escape characters, we use `pandas.to_dict()` to encode `pandas.framework`, then we can store it in `json`.\n",
    "\n",
    "As for decoding the `json`, we use `pandas.DataFrame.from_dict()` to transform the `dict` to `dataframe`. Thus, the final structure for each file (company) is:\n",
    "```\n",
    "{\"CTVA\": {\n",
    "\"name\": \"Corteva, Inc.\", \n",
    "\"location\": [\"Chestnut Run Plaza 735\", \"PO Box 80735\", \"United States\"], \n",
    "\"website\": \"http://www.corteva.com\", \n",
    "\"section\": \"Basic Materials\", \n",
    "\"industry\": \"Agricultural Inputs\", \n",
    "\"profile\": \"https://finance.yahoo.com/quote/CTVA/profile?p=CTVA\"},\n",
    "\"stock prices\": dict,\n",
    "\"ROA\": dict,\n",
    "\"state\": NY\n",
    "}\n",
    "```"
   ]
  },
  {
   "cell_type": "markdown",
   "id": "3c297665",
   "metadata": {},
   "source": [
    "## Get the company basic information"
   ]
  },
  {
   "cell_type": "code",
   "execution_count": 35,
   "id": "951c5bbc",
   "metadata": {
    "ExecuteTime": {
     "end_time": "2021-05-22T04:25:21.942890Z",
     "start_time": "2021-05-22T04:25:21.929608Z"
    }
   },
   "outputs": [],
   "source": [
    "root_path = os.path.abspath(os.path.dirname(os.getcwd()))\n",
    "web_path = os.path.join(root_path, 'webpage')\n",
    "\n",
    "total = {}\n",
    "for f in os.listdir(web_path):\n",
    "    if f.endswith('.jsonl'):\n",
    "        inds = f.replace('.jsonl', '')\n",
    "        total[inds] = {}\n",
    "#         total[inds] = []\n",
    "        file_path = os.path.join(web_path, f)\n",
    "        with jsonlines.open(file_path, 'r') as lines:\n",
    "            for line in lines:\n",
    "                total[inds][list(line.keys())[0]] = list(line.values())[0]"
   ]
  },
  {
   "cell_type": "code",
   "execution_count": 36,
   "id": "8f9145f3",
   "metadata": {
    "ExecuteTime": {
     "end_time": "2021-05-22T04:25:23.560100Z",
     "start_time": "2021-05-22T04:25:23.555839Z"
    }
   },
   "outputs": [
    {
     "data": {
      "text/plain": [
       "dict_keys(['agriculture', 'energy', 'travel'])"
      ]
     },
     "execution_count": 36,
     "metadata": {},
     "output_type": "execute_result"
    }
   ],
   "source": [
    "total.keys()"
   ]
  },
  {
   "cell_type": "code",
   "execution_count": 37,
   "id": "e8a59d05",
   "metadata": {
    "ExecuteTime": {
     "end_time": "2021-05-22T04:25:24.783307Z",
     "start_time": "2021-05-22T04:25:24.780141Z"
    }
   },
   "outputs": [],
   "source": [
    "agriculture = total['agriculture']\n",
    "energy = total['energy']\n",
    "travel = total['travel']"
   ]
  },
  {
   "cell_type": "markdown",
   "id": "67fe5695",
   "metadata": {},
   "source": [
    "## Store the stock prices"
   ]
  },
  {
   "cell_type": "code",
   "execution_count": 38,
   "id": "e6000e09",
   "metadata": {
    "ExecuteTime": {
     "end_time": "2021-05-22T04:25:33.153825Z",
     "start_time": "2021-05-22T04:25:26.356074Z"
    }
   },
   "outputs": [],
   "source": [
    "data_path = os.path.join(root_path, 'data')\n",
    "cp = copy.deepcopy(total)\n",
    "\n",
    "for inds in cp.keys():\n",
    "    inds_path = os.path.join(data_path, inds)\n",
    "    for comp in cp[inds].keys():\n",
    "        file_name = comp + '.csv'\n",
    "        file_path = os.path.join(inds_path, file_name)\n",
    "        try:\n",
    "            total[inds][comp][\"stock prices\"] = pd.read_csv(file_path).to_dict()\n",
    "        except:\n",
    "            del total[inds][comp]"
   ]
  },
  {
   "cell_type": "markdown",
   "id": "4b3b2f86",
   "metadata": {},
   "source": [
    "## Store the ROA/ROI data"
   ]
  },
  {
   "cell_type": "code",
   "execution_count": 39,
   "id": "c1c4b2fb",
   "metadata": {
    "ExecuteTime": {
     "end_time": "2021-05-22T04:25:53.143966Z",
     "start_time": "2021-05-22T04:25:41.354063Z"
    }
   },
   "outputs": [],
   "source": [
    "inds_path = os.path.join(data_path, 'agriculture')\n",
    "fina_path = os.path.join(inds_path, 'Financial Statistic_Agriculture')\n",
    "\n",
    "cp = copy.deepcopy(total)\n",
    "\n",
    "for comp in cp['agriculture'].keys():\n",
    "    file_name = comp + '_annual_financials.csv'\n",
    "    file_path = os.path.join(fina_path, file_name)\n",
    "    df = pd.read_csv(file_path)\n",
    "    roa1 = df.loc[df['name']=='ROA1']\n",
    "    total['agriculture'][comp][\"ROA1\"] = roa1.to_dict()\n",
    "    roa2 = df.loc[df['name']=='ROA2']\n",
    "    total['agriculture'][comp][\"ROA2\"] = roa2.to_dict()"
   ]
  },
  {
   "cell_type": "markdown",
   "id": "8b1df085",
   "metadata": {},
   "source": [
    "## Store the State data of US\n",
    "\n",
    "REF: https://gist.github.com/rogerallen/1583593"
   ]
  },
  {
   "cell_type": "code",
   "execution_count": 43,
   "id": "b8a0bd23",
   "metadata": {
    "ExecuteTime": {
     "end_time": "2021-05-22T04:28:56.187300Z",
     "start_time": "2021-05-22T04:28:56.183179Z"
    }
   },
   "outputs": [],
   "source": [
    "# https://www.corteva.com/contact-us.html\n",
    "agriculture['CTVA']['location'] = ['Chestnut Run Plaza 735', 'PO Box 80735', \n",
    "                                   'Wilmington, DE 19805-0735', 'United States']\n",
    "# https://ir.mgpingredients.com/governance/governance-contacts\n",
    "agriculture['MGPI']['location'] = ['Cray Business Plaza', '100 Commercial Street PO Box 130',\n",
    "                                   '100 Commercial Street, P.O. Box 130 ', 'Atchison, KS 66002',\n",
    "                                   'United States']"
   ]
  },
  {
   "cell_type": "code",
   "execution_count": 44,
   "id": "a68cffac",
   "metadata": {
    "ExecuteTime": {
     "end_time": "2021-05-22T04:28:59.284834Z",
     "start_time": "2021-05-22T04:28:59.270666Z"
    }
   },
   "outputs": [
    {
     "name": "stdout",
     "output_type": "stream",
     "text": [
      "CTVA ['Chestnut Run Plaza 735', 'PO Box 80735', 'Wilmington, DE 19805-0735', 'United States']\n",
      "DE\n",
      "MBII ['1540 Drew Avenue', 'Davis, CA 95618', 'United States']\n",
      "CA\n",
      "AVD ['4695 MacArthur Court', 'Newport Beach, CA 92660', 'United States']\n",
      "CA\n",
      "ICL ['Millenium Tower', '23 Aranha Street', 'Tel Aviv 6107025', 'Israel']\n",
      "IPI ['1001 17th Street', 'Suite 1050', 'Denver, CO 80202', 'United States']\n",
      "CO\n",
      "NTR ['Suite 500', 'Saskatoon, SK S7K 7G3', 'Canada']\n",
      "MGPI ['Cray Business Plaza', '100 Commercial Street PO Box 130', '100 Commercial Street, P.O. Box 130 ', 'Atchison, KS 66002', 'United States']\n",
      "KS\n",
      "SMG ['14111 Scottslawn Road', 'Marysville, OH 43041', 'United States']\n",
      "OH\n",
      "CF ['4 Parkway North', 'Suite 400', 'Deerfield, IL 60015', 'United States']\n",
      "IL\n",
      "YTEN ['19 Presidential Way', 'Woburn, MA 01801', 'United States']\n",
      "MA\n",
      "CTA-PB ['974 Centre Road', 'Wilmington, DE 19805', 'United States']\n",
      "DE\n",
      "UAN ['2277 Plaza Drive', 'Suite 500', 'Sugar Land, TX 77479', 'United States']\n",
      "TX\n",
      "CGA ['Borough A', 'China']\n",
      "CTA-PA ['974 Centre Road', 'Wilmington, DE 19805', 'United States']\n",
      "DE\n",
      "RKDA ['202 Cousteau Place', 'Suite 105', 'Davis, CA 95618', 'United States']\n",
      "CA\n",
      "FMC ['2929 Walnut Street', 'Philadelphia, PA 19104', 'United States']\n",
      "PA\n",
      "MOS ['101 East Kennedy Boulevard', 'Suite 2500', 'Tampa, FL 33602', 'United States']\n",
      "FL\n",
      "SEED ['Changping District', 'Beijing 102206', 'China']\n"
     ]
    },
    {
     "data": {
      "text/plain": [
       "14"
      ]
     },
     "execution_count": 44,
     "metadata": {},
     "output_type": "execute_result"
    }
   ],
   "source": [
    "# load us state abbre data\n",
    "file_name = os.path.join(data_path, 'us_state.json')\n",
    "with open(file_name, 'r') as f:\n",
    "    us_state_dict = json.load(f)\n",
    "\n",
    "count = 0\n",
    "for comp, v in agriculture.items():\n",
    "    state_str = v['location'][-2]\n",
    "    print(comp, v['location'])\n",
    "    state_pattern = re.compile(r'[A-Z]{2}(?= \\d)')\n",
    "    try:\n",
    "        state = re.findall(state_pattern, state_str)[0]\n",
    "        print(state)\n",
    "        state = us_state_dict[state]\n",
    "        agriculture[comp]['state'] = state\n",
    "        count += 1\n",
    "    except:\n",
    "        pass\n",
    "count"
   ]
  },
  {
   "cell_type": "code",
   "execution_count": 9,
   "id": "97e03f1c",
   "metadata": {
    "ExecuteTime": {
     "end_time": "2021-05-19T23:19:18.646086Z",
     "start_time": "2021-05-19T23:19:17.530435Z"
    }
   },
   "outputs": [
    {
     "name": "stdout",
     "output_type": "stream",
     "text": [
      "Cray, Powys, Cymru / Wales, United Kingdom\n"
     ]
    }
   ],
   "source": [
    "from geopy.geocoders import Nominatim\n",
    "\n",
    "geolocator = Nominatim(user_agent=\"find state\")\n",
    "location = geolocator.geocode(\"Cray Business Plaza\")\n",
    "print(location.address)"
   ]
  },
  {
   "cell_type": "markdown",
   "id": "8a6cd0e3",
   "metadata": {},
   "source": [
    "# Store the data into json for each company"
   ]
  },
  {
   "cell_type": "code",
   "execution_count": 45,
   "id": "5278cc25",
   "metadata": {
    "ExecuteTime": {
     "end_time": "2021-05-22T04:29:06.333756Z",
     "start_time": "2021-05-22T04:29:04.639334Z"
    },
    "code_folding": []
   },
   "outputs": [],
   "source": [
    "for comp in total['agriculture'].keys():\n",
    "    file_name = comp + '.json'\n",
    "    file_path = os.path.join(inds_path, file_name)\n",
    "    with open(file_path, 'w') as file:\n",
    "        json.dump({comp:total['agriculture'][comp]}, file)"
   ]
  },
  {
   "cell_type": "markdown",
   "id": "4050e09d",
   "metadata": {},
   "source": [
    "# Read the json"
   ]
  },
  {
   "cell_type": "code",
   "execution_count": 11,
   "id": "2be2708e",
   "metadata": {
    "ExecuteTime": {
     "end_time": "2021-05-19T23:19:20.656205Z",
     "start_time": "2021-05-19T23:19:20.383152Z"
    }
   },
   "outputs": [],
   "source": [
    "t = []\n",
    "for comp in total['agriculture'].keys():\n",
    "    file_name = comp + '.json'\n",
    "    file_path = os.path.join(inds_path, file_name)\n",
    "    with open(file_path, 'r') as file:\n",
    "        t.append(json.load(file))"
   ]
  },
  {
   "cell_type": "code",
   "execution_count": 12,
   "id": "6bd8c096",
   "metadata": {
    "ExecuteTime": {
     "end_time": "2021-05-19T23:19:20.660047Z",
     "start_time": "2021-05-19T23:19:20.657937Z"
    }
   },
   "outputs": [],
   "source": [
    "# pd.DataFrame.from_dict(t[0]['CTVA']['stock prices'])"
   ]
  }
 ],
 "metadata": {
  "hide_input": false,
  "kernelspec": {
   "display_name": "Python 3",
   "language": "python",
   "name": "python3"
  },
  "language_info": {
   "codemirror_mode": {
    "name": "ipython",
    "version": 3
   },
   "file_extension": ".py",
   "mimetype": "text/x-python",
   "name": "python",
   "nbconvert_exporter": "python",
   "pygments_lexer": "ipython3",
   "version": "3.7.10"
  },
  "latex_envs": {
   "LaTeX_envs_menu_present": true,
   "autoclose": false,
   "autocomplete": true,
   "bibliofile": "biblio.bib",
   "cite_by": "apalike",
   "current_citInitial": 1,
   "eqLabelWithNumbers": true,
   "eqNumInitial": 1,
   "hotkeys": {
    "equation": "Ctrl-E",
    "itemize": "Ctrl-I"
   },
   "labels_anchors": false,
   "latex_user_defs": false,
   "report_style_numbering": false,
   "user_envs_cfg": false
  },
  "toc": {
   "base_numbering": 1,
   "nav_menu": {},
   "number_sections": true,
   "sideBar": true,
   "skip_h1_title": false,
   "title_cell": "Table of Contents",
   "title_sidebar": "Contents",
   "toc_cell": false,
   "toc_position": {},
   "toc_section_display": true,
   "toc_window_display": false
  },
  "varInspector": {
   "cols": {
    "lenName": 16,
    "lenType": 16,
    "lenVar": 40
   },
   "kernels_config": {
    "python": {
     "delete_cmd_postfix": "",
     "delete_cmd_prefix": "del ",
     "library": "var_list.py",
     "varRefreshCmd": "print(var_dic_list())"
    },
    "r": {
     "delete_cmd_postfix": ") ",
     "delete_cmd_prefix": "rm(",
     "library": "var_list.r",
     "varRefreshCmd": "cat(var_dic_list()) "
    }
   },
   "types_to_exclude": [
    "module",
    "function",
    "builtin_function_or_method",
    "instance",
    "_Feature"
   ],
   "window_display": false
  }
 },
 "nbformat": 4,
 "nbformat_minor": 5
}
