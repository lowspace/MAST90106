{
 "cells": [
  {
   "cell_type": "markdown",
   "id": "9240d01a",
   "metadata": {},
   "source": [
    "# Set up"
   ]
  },
  {
   "cell_type": "code",
   "execution_count": 1,
   "id": "042e997a",
   "metadata": {
    "ExecuteTime": {
     "end_time": "2021-09-13T03:12:22.811690Z",
     "start_time": "2021-09-13T03:12:21.542101Z"
    }
   },
   "outputs": [],
   "source": [
    "import jsonlines\n",
    "import os\n",
    "import pandas as pd\n",
    "import copy\n",
    "import json\n",
    "import re"
   ]
  },
  {
   "cell_type": "markdown",
   "id": "7f88aa4e",
   "metadata": {},
   "source": [
    "# Rename agriculture file name\n",
    "\n",
    "(no need to run now)"
   ]
  },
  {
   "cell_type": "code",
   "execution_count": 2,
   "id": "3c2fbb7f",
   "metadata": {
    "ExecuteTime": {
     "end_time": "2021-09-07T07:17:06.413762Z",
     "start_time": "2021-09-07T07:17:06.411159Z"
    }
   },
   "outputs": [],
   "source": [
    "# root_path = os.path.abspath(os.path.dirname(os.getcwd()))\n",
    "# data_path = os.path.join(root_path, 'data')\n",
    "# inds_path = os.path.join(data_path, 'agriculture')\n",
    "# fina_path = os.path.join(inds_path, 'Financial Statistic_Agriculture')\n",
    "# for i in os.listdir(fina_path):\n",
    "#     comp_code = i.split('_')[0]\n",
    "#     old_name = fina_path + os.sep + i\n",
    "#     new_name = fina_path + os.sep + comp_code + \"_financial_ratios.csv\"\n",
    "#     os.rename(old_name, new_name) "
   ]
  },
  {
   "cell_type": "markdown",
   "id": "8c30ce20",
   "metadata": {},
   "source": [
    "# Assemble data\n",
    "\n",
    "Aim is to structure a company like:\n",
    "```\n",
    "{\"CTVA\": {\n",
    "\"name\": \"Corteva, Inc.\", \n",
    "\"location\": [\"Chestnut Run Plaza 735\", \"PO Box 80735\", \"United States\"], \n",
    "\"website\": \"http://www.corteva.com\", \n",
    "\"section\": \"Basic Materials\", \n",
    "\"industry\": \"Agricultural Inputs\", \n",
    "\"profile\": \"https://finance.yahoo.com/quote/CTVA/profile?p=CTVA\"},\n",
    "\"stock prices\": pandas.framework,\n",
    "\"ROA\": pandas.framework,\n",
    "\"state\": NY\n",
    "}\n",
    "```\n",
    "\n",
    "One `json` file corresponds to a company.  \n",
    "\n",
    "However, `json` can't load the `pandas.framework` directly, and to avoid losing data and adding escape characters, we use `pandas.to_dict()` to encode `pandas.framework`, then we can store it in `json`.\n",
    "\n",
    "As for decoding the `json`, we use `pandas.DataFrame.from_dict()` to transform the `dict` to `dataframe`. Thus, the final structure for each file (company) is:\n",
    "```\n",
    "{\"CTVA\": {\n",
    "\"name\": \"Corteva, Inc.\", \n",
    "\"location\": [\"Chestnut Run Plaza 735\", \"PO Box 80735\", \"United States\"], \n",
    "\"website\": \"http://www.corteva.com\", \n",
    "\"section\": \"Basic Materials\", \n",
    "\"industry\": \"Agricultural Inputs\", \n",
    "\"profile\": \"https://finance.yahoo.com/quote/CTVA/profile?p=CTVA\"},\n",
    "\"stock prices\": dict,\n",
    "\"ROA\": dict,\n",
    "\"state\": NY\n",
    "}\n",
    "```"
   ]
  },
  {
   "cell_type": "markdown",
   "id": "3c297665",
   "metadata": {},
   "source": [
    "## Get the company basic information"
   ]
  },
  {
   "cell_type": "code",
   "execution_count": 3,
   "id": "951c5bbc",
   "metadata": {
    "ExecuteTime": {
     "end_time": "2021-09-13T03:12:35.626325Z",
     "start_time": "2021-09-13T03:12:35.613235Z"
    }
   },
   "outputs": [],
   "source": [
    "root_path = os.path.abspath(os.path.dirname(os.getcwd()))\n",
    "web_path = os.path.join(root_path, 'webpage')\n",
    "\n",
    "total = {}\n",
    "for f in os.listdir(web_path):\n",
    "    if f.endswith('.jsonl'):\n",
    "        inds = f.replace('.jsonl', '')\n",
    "        total[inds] = {}\n",
    "#         total[inds] = []\n",
    "        file_path = os.path.join(web_path, f)\n",
    "        with jsonlines.open(file_path, 'r') as lines:\n",
    "            for line in lines:\n",
    "                total[inds][list(line.keys())[0]] = list(line.values())[0]"
   ]
  },
  {
   "cell_type": "code",
   "execution_count": 4,
   "id": "8f9145f3",
   "metadata": {
    "ExecuteTime": {
     "end_time": "2021-09-13T03:12:37.065387Z",
     "start_time": "2021-09-13T03:12:37.054861Z"
    }
   },
   "outputs": [
    {
     "data": {
      "text/plain": [
       "dict_keys(['agriculture', 'energy', 'travel'])"
      ]
     },
     "execution_count": 4,
     "metadata": {},
     "output_type": "execute_result"
    }
   ],
   "source": [
    "total.keys()"
   ]
  },
  {
   "cell_type": "code",
   "execution_count": 5,
   "id": "e8a59d05",
   "metadata": {
    "ExecuteTime": {
     "end_time": "2021-09-13T03:12:38.031384Z",
     "start_time": "2021-09-13T03:12:38.027805Z"
    }
   },
   "outputs": [],
   "source": [
    "agriculture = total['agriculture']\n",
    "energy = total['energy']\n",
    "travel = total['travel']"
   ]
  },
  {
   "cell_type": "markdown",
   "id": "67fe5695",
   "metadata": {},
   "source": [
    "## Store the stock prices"
   ]
  },
  {
   "cell_type": "code",
   "execution_count": 6,
   "id": "e6000e09",
   "metadata": {
    "ExecuteTime": {
     "end_time": "2021-09-13T03:12:47.342557Z",
     "start_time": "2021-09-13T03:12:40.434330Z"
    }
   },
   "outputs": [],
   "source": [
    "data_path = os.path.join(root_path, 'data')\n",
    "cp = copy.deepcopy(total)\n",
    "\n",
    "for inds in cp.keys():\n",
    "    inds_path = os.path.join(data_path, inds)\n",
    "    for comp in cp[inds].keys():\n",
    "        file_name = comp + '.csv'\n",
    "        file_path = os.path.join(inds_path, file_name)\n",
    "        try:\n",
    "            total[inds][comp][\"stock prices\"] = pd.read_csv(file_path).to_dict()\n",
    "        except:\n",
    "            del total[inds][comp]"
   ]
  },
  {
   "cell_type": "markdown",
   "id": "4b3b2f86",
   "metadata": {},
   "source": [
    "## Store the CFP data"
   ]
  },
  {
   "cell_type": "code",
   "execution_count": 7,
   "id": "c1c4b2fb",
   "metadata": {
    "ExecuteTime": {
     "end_time": "2021-09-13T03:13:19.248607Z",
     "start_time": "2021-09-13T03:12:47.344797Z"
    }
   },
   "outputs": [],
   "source": [
    "for inds in total.keys():\n",
    "#     print(inds)\n",
    "    inds_path = os.path.join(data_path, inds)\n",
    "    fina_path = os.path.join(inds_path, 'Financial_ratios')\n",
    "\n",
    "    cp = copy.deepcopy(total)\n",
    "\n",
    "    cfp = ['ROA1', 'ROA2', 'Operating Margin', 'Net Margin', 'Return On Equity', \n",
    "           'Current Ratio', 'Quick ratio', 'ROC', 'D/E ratio', 'EPS']\n",
    "\n",
    "    for comp in cp[inds].keys():\n",
    "        try:\n",
    "            file_name = comp + '_financial_ratios.csv'\n",
    "            file_path = os.path.join(fina_path, file_name)\n",
    "            df = pd.read_csv(file_path)\n",
    "            for i in cfp:\n",
    "                value = df.loc[df['name'] == i]\n",
    "                total[inds][comp][i] = value.to_dict()\n",
    "        except:\n",
    "            del total[inds][comp]"
   ]
  },
  {
   "cell_type": "markdown",
   "id": "8b1df085",
   "metadata": {},
   "source": [
    "## Store the State data of US\n",
    "\n",
    "REF: https://gist.github.com/rogerallen/1583593"
   ]
  },
  {
   "cell_type": "code",
   "execution_count": 8,
   "id": "b8a0bd23",
   "metadata": {
    "ExecuteTime": {
     "end_time": "2021-09-13T03:13:19.255674Z",
     "start_time": "2021-09-13T03:13:19.251005Z"
    }
   },
   "outputs": [],
   "source": [
    "# https://www.corteva.com/contact-us.html\n",
    "agriculture['CTVA']['location'] = ['Chestnut Run Plaza 735', 'PO Box 80735', \n",
    "                                   'Wilmington, DE 19805-0735', 'United States']\n",
    "# https://ir.mgpingredients.com/governance/governance-contacts\n",
    "agriculture['MGPI']['location'] = ['Cray Business Plaza', '100 Commercial Street PO Box 130',\n",
    "                                   '100 Commercial Street, P.O. Box 130 ', 'Atchison, KS 66002',\n",
    "                                   'United States']"
   ]
  },
  {
   "cell_type": "code",
   "execution_count": 9,
   "id": "a68cffac",
   "metadata": {
    "ExecuteTime": {
     "end_time": "2021-09-13T03:13:19.264110Z",
     "start_time": "2021-09-13T03:13:19.258148Z"
    }
   },
   "outputs": [],
   "source": [
    "# load us state abbre data\n",
    "file_name = os.path.join(data_path, 'us_state.json')\n",
    "with open(file_name, 'r') as f:\n",
    "    us_state_dict = json.load(f)\n",
    "\n",
    "count = 0\n",
    "for inds in total.keys():\n",
    "#     print('\\n',inds)\n",
    "    for comp, v in total[inds].items():\n",
    "        try:\n",
    "            if v['location'][-1] == 'United States':\n",
    "                state_str = v['location'][-2]\n",
    "    #             print(comp, v['location'])\n",
    "                state_pattern = re.compile(r'[A-Z]{2}(?= \\d)')\n",
    "                try:\n",
    "                    state = re.findall(state_pattern, state_str)[0]\n",
    "#                     print(comp, v['location'], state)\n",
    "                    state = us_state_dict[state]\n",
    "                    total[inds][comp]['state'] = state\n",
    "                    count += 1\n",
    "                except:\n",
    "                    total[inds][comp]['state'] = None\n",
    "                    pass\n",
    "            else:\n",
    "                total[inds][comp]['state'] = None\n",
    "        except:\n",
    "            total[inds][comp]['state'] = None\n",
    "        count"
   ]
  },
  {
   "cell_type": "code",
   "execution_count": 21,
   "id": "95f11a25",
   "metadata": {
    "ExecuteTime": {
     "end_time": "2021-09-13T04:49:10.322840Z",
     "start_time": "2021-09-13T04:49:10.316247Z"
    }
   },
   "outputs": [
    {
     "name": "stdout",
     "output_type": "stream",
     "text": [
      "agriculture\n",
      "CTVA Delaware\n",
      "MBII California\n",
      "AVD California\n",
      "IPI Colorado\n",
      "MGPI Kansas\n",
      "SMG Ohio\n",
      "CF Illinois\n",
      "YTEN Massachusetts\n",
      "CTA-PB Delaware\n",
      "UAN Texas\n",
      "CTA-PA Delaware\n",
      "RKDA California\n",
      "FMC Pennsylvania\n",
      "MOS Florida\n",
      "\n",
      "\n",
      "energy\n",
      "PTEN Texas\n",
      "ICD Texas\n",
      "HP Oklahoma\n",
      "\n",
      "\n",
      "travel\n",
      "TNL Florida\n",
      "NCLH Florida\n",
      "MKGI Florida\n",
      "LIND New York\n",
      "TZOO New York\n",
      "EXPE Washington\n",
      "TRIP Massachusetts\n",
      "\n",
      "\n"
     ]
    }
   ],
   "source": [
    "for inds in total.keys():\n",
    "    print(inds)\n",
    "    for comp, v in total[inds].items():\n",
    "        if total[inds][comp]['state']:\n",
    "            print(comp, total[inds][comp]['state'])\n",
    "    print('\\n')"
   ]
  },
  {
   "cell_type": "code",
   "execution_count": 17,
   "id": "945b49db",
   "metadata": {
    "ExecuteTime": {
     "end_time": "2021-09-13T03:34:13.490968Z",
     "start_time": "2021-09-13T03:34:13.485719Z"
    }
   },
   "outputs": [
    {
     "data": {
      "text/plain": [
       "['Chestnut Run Plaza 735',\n",
       " 'PO Box 80735',\n",
       " 'Wilmington, DE 19805-0735',\n",
       " 'United States']"
      ]
     },
     "execution_count": 17,
     "metadata": {},
     "output_type": "execute_result"
    }
   ],
   "source": [
    "total['agriculture']['CTVA']['location']"
   ]
  },
  {
   "cell_type": "code",
   "execution_count": 18,
   "id": "b264bc76",
   "metadata": {
    "ExecuteTime": {
     "end_time": "2021-09-13T03:34:21.037503Z",
     "start_time": "2021-09-13T03:34:21.033562Z"
    }
   },
   "outputs": [
    {
     "data": {
      "text/plain": [
       "'Delaware'"
      ]
     },
     "execution_count": 18,
     "metadata": {},
     "output_type": "execute_result"
    }
   ],
   "source": [
    "total['agriculture']['CTVA']['state']"
   ]
  },
  {
   "cell_type": "code",
   "execution_count": 9,
   "id": "97e03f1c",
   "metadata": {
    "ExecuteTime": {
     "end_time": "2021-05-19T23:19:18.646086Z",
     "start_time": "2021-05-19T23:19:17.530435Z"
    }
   },
   "outputs": [
    {
     "name": "stdout",
     "output_type": "stream",
     "text": [
      "Cray, Powys, Cymru / Wales, United Kingdom\n"
     ]
    }
   ],
   "source": [
    "from geopy.geocoders import Nominatim\n",
    "\n",
    "geolocator = Nominatim(user_agent=\"find state\")\n",
    "location = geolocator.geocode(\"Cray Business Plaza\")\n",
    "print(location.address)"
   ]
  },
  {
   "cell_type": "markdown",
   "id": "8a6cd0e3",
   "metadata": {},
   "source": [
    "# Store the data into json for each company"
   ]
  },
  {
   "cell_type": "code",
   "execution_count": 13,
   "id": "5278cc25",
   "metadata": {
    "ExecuteTime": {
     "end_time": "2021-09-07T07:33:48.922703Z",
     "start_time": "2021-09-07T07:33:44.269683Z"
    },
    "code_folding": []
   },
   "outputs": [],
   "source": [
    "for inds in total.keys():\n",
    "#     print(inds)\n",
    "    inds_path = os.path.join(data_path, inds)\n",
    "\n",
    "    for comp in total[inds].keydous():\n",
    "        file_name = comp + '.json'\n",
    "        file_path = os.path.join(inds_path, file_name)\n",
    "        with open(file_path, 'w') as file:\n",
    "            json.dump({comp:total[inds][comp]}, file)"
   ]
  },
  {
   "cell_type": "markdown",
   "id": "4050e09d",
   "metadata": {},
   "source": [
    "# Read the json"
   ]
  },
  {
   "cell_type": "code",
   "execution_count": 11,
   "id": "2be2708e",
   "metadata": {
    "ExecuteTime": {
     "end_time": "2021-05-19T23:19:20.656205Z",
     "start_time": "2021-05-19T23:19:20.383152Z"
    }
   },
   "outputs": [],
   "source": [
    "t = []\n",
    "for comp in total['agriculture'].keys():\n",
    "    file_name = comp + '.json'\n",
    "    file_path = os.path.join(inds_path, file_name)\n",
    "    with open(file_path, 'r') as file:\n",
    "        t.append(json.load(file))"
   ]
  },
  {
   "cell_type": "code",
   "execution_count": 12,
   "id": "6bd8c096",
   "metadata": {
    "ExecuteTime": {
     "end_time": "2021-05-19T23:19:20.660047Z",
     "start_time": "2021-05-19T23:19:20.657937Z"
    }
   },
   "outputs": [],
   "source": [
    "# pd.DataFrame.from_dict(t[0]['CTVA']['stock prices'])"
   ]
  }
 ],
 "metadata": {
  "hide_input": false,
  "kernelspec": {
   "display_name": "Python 3",
   "language": "python",
   "name": "python3"
  },
  "language_info": {
   "codemirror_mode": {
    "name": "ipython",
    "version": 3
   },
   "file_extension": ".py",
   "mimetype": "text/x-python",
   "name": "python",
   "nbconvert_exporter": "python",
   "pygments_lexer": "ipython3",
   "version": "3.7.10"
  },
  "latex_envs": {
   "LaTeX_envs_menu_present": true,
   "autoclose": false,
   "autocomplete": true,
   "bibliofile": "biblio.bib",
   "cite_by": "apalike",
   "current_citInitial": 1,
   "eqLabelWithNumbers": true,
   "eqNumInitial": 1,
   "hotkeys": {
    "equation": "Ctrl-E",
    "itemize": "Ctrl-I"
   },
   "labels_anchors": false,
   "latex_user_defs": false,
   "report_style_numbering": false,
   "user_envs_cfg": false
  },
  "toc": {
   "base_numbering": 1,
   "nav_menu": {},
   "number_sections": true,
   "sideBar": true,
   "skip_h1_title": false,
   "title_cell": "Table of Contents",
   "title_sidebar": "Contents",
   "toc_cell": false,
   "toc_position": {},
   "toc_section_display": true,
   "toc_window_display": false
  },
  "varInspector": {
   "cols": {
    "lenName": 16,
    "lenType": 16,
    "lenVar": 40
   },
   "kernels_config": {
    "python": {
     "delete_cmd_postfix": "",
     "delete_cmd_prefix": "del ",
     "library": "var_list.py",
     "varRefreshCmd": "print(var_dic_list())"
    },
    "r": {
     "delete_cmd_postfix": ") ",
     "delete_cmd_prefix": "rm(",
     "library": "var_list.r",
     "varRefreshCmd": "cat(var_dic_list()) "
    }
   },
   "types_to_exclude": [
    "module",
    "function",
    "builtin_function_or_method",
    "instance",
    "_Feature"
   ],
   "window_display": false
  }
 },
 "nbformat": 4,
 "nbformat_minor": 5
}
