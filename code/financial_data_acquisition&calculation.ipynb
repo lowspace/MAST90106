{
 "cells": [
  {
   "cell_type": "markdown",
   "metadata": {},
   "source": [
    "# 1. install libaries"
   ]
  },
  {
   "cell_type": "code",
   "execution_count": 20,
   "metadata": {},
   "outputs": [
    {
     "name": "stdout",
     "output_type": "stream",
     "text": [
      "Requirement already satisfied: requests in /Users/j/opt/anaconda3/lib/python3.7/site-packages (2.22.0)\n",
      "Requirement already satisfied: chardet<3.1.0,>=3.0.2 in /Users/j/opt/anaconda3/lib/python3.7/site-packages (from requests) (3.0.4)\n",
      "Requirement already satisfied: urllib3!=1.25.0,!=1.25.1,<1.26,>=1.21.1 in /Users/j/opt/anaconda3/lib/python3.7/site-packages (from requests) (1.24.2)\n",
      "Requirement already satisfied: idna<2.9,>=2.5 in /Users/j/opt/anaconda3/lib/python3.7/site-packages (from requests) (2.8)\n",
      "Requirement already satisfied: certifi>=2017.4.17 in /Users/j/opt/anaconda3/lib/python3.7/site-packages (from requests) (2019.9.11)\n",
      "Note: you may need to restart the kernel to use updated packages.\n"
     ]
    }
   ],
   "source": [
    "pip install requests"
   ]
  },
  {
   "cell_type": "code",
   "execution_count": 79,
   "metadata": {},
   "outputs": [
    {
     "name": "stdout",
     "output_type": "stream",
     "text": [
      "Requirement already satisfied: XBRL in /Users/j/opt/anaconda3/lib/python3.7/site-packages (0.0.1)\n",
      "Note: you may need to restart the kernel to use updated packages.\n"
     ]
    }
   ],
   "source": [
    "pip install XBRL"
   ]
  },
  {
   "cell_type": "code",
   "execution_count": 80,
   "metadata": {},
   "outputs": [
    {
     "name": "stdout",
     "output_type": "stream",
     "text": [
      "Collecting oauth2\n",
      "  Downloading https://files.pythonhosted.org/packages/a0/6f/86db603912ecd04109af952c38bc08928886cf0e34c723481fa7db98b4b5/oauth2-1.9.0.post1-py2.py3-none-any.whl\n",
      "Collecting httplib2 (from oauth2)\n",
      "\u001b[?25l  Downloading https://files.pythonhosted.org/packages/15/dc/d14bce03f4bfd0214b90a3f556d7c96f75bb94ad597c816a641b962f22e9/httplib2-0.19.1-py3-none-any.whl (95kB)\n",
      "\u001b[K     |████████████████████████████████| 102kB 8.1MB/s ta 0:00:01\n",
      "\u001b[?25hRequirement already satisfied: pyparsing<3,>=2.4.2 in /Users/j/opt/anaconda3/lib/python3.7/site-packages (from httplib2->oauth2) (2.4.2)\n",
      "Installing collected packages: httplib2, oauth2\n",
      "Successfully installed httplib2-0.19.1 oauth2-1.9.0.post1\n",
      "Note: you may need to restart the kernel to use updated packages.\n"
     ]
    }
   ],
   "source": [
    "pip install oauth2"
   ]
  },
  {
   "cell_type": "markdown",
   "metadata": {},
   "source": [
    "# 2. import libraries"
   ]
  },
  {
   "cell_type": "code",
   "execution_count": 8,
   "metadata": {},
   "outputs": [],
   "source": [
    "import requests"
   ]
  },
  {
   "cell_type": "code",
   "execution_count": 9,
   "metadata": {},
   "outputs": [],
   "source": [
    "import os, re, sys, json"
   ]
  },
  {
   "cell_type": "code",
   "execution_count": 10,
   "metadata": {},
   "outputs": [],
   "source": [
    "import pandas as pd"
   ]
  },
  {
   "cell_type": "code",
   "execution_count": 11,
   "metadata": {},
   "outputs": [],
   "source": [
    "import numpy as np"
   ]
  },
  {
   "cell_type": "code",
   "execution_count": 12,
   "metadata": {},
   "outputs": [],
   "source": [
    "import getpass"
   ]
  },
  {
   "cell_type": "code",
   "execution_count": null,
   "metadata": {},
   "outputs": [],
   "source": []
  },
  {
   "cell_type": "markdown",
   "metadata": {},
   "source": [
    "# 3. Authentication for xbrl token"
   ]
  },
  {
   "cell_type": "markdown",
   "metadata": {},
   "source": [
    "### 3.1. acess token"
   ]
  },
  {
   "cell_type": "code",
   "execution_count": 13,
   "metadata": {},
   "outputs": [
    {
     "name": "stdout",
     "output_type": "stream",
     "text": [
      "\n",
      "\n",
      "Your access token expires in 60 minutes. After it expires, run the cell immediately below this one to generate a new token and continue to use the query cell. \n",
      "\n",
      "For now, skip ahead to the section 'Make a Query'.\n"
     ]
    }
   ],
   "source": [
    "\"\"\"\n",
    "get access token from XBRL API\n",
    "\"\"\"\n",
    "# print('Enter XBRL US Web account email: ')\n",
    "email = 'jesse.c.jia@gmail.com'\n",
    "# print('Account password: ')\n",
    "password = 'QAZwsx123'\n",
    "# print('Client ID: ')\n",
    "clientid = 'bf3ba33f-e98b-4159-aea2-466445f9621f'\n",
    "# print('Client secret: ')\n",
    "secret = 'a3f87777-0086-4208-8d3b-df494408271e'\n",
    "\n",
    "body_auth = {'username' : ''.join(email), \n",
    "            'client_id': ''.join(clientid), \n",
    "            'client_secret' : ''.join(secret), \n",
    "            'password' : ''.join(password), \n",
    "            'grant_type' : 'password', \n",
    "            'platform' : 'ipynb' }\n",
    "endpoint_auth = 'https://api.xbrl.us/oauth2/token'\n",
    "res = requests.post(endpoint_auth, data=body_auth)\n",
    "auth_json = res.json()\n",
    "\n",
    "if 'error' in auth_json:\n",
    "        print (\"\\n\\nThere was a problem generating an access token with these credentials. Run the first cell again to enter credentials.\")\n",
    "else:\n",
    "        print (\"\\n\\nYour access token expires in 60 minutes. After it expires, run the cell immediately below this one to generate a new token and continue to use the query cell. \\n\\nFor now, skip ahead to the section 'Make a Query'.\")\n",
    "\n",
    "access_token = auth_json['access_token']\n",
    "refresh_token = auth_json['refresh_token']\n",
    "newaccess = ''\n",
    "newrefresh = ''\n",
    "    \n",
    "    "
   ]
  },
  {
   "cell_type": "markdown",
   "metadata": {},
   "source": [
    "### 3.2. refresh token"
   ]
  },
  {
   "cell_type": "code",
   "execution_count": 48,
   "metadata": {},
   "outputs": [
    {
     "name": "stdout",
     "output_type": "stream",
     "text": [
      "Your access token is refreshed for 60 minutes. If it expires again, run this cell to generate a new token and continue to use the query cells below.\n",
      "a490322d-46a1-4338-b1bb-21afbfc7681a\n"
     ]
    }
   ],
   "source": [
    "\"\"\"\n",
    "reconnect to XBRL API when expire\n",
    "\"\"\"\n",
    "token = token if newrefresh != '' else refresh_token \n",
    "\n",
    "refresh_auth = {'client_id': ''.join(clientid), \n",
    "            'client_secret' : ''.join(secret), \n",
    "            'grant_type' : 'refresh_token', \n",
    "            'platform' : 'ipynb', \n",
    "            'refresh_token' : ''.join(token) }\n",
    "refreshres = requests.post(endpoint_auth, data=refresh_auth)\n",
    "refresh_json = refreshres.json()\n",
    "access_token = refresh_json['access_token']\n",
    "refresh_token = refresh_json['refresh_token']#print('access token: ' + access_token + 'refresh token: ' + refresh_token)\n",
    "print('Your access token is refreshed for 60 minutes. If it expires again, run this cell to generate a new token and continue to use the query cells below.')\n",
    "print(access_token)"
   ]
  },
  {
   "cell_type": "markdown",
   "metadata": {},
   "source": [
    "# 4. Prepare Data"
   ]
  },
  {
   "cell_type": "markdown",
   "metadata": {},
   "source": [
    "### 4.1 Company CIK file"
   ]
  },
  {
   "cell_type": "code",
   "execution_count": 14,
   "metadata": {},
   "outputs": [],
   "source": [
    "\"\"\"\n",
    "get document path\n",
    "\"\"\"\n",
    "root_path = os.path.abspath(os.path.dirname(os.getcwd()))\n",
    "data_path = os.path.join(root_path, 'data')\n",
    "company_path = os.path.join(data_path, 'company')\n",
    "company_cik_path = os.path.join(company_path, 'CIK_Summary.csv')"
   ]
  },
  {
   "cell_type": "code",
   "execution_count": 15,
   "metadata": {},
   "outputs": [],
   "source": [
    "\"\"\"\n",
    "import company-cik file\n",
    "\"\"\"\n",
    "\n",
    "#read cik.csv as a pandas DataFrame\n",
    "ciksDF = pd.read_csv(company_cik_path, header=None)\n",
    "\n",
    "#set the column with all the tickers as the index\n",
    "ciksDF = ciksDF.set_index(0)"
   ]
  },
  {
   "cell_type": "code",
   "execution_count": 16,
   "metadata": {},
   "outputs": [],
   "source": [
    "#function to return CIK of a ticker\n",
    "def getCIK(ticker):\n",
    "    \"\"\"\n",
    "    input ticker\n",
    "    return respect cik\n",
    "    \"\"\"\n",
    "    try:\n",
    "        return int(ciksDF.loc[ticker.lower(), 1])\n",
    "\n",
    "    #return None there's no CIK for the ticker\n",
    "    except:\n",
    "        print(f\"{ticker} does not exist.\")\n",
    "        return None\n",
    "    \n",
    "    \n",
    "#function to return CIK of a list of tickers\n",
    "def outputcik(TICKERS): \n",
    "    \"\"\"\n",
    "    input ticker list\n",
    "    return cik repsectively in list\n",
    "    \"\"\"\n",
    "    cikDir = []\n",
    "    for ticker in TICKERS:\n",
    "        a = str(getCIK(ticker))\n",
    "        if a != 'None':\n",
    "            cik = a.zfill(10)\n",
    "            cikDir.append(cik)\n",
    "        else:\n",
    "            pass\n",
    "    return cikDir"
   ]
  },
  {
   "cell_type": "code",
   "execution_count": 17,
   "metadata": {},
   "outputs": [
    {
     "name": "stdout",
     "output_type": "stream",
     "text": [
      "uytuyfd does not exist.\n"
     ]
    },
    {
     "data": {
      "text/plain": [
       "['0001090872']"
      ]
     },
     "execution_count": 17,
     "metadata": {},
     "output_type": "execute_result"
    }
   ],
   "source": [
    "# test code\n",
    "lis = outputcik([\"uytuyfd\",\"a\"])\n",
    "lis"
   ]
  },
  {
   "cell_type": "markdown",
   "metadata": {},
   "source": [
    "### 4.2. Read Company List"
   ]
  },
  {
   "cell_type": "code",
   "execution_count": 18,
   "metadata": {},
   "outputs": [],
   "source": [
    "# company list\n",
    "\n",
    "company_list = [\"YTEN\", \"UAN\", \"CGA\", \"RKDA\", \"FMC\", \"MOS\", \"SEED\", \"CTVA\", \"MBII\", \"AVD\", \"ICL\", \"IPI\", \"NTR\", \"MGPI\", \"SMG\", \"CF\"]"
   ]
  },
  {
   "cell_type": "code",
   "execution_count": 19,
   "metadata": {},
   "outputs": [
    {
     "data": {
      "text/plain": [
       "16"
      ]
     },
     "execution_count": 19,
     "metadata": {},
     "output_type": "execute_result"
    }
   ],
   "source": [
    "len(company_list)"
   ]
  },
  {
   "cell_type": "markdown",
   "metadata": {},
   "source": [
    "### 4.3 convert company_name into cik"
   ]
  },
  {
   "cell_type": "code",
   "execution_count": 20,
   "metadata": {},
   "outputs": [],
   "source": [
    "# generate cik list\n",
    "cik_list = outputcik(company_list)"
   ]
  },
  {
   "cell_type": "code",
   "execution_count": 21,
   "metadata": {},
   "outputs": [],
   "source": [
    "# cik_list1 = cik_list.pop(2)"
   ]
  },
  {
   "cell_type": "code",
   "execution_count": 22,
   "metadata": {},
   "outputs": [
    {
     "data": {
      "text/plain": [
       "16"
      ]
     },
     "execution_count": 22,
     "metadata": {},
     "output_type": "execute_result"
    }
   ],
   "source": [
    "len(cik_list)"
   ]
  },
  {
   "cell_type": "code",
   "execution_count": 23,
   "metadata": {},
   "outputs": [
    {
     "data": {
      "text/plain": [
       "['0001121702',\n",
       " '0001425292',\n",
       " '0000857949',\n",
       " '0001469443',\n",
       " '0000037785',\n",
       " '0001285785',\n",
       " '0001321851',\n",
       " '0001755672',\n",
       " '0001441693',\n",
       " '0000005981',\n",
       " '0000941221',\n",
       " '0001421461',\n",
       " '0001725964',\n",
       " '0000835011',\n",
       " '0000825542',\n",
       " '0001324404']"
      ]
     },
     "execution_count": 23,
     "metadata": {},
     "output_type": "execute_result"
    }
   ],
   "source": [
    "cik_list"
   ]
  },
  {
   "cell_type": "markdown",
   "metadata": {},
   "source": [
    "### 4.4 financial data conceptual name"
   ]
  },
  {
   "cell_type": "code",
   "execution_count": 24,
   "metadata": {},
   "outputs": [],
   "source": [
    "# financial data with the conceptual name on SEC website respectively\n",
    "Financial_data_dic = {\n",
    "    \"revenue\" : \"RevenueFromContractWithCustomerExcludingAssessedTax\",\n",
    "    \"net_income\" : \"NetIncomeLoss\",\n",
    "    \"operating_income\" : \"OperatingIncomeLoss\", \n",
    "    \"asset\" : \"Assets\",\n",
    "    \"current_asset\" : \"AssetsCurrent\",\n",
    "    \"inventory\" : \"InventoryNet\",\n",
    "    \"current_liability\" : \"LiabilitiesCurrent\",\n",
    "    \"debt\" : \"LongTermDebtNoncurrent\",\n",
    "    \"equity\" : \"StockholdersEquity\",\n",
    "    \"eps\" : \"EarningsPerShareBasic\"\n",
    "}"
   ]
  },
  {
   "cell_type": "code",
   "execution_count": null,
   "metadata": {},
   "outputs": [],
   "source": []
  },
  {
   "cell_type": "markdown",
   "metadata": {},
   "source": [
    "# 5. Request data via XBRL"
   ]
  },
  {
   "cell_type": "code",
   "execution_count": 25,
   "metadata": {},
   "outputs": [],
   "source": [
    "def acquire_data(company_cik, financial_data):\n",
    "    \"\"\"\n",
    "    input company cik value and financial conceptual name on SEC\n",
    "    return data frame of financial value, year, entity name, and so on, (details see fiels list)\n",
    "    \"\"\"\n",
    "    \n",
    "    # Define the fields to be returned\n",
    "    fields = ['period.fiscal-year.sort(DESC)',\n",
    "              'period.end.sort(DESC)',\n",
    "              'entity.name.sort(ASC)',\n",
    "              'entity.cik.sort(ASC)',\n",
    "              'concept.local-name.sort(ASC)',\n",
    "              'fact.value',\n",
    "              'unit',\n",
    "              'report.filing-date']\n",
    "    \n",
    "    # Filter the query for specific XBRL elements (tags) to research\n",
    "    XBRL_Elements = [financial_data\n",
    "                ]\n",
    "    \n",
    "    # Filter companies for the query\n",
    "    companies_cik = [company_cik\n",
    "                ]\n",
    "    \n",
    "    # api parameters\n",
    "    params = {'fields': ','.join(fields),\n",
    "         'concept.local-name': ','.join(XBRL_Elements),\n",
    "         'entity.cik': ','.join(companies_cik),\n",
    "         #'period.fiscal-year': ','.join(years),\n",
    "         'period.fiscal-period': 'Y',\n",
    "         'fact.has-dimensions': 'FALSE',\n",
    "         'fact.ultimus': 'TRUE'\n",
    "         }\n",
    "    \n",
    "    search_endpoint = 'https://api.xbrl.us/api/v1/fact/search'\n",
    "    res = requests.get(search_endpoint, params=params, headers={'Authorization' : 'Bearer {}'.format(access_token)})\n",
    "    res_json = res.json()\n",
    "    res_df = pd.DataFrame(res_json['data'])\n",
    "    \n",
    "#     print(res_json['paging'])\n",
    "#     print(res_df)\n",
    "    return res_df"
   ]
  },
  {
   "cell_type": "code",
   "execution_count": 26,
   "metadata": {},
   "outputs": [],
   "source": [
    "def bigger(a, b):\n",
    "    if a >= b:\n",
    "        return a\n",
    "    else:\n",
    "        return b\n",
    "\n",
    "def smaller(a,b):\n",
    "    if a <= b:\n",
    "        return a\n",
    "    else:\n",
    "        return b\n"
   ]
  },
  {
   "cell_type": "code",
   "execution_count": 27,
   "metadata": {},
   "outputs": [
    {
     "data": {
      "text/plain": [
       "10"
      ]
     },
     "execution_count": 27,
     "metadata": {},
     "output_type": "execute_result"
    }
   ],
   "source": [
    "\n",
    "len(Financial_data_dic)"
   ]
  },
  {
   "cell_type": "code",
   "execution_count": 28,
   "metadata": {},
   "outputs": [],
   "source": [
    "# for cik in cik_list:\n",
    "#     #print(cik)\n",
    "#     cik_fin_value_df = df_empty = pd.DataFrame(columns=['A', 'B', 'C', 'D'])\n",
    "#     for k, v in Financial_data_dic.items():\n",
    "#         print(cik,v)\n",
    "#         temp_df = acquire_data(cik, v) asset\n",
    "#         print(temp_df)\n",
    "        \n",
    "\n",
    "\n"
   ]
  },
  {
   "cell_type": "code",
   "execution_count": 29,
   "metadata": {},
   "outputs": [],
   "source": [
    "def generate_financial_data(cik, Financial_data_dic):\n",
    "    \"\"\"\n",
    "    input company's cik value and financial item dic\n",
    "    acquire financial value through xrbl API,\n",
    "    calculate financial ratio and append in data frame\n",
    "    return a data frame with year, company name, financial ratios\n",
    "    \"\"\"\n",
    "    \n",
    "    # create a empty data frame for use\n",
    "    cik_fin_value_df = pd.DataFrame()\n",
    "    # cik = \"0001121702\"\n",
    "    for k, v in Financial_data_dic.items():\n",
    "        print(f\"current cik is {cik}, acquire {k}\")\n",
    "        \n",
    "        # return first financial values into df\n",
    "        if k == \"revenue\":\n",
    "            \n",
    "            cik_fin_value_df = acquire_data(cik, v)\n",
    "            if cik_fin_value_df.empty:\n",
    "                pass\n",
    "            else:\n",
    "                cik_fin_value_df.rename(columns = {\"fact.value\" : k}, inplace = True)\n",
    "                cik_fin_value_df[k] = pd.to_numeric(cik_fin_value_df[k])\n",
    "                cik_fin_value_df.drop(labels = \"concept.local-name\", axis = 1, inplace = True)\n",
    "                cik_fin_value_df.drop(labels = \"unit\", axis = 1, inplace = True)\n",
    "                cik_fin_value_df.drop(labels = \"report.filing-date\", axis = 1, inplace = True)\n",
    "\n",
    "    #         cik_fin_value_df.drop(labels = \"entity.name\", axis = 1, inplace = True)\n",
    "\n",
    "        \n",
    "        # create temp df, and acquire rest financial data, then concate with inital df\n",
    "        else:\n",
    "#             print(cik,k,v)\n",
    "            temp_df = acquire_data(cik, v)\n",
    "            if temp_df.empty:\n",
    "                temp_df[k] = np.NaN\n",
    "                cik_fin_value_df = pd.concat([cik_fin_value_df, temp_df], axis = 1)\n",
    "            else:\n",
    "                temp_df.rename(columns = {\"fact.value\" : k}, inplace = True)\n",
    "                temp_df[k] = pd.to_numeric(temp_df[k])\n",
    "\n",
    "                temp_df.drop(labels = \"concept.local-name\", axis = 1, inplace = True)\n",
    "    #             temp_df.drop(labels = \"period.end\", axis = 1, inplace = True)\n",
    "                temp_df.drop(labels = \"unit\", axis = 1, inplace = True)\n",
    "                temp_df.drop(labels = \"report.filing-date\", axis = 1, inplace = True)\n",
    "    #             temp_df.drop(labels = \"entity.name\", axis = 1, inplace = True)\n",
    "\n",
    "\n",
    "    #             if len(temp_df[\"period.end\"]) >= len(cik_fin_value_df[\"period.end\"]):\n",
    "    #                 cik_fin_value_df.drop(labels = \"period.end\", axis = 1, inplace = True)\n",
    "    #             else:\n",
    "                temp_df.drop(labels = \"period.end\", axis = 1, inplace = True)\n",
    "    \n",
    "                # keep the most company name column\n",
    "                try:\n",
    "                    if len(temp_df[\"entity.cik\"]) >= len(cik_fin_value_df[\"entity.cik\"]):\n",
    "                        cik_fin_value_df.drop(labels = \"entity.name\", axis = 1, inplace = True)\n",
    "                        cik_fin_value_df.drop(labels = \"entity.cik\", axis = 1, inplace = True)\n",
    "                    else:\n",
    "                        temp_df.drop(labels = \"entity.name\", axis = 1, inplace = True)\n",
    "                        temp_df.drop(labels = \"entity.cik\", axis = 1, inplace = True)\n",
    "                except:\n",
    "                    pass\n",
    "\n",
    "\n",
    "\n",
    "    #             cik_fin_value_df = pd.concat([cik_fin_value_df, temp_df], axis = 1)\n",
    "    #             cikabs_fin_value_df = pd.concat((cik_fin_value_df, temp_df), axis = 1, join = \"outer\")\n",
    "                try:\n",
    "                    cik_fin_value_df = pd.merge(cik_fin_value_df, temp_df, on = \"period.fiscal-year\", how = \"outer\")\n",
    "                except:\n",
    "                    pass\n",
    "    \n",
    "    # calculate financial ratios\n",
    "#     Ratios_calculator(cik_fin_value_df)\n",
    "    print(f\"{cik} fin data acquire compeleted.\")\n",
    "    \n",
    "    return cik_fin_value_df\n",
    "\n",
    "\n",
    "\n",
    "# cik_fin_value_df[\"ROA1\"] = cik_fin_value_df.apply(lambda x:x[\"net_income\"]/x[\"asset\"], axis = 1)\n",
    "# cik_fin_value_df[\"ROE1\"] = cik_fin_value_df.apply(lambda x:x[\"net_income\"]/x[\"equity\"], axis = 1)\n",
    "# cik_fin_value_df[\"ROC1\"] = cik_fin_value_df.apply(lambda x:(x[\"net_income\"] + x[\"debt\"])/x[\"asset\"], axis = 1)\n",
    "# cik_fin_value_df[\"OperatingMargin\"] = cik_fin_value_df.apply(lambda x:x[\"operating_income\"]/x[\"revenue\"], axis = 1)\n",
    "# cik_fin_value_df[\"NetMargin\"] = cik_fin_value_df.apply(lambda x:x[\"net_income\"]/x[\"revenue\"], axis = 1)\n",
    "# cik_fin_value_df[\"CurrentRatio\"] = cik_fin_value_df.apply(lambda x:x[\"current_asset\"]/x[\"current_liability\"], axis = 1)\n",
    "# cik_fin_value_df[\"QuickRatio\"] = cik_fin_value_df.apply(lambda x:(x[\"current_asset\"]-x[\"inventory\"])/x[\"current_liability\"], axis = 1)\n",
    "# cik_fin_value_df[\"DERatio\"] = cik_fin_value_df.apply(lambda x:x[\"debt\"]/x[\"equity\"], axis = 1)\n",
    "\n"
   ]
  },
  {
   "cell_type": "code",
   "execution_count": 30,
   "metadata": {},
   "outputs": [],
   "source": [
    "def ROA1(df):\n",
    "    df[\"ROA1\"] = df.apply(lambda x:x[\"net_income\"]/x[\"asset\"], axis = 1)\n",
    "\n",
    "def ROE1(df):\n",
    "    df[\"ROE1\"] = df.apply(lambda x:x[\"net_income\"]/x[\"equity\"], axis = 1)\n",
    "\n",
    "def ROC1(df):\n",
    "    df[\"ROC1\"] = df.apply(lambda x:(x[\"net_income\"] + x[\"debt\"])/x[\"asset\"], axis = 1)\n",
    "\n",
    "def Op_Margin(df):\n",
    "    df[\"OperatingMargin\"] = df.apply(lambda x:x[\"operating_income\"]/x[\"revenue\"], axis = 1)\n",
    "    \n",
    "def Net_Margin(df):\n",
    "    df[\"NetMargin\"] = df.apply(lambda x:x[\"net_income\"]/x[\"revenue\"], axis = 1)\n",
    "    \n",
    "def Current_Ratio(df):\n",
    "    df[\"CurrentRatio\"] = df.apply(lambda x:x[\"current_asset\"]/x[\"current_liability\"], axis = 1)\n",
    "\n",
    "def Quick_Ratio(df):\n",
    "    df[\"QuickRatio\"] = df.apply(lambda x:(x[\"current_asset\"]-x[\"inventory\"])/x[\"current_liability\"], axis = 1)\n",
    "\n",
    "def DE(df):\n",
    "    df[\"DERatio\"] = df.apply(lambda x:x[\"debt\"]/x[\"equity\"], axis = 1)\n"
   ]
  },
  {
   "cell_type": "code",
   "execution_count": 31,
   "metadata": {},
   "outputs": [],
   "source": [
    "def Ratios_calculator(df):\n",
    "    ROA1(df)\n",
    "    ROE1(df)\n",
    "    ROC1(df)\n",
    "    Op_Margin(df)\n",
    "    Net_Margin(df)\n",
    "    Current_Ratio(df)\n",
    "    Quick_Ratio(df)\n",
    "    DE(df)\n",
    "    \n",
    "    return df"
   ]
  },
  {
   "cell_type": "code",
   "execution_count": 32,
   "metadata": {},
   "outputs": [],
   "source": [
    "def generate_financial_ratio(cik, fin_data_dic, valid_list, invalid_list):\n",
    "    df = generate_financial_data(cik, fin_data_dic)\n",
    "    #print(cik)\n",
    "\n",
    "    try:\n",
    "        Ratios_calculator(df)\n",
    "        #print(df)\n",
    "        print(f\"{cik} fin ratios calculated\")\n",
    "        valid_list.append(cik)\n",
    "    except:\n",
    "        print(f\"{cik} has no ratios return\")\n",
    "        invalid_list.append(cik)\n",
    "        pass\n",
    "    \n",
    "    return df, valid_list, invalid_list"
   ]
  },
  {
   "cell_type": "code",
   "execution_count": 33,
   "metadata": {},
   "outputs": [],
   "source": [
    "def output_file(cik_list, fin_data_dic, industry):\n",
    "    industry_df = pd.DataFrame()\n",
    "    valid_company_list = []\n",
    "    invalid_company_list = []\n",
    "    for c in cik_list:\n",
    "        temp_df, valid_list, invalid_list = generate_financial_ratio(c, fin_data_dic, valid_company_list, invalid_company_list)\n",
    "        \n",
    "        industry_df = pd.concat([industry_df, temp_df], axis = 0)\n",
    "        \n",
    "#         print(f\"{c} has been added.\")\n",
    "    \n",
    "    industry_df.to_csv(f\"{data_path}/{industry}.csv\")\n",
    "    \n",
    "#     print(f\"The list cik companies have connection with SEC website: {valid_company_list}.\")\n",
    "#     print(f\"The list cik companies have no connection with SEC website, no value returned by using XBEL: {valid_company_list}.\")\n",
    "    \n",
    "    return industry_df, valid_company_list, invalid_company_list"
   ]
  },
  {
   "cell_type": "markdown",
   "metadata": {},
   "source": [
    "# 5. output process"
   ]
  },
  {
   "cell_type": "code",
   "execution_count": 34,
   "metadata": {},
   "outputs": [
    {
     "name": "stdout",
     "output_type": "stream",
     "text": [
      "current cik is 0001121702, acquire revenue\n",
      "current cik is 0001121702, acquire net_income\n",
      "current cik is 0001121702, acquire operating_income\n",
      "current cik is 0001121702, acquire asset\n",
      "current cik is 0001121702, acquire current_asset\n",
      "current cik is 0001121702, acquire inventory\n",
      "current cik is 0001121702, acquire current_liability\n",
      "current cik is 0001121702, acquire debt\n",
      "current cik is 0001121702, acquire equity\n",
      "current cik is 0001121702, acquire eps\n",
      "0001121702 fin data acquire compeleted.\n",
      "0001121702 fin ratios calculated\n",
      "current cik is 0001425292, acquire revenue\n",
      "current cik is 0001425292, acquire net_income\n",
      "current cik is 0001425292, acquire operating_income\n",
      "current cik is 0001425292, acquire asset\n",
      "current cik is 0001425292, acquire current_asset\n",
      "current cik is 0001425292, acquire inventory\n",
      "current cik is 0001425292, acquire current_liability\n",
      "current cik is 0001425292, acquire debt\n",
      "current cik is 0001425292, acquire equity\n",
      "current cik is 0001425292, acquire eps\n",
      "0001425292 fin data acquire compeleted.\n",
      "0001425292 fin ratios calculated\n",
      "current cik is 0000857949, acquire revenue\n"
     ]
    },
    {
     "name": "stderr",
     "output_type": "stream",
     "text": [
      "/Users/j/opt/anaconda3/lib/python3.7/site-packages/ipykernel_launcher.py:8: FutureWarning: Sorting because non-concatenation axis is not aligned. A future version\n",
      "of pandas will change to not sort by default.\n",
      "\n",
      "To accept the future behavior, pass 'sort=False'.\n",
      "\n",
      "To retain the current behavior and silence the warning, pass 'sort=True'.\n",
      "\n",
      "  \n"
     ]
    },
    {
     "name": "stdout",
     "output_type": "stream",
     "text": [
      "current cik is 0000857949, acquire net_income\n",
      "current cik is 0000857949, acquire operating_income\n",
      "current cik is 0000857949, acquire asset\n",
      "current cik is 0000857949, acquire current_asset\n",
      "current cik is 0000857949, acquire inventory\n",
      "current cik is 0000857949, acquire current_liability\n",
      "current cik is 0000857949, acquire debt\n",
      "current cik is 0000857949, acquire equity\n",
      "current cik is 0000857949, acquire eps\n",
      "0000857949 fin data acquire compeleted.\n",
      "0000857949 has no ratios return\n",
      "current cik is 0001469443, acquire revenue\n",
      "current cik is 0001469443, acquire net_income\n",
      "current cik is 0001469443, acquire operating_income\n",
      "current cik is 0001469443, acquire asset\n",
      "current cik is 0001469443, acquire current_asset\n",
      "current cik is 0001469443, acquire inventory\n",
      "current cik is 0001469443, acquire current_liability\n",
      "current cik is 0001469443, acquire debt\n",
      "current cik is 0001469443, acquire equity\n",
      "current cik is 0001469443, acquire eps\n",
      "0001469443 fin data acquire compeleted.\n",
      "0001469443 fin ratios calculated\n",
      "current cik is 0000037785, acquire revenue\n",
      "current cik is 0000037785, acquire net_income\n",
      "current cik is 0000037785, acquire operating_income\n",
      "current cik is 0000037785, acquire asset\n",
      "current cik is 0000037785, acquire current_asset\n",
      "current cik is 0000037785, acquire inventory\n",
      "current cik is 0000037785, acquire current_liability\n",
      "current cik is 0000037785, acquire debt\n",
      "current cik is 0000037785, acquire equity\n",
      "current cik is 0000037785, acquire eps\n",
      "0000037785 fin data acquire compeleted.\n",
      "0000037785 fin ratios calculated\n",
      "current cik is 0001285785, acquire revenue\n",
      "current cik is 0001285785, acquire net_income\n",
      "current cik is 0001285785, acquire operating_income\n",
      "current cik is 0001285785, acquire asset\n",
      "current cik is 0001285785, acquire current_asset\n",
      "current cik is 0001285785, acquire inventory\n",
      "current cik is 0001285785, acquire current_liability\n",
      "current cik is 0001285785, acquire debt\n",
      "current cik is 0001285785, acquire equity\n",
      "current cik is 0001285785, acquire eps\n",
      "0001285785 fin data acquire compeleted.\n",
      "0001285785 fin ratios calculated\n",
      "current cik is 0001321851, acquire revenue\n",
      "current cik is 0001321851, acquire net_income\n",
      "current cik is 0001321851, acquire operating_income\n",
      "current cik is 0001321851, acquire asset\n",
      "current cik is 0001321851, acquire current_asset\n",
      "current cik is 0001321851, acquire inventory\n",
      "current cik is 0001321851, acquire current_liability\n",
      "current cik is 0001321851, acquire debt\n",
      "current cik is 0001321851, acquire equity\n",
      "current cik is 0001321851, acquire eps\n",
      "0001321851 fin data acquire compeleted.\n",
      "0001321851 has no ratios return\n",
      "current cik is 0001755672, acquire revenue\n",
      "current cik is 0001755672, acquire net_income\n",
      "current cik is 0001755672, acquire operating_income\n",
      "current cik is 0001755672, acquire asset\n",
      "current cik is 0001755672, acquire current_asset\n",
      "current cik is 0001755672, acquire inventory\n",
      "current cik is 0001755672, acquire current_liability\n",
      "current cik is 0001755672, acquire debt\n",
      "current cik is 0001755672, acquire equity\n",
      "current cik is 0001755672, acquire eps\n",
      "0001755672 fin data acquire compeleted.\n",
      "0001755672 has no ratios return\n",
      "current cik is 0001441693, acquire revenue\n",
      "current cik is 0001441693, acquire net_income\n",
      "current cik is 0001441693, acquire operating_income\n",
      "current cik is 0001441693, acquire asset\n",
      "current cik is 0001441693, acquire current_asset\n",
      "current cik is 0001441693, acquire inventory\n",
      "current cik is 0001441693, acquire current_liability\n",
      "current cik is 0001441693, acquire debt\n",
      "current cik is 0001441693, acquire equity\n",
      "current cik is 0001441693, acquire eps\n",
      "0001441693 fin data acquire compeleted.\n",
      "0001441693 fin ratios calculated\n",
      "current cik is 0000005981, acquire revenue\n",
      "current cik is 0000005981, acquire net_income\n",
      "current cik is 0000005981, acquire operating_income\n",
      "current cik is 0000005981, acquire asset\n",
      "current cik is 0000005981, acquire current_asset\n",
      "current cik is 0000005981, acquire inventory\n",
      "current cik is 0000005981, acquire current_liability\n",
      "current cik is 0000005981, acquire debt\n",
      "current cik is 0000005981, acquire equity\n",
      "current cik is 0000005981, acquire eps\n",
      "0000005981 fin data acquire compeleted.\n",
      "0000005981 fin ratios calculated\n",
      "current cik is 0000941221, acquire revenue\n",
      "current cik is 0000941221, acquire net_income\n",
      "current cik is 0000941221, acquire operating_income\n",
      "current cik is 0000941221, acquire asset\n",
      "current cik is 0000941221, acquire current_asset\n",
      "current cik is 0000941221, acquire inventory\n",
      "current cik is 0000941221, acquire current_liability\n",
      "current cik is 0000941221, acquire debt\n",
      "current cik is 0000941221, acquire equity\n",
      "current cik is 0000941221, acquire eps\n",
      "0000941221 fin data acquire compeleted.\n",
      "0000941221 has no ratios return\n",
      "current cik is 0001421461, acquire revenue\n",
      "current cik is 0001421461, acquire net_income\n",
      "current cik is 0001421461, acquire operating_income\n",
      "current cik is 0001421461, acquire asset\n",
      "current cik is 0001421461, acquire current_asset\n",
      "current cik is 0001421461, acquire inventory\n",
      "current cik is 0001421461, acquire current_liability\n",
      "current cik is 0001421461, acquire debt\n",
      "current cik is 0001421461, acquire equity\n",
      "current cik is 0001421461, acquire eps\n",
      "0001421461 fin data acquire compeleted.\n",
      "0001421461 has no ratios return\n",
      "current cik is 0001725964, acquire revenue\n",
      "current cik is 0001725964, acquire net_income\n",
      "current cik is 0001725964, acquire operating_income\n",
      "current cik is 0001725964, acquire asset\n",
      "current cik is 0001725964, acquire current_asset\n",
      "current cik is 0001725964, acquire inventory\n",
      "current cik is 0001725964, acquire current_liability\n",
      "current cik is 0001725964, acquire debt\n",
      "current cik is 0001725964, acquire equity\n",
      "current cik is 0001725964, acquire eps\n",
      "0001725964 fin data acquire compeleted.\n",
      "0001725964 has no ratios return\n",
      "current cik is 0000835011, acquire revenue\n",
      "current cik is 0000835011, acquire net_income\n",
      "current cik is 0000835011, acquire operating_income\n",
      "current cik is 0000835011, acquire asset\n",
      "current cik is 0000835011, acquire current_asset\n",
      "current cik is 0000835011, acquire inventory\n",
      "current cik is 0000835011, acquire current_liability\n",
      "current cik is 0000835011, acquire debt\n",
      "current cik is 0000835011, acquire equity\n",
      "current cik is 0000835011, acquire eps\n",
      "0000835011 fin data acquire compeleted.\n",
      "0000835011 fin ratios calculated\n",
      "current cik is 0000825542, acquire revenue\n",
      "current cik is 0000825542, acquire net_income\n",
      "current cik is 0000825542, acquire operating_income\n",
      "current cik is 0000825542, acquire asset\n",
      "current cik is 0000825542, acquire current_asset\n",
      "current cik is 0000825542, acquire inventory\n",
      "current cik is 0000825542, acquire current_liability\n",
      "current cik is 0000825542, acquire debt\n",
      "current cik is 0000825542, acquire equity\n",
      "current cik is 0000825542, acquire eps\n",
      "0000825542 fin data acquire compeleted.\n",
      "0000825542 fin ratios calculated\n",
      "current cik is 0001324404, acquire revenue\n",
      "current cik is 0001324404, acquire net_income\n",
      "current cik is 0001324404, acquire operating_income\n",
      "current cik is 0001324404, acquire asset\n",
      "current cik is 0001324404, acquire current_asset\n",
      "current cik is 0001324404, acquire inventory\n",
      "current cik is 0001324404, acquire current_liability\n",
      "current cik is 0001324404, acquire debt\n",
      "current cik is 0001324404, acquire equity\n",
      "current cik is 0001324404, acquire eps\n",
      "0001324404 fin data acquire compeleted.\n",
      "0001324404 has no ratios return\n"
     ]
    }
   ],
   "source": [
    "indus, valid_company_list, invalid_company_list = output_file(cik_list, Financial_data_dic, \"agriculture\")"
   ]
  },
  {
   "cell_type": "code",
   "execution_count": 35,
   "metadata": {},
   "outputs": [
    {
     "name": "stdout",
     "output_type": "stream",
     "text": [
      "The list cik companies have connection with SEC website:\n",
      "0001121702\n",
      "0001425292\n",
      "0001469443\n",
      "0000037785\n",
      "0001285785\n",
      "0001441693\n",
      "0000005981\n",
      "0000835011\n",
      "0000825542\n"
     ]
    }
   ],
   "source": [
    "print(f\"The list cik companies have connection with SEC website:\")\n",
    "for cik in valid_company_list:\n",
    "    print(cik)\n"
   ]
  },
  {
   "cell_type": "code",
   "execution_count": 36,
   "metadata": {},
   "outputs": [
    {
     "name": "stdout",
     "output_type": "stream",
     "text": [
      "The list cik companies have no connection with SEC website, no return data via XBRL:\n",
      "0000857949\n",
      "0001321851\n",
      "0001755672\n",
      "0000941221\n",
      "0001421461\n",
      "0001725964\n",
      "0001324404\n"
     ]
    }
   ],
   "source": [
    "print(f\"The list cik companies have no connection with SEC website, no return data via XBRL:\")\n",
    "for cik in invalid_company_list:\n",
    "    print(cik)"
   ]
  },
  {
   "cell_type": "code",
   "execution_count": 37,
   "metadata": {},
   "outputs": [],
   "source": [
    "def save_csv(file, path, industry):\n",
    "    file.to_csv(f\"{path}/{industry}.csv\")\n",
    "    print(f\"{file} has been saved as csv.\")"
   ]
  },
  {
   "cell_type": "code",
   "execution_count": 38,
   "metadata": {},
   "outputs": [
    {
     "name": "stdout",
     "output_type": "stream",
     "text": [
      "    CurrentRatio   DERatio  NetMargin  OperatingMargin  QuickRatio      ROA1  \\\n",
      "0       5.701213       NaN -12.773467       -12.026283         NaN -0.702796   \n",
      "1       5.294064       NaN -16.074442       -10.665012         NaN -0.774973   \n",
      "2       3.886045       NaN -16.519784       -16.760791         NaN -0.708719   \n",
      "3       6.280842       NaN  -9.953390        -9.833686         NaN -0.556569   \n",
      "4       2.849891       NaN        NaN              NaN    2.849891 -0.707480   \n",
      "..           ...       ...        ...              ...         ...       ...   \n",
      "16      2.118011  1.414434        NaN              NaN    1.292147  0.081815   \n",
      "17      1.517508  0.571223        NaN              NaN    1.038545  0.094316   \n",
      "18      1.441464       NaN        NaN              NaN    0.835095  0.069051   \n",
      "19           NaN       NaN        NaN              NaN         NaN       NaN   \n",
      "20           NaN       NaN        NaN              NaN         NaN       NaN   \n",
      "\n",
      "        ROC1      ROE1         asset  current_asset  ...  entity.cik  \\\n",
      "0        NaN -1.070709  1.452200e+07   1.034200e+07  ...  0001121702   \n",
      "1        NaN  3.171603  1.671800e+07   1.168400e+07  ...  0001121702   \n",
      "2        NaN -1.611969  1.296000e+07   6.377000e+06  ...  0001121702   \n",
      "3        NaN -0.695897  1.688200e+07   1.491700e+07  ...  0001121702   \n",
      "4        NaN -1.193908  1.074800e+07   7.860000e+06  ...  0001121702   \n",
      "..       ...       ...           ...            ...  ...         ...   \n",
      "16  0.467644  0.299929  2.052200e+09   9.925000e+08  ...  0000825542   \n",
      "17  0.296118  0.266972  2.164000e+09   1.118100e+09  ...  0000825542   \n",
      "18       NaN  0.262275  2.220100e+09   1.090900e+09  ...  0000825542   \n",
      "19       NaN -0.024960           NaN            NaN  ...  0000825542   \n",
      "20       NaN       NaN           NaN            NaN  ...         NaN   \n",
      "\n",
      "                 entity.name   eps       equity    inventory   net_income  \\\n",
      "0   YIELD10 BIOSCIENCE, INC.   NaN    9532000.0          NaN  -10206000.0   \n",
      "1   YIELD10 BIOSCIENCE, INC.   NaN   -4085000.0          NaN  -12956000.0   \n",
      "2   YIELD10 BIOSCIENCE, INC.   NaN    5698000.0          NaN   -9185000.0   \n",
      "3   YIELD10 BIOSCIENCE, INC. -3.29   13502000.0          NaN   -9396000.0   \n",
      "4   YIELD10 BIOSCIENCE, INC. -2.73    6369000.0          0.0   -7604000.0   \n",
      "..                       ...   ...          ...          ...          ...   \n",
      "16     SCOTTS MIRACLE-GRO CO  2.60  559800000.0  387000000.0  167900000.0   \n",
      "17     SCOTTS MIRACLE-GRO CO  3.08  764500000.0  352900000.0  204100000.0   \n",
      "18     SCOTTS MIRACLE-GRO CO  2.36  584500000.0  458900000.0  153300000.0   \n",
      "19     SCOTTS MIRACLE-GRO CO -0.17  436700000.0          NaN  -10900000.0   \n",
      "20                       NaN   NaN  479300000.0          NaN          NaN   \n",
      "\n",
      "    operating_income  period.end  period.fiscal-year   revenue  \n",
      "0         -9609000.0  2021-01-01              2020.0  799000.0  \n",
      "1         -8596000.0  2020-01-01              2019.0  806000.0  \n",
      "2         -9319000.0  2019-01-01              2018.0  556000.0  \n",
      "3         -9283000.0  2018-01-01              2017.0  944000.0  \n",
      "4        -10248000.0         NaN              2016.0       NaN  \n",
      "..               ...         ...                 ...       ...  \n",
      "16       274800000.0         NaN              2011.0       NaN  \n",
      "17       374400000.0         NaN              2010.0       NaN  \n",
      "18       260500000.0         NaN              2009.0       NaN  \n",
      "19       139800000.0         NaN              2008.0       NaN  \n",
      "20               NaN         NaN              2007.0       NaN  \n",
      "\n",
      "[121 rows x 22 columns] has been saved as csv.\n"
     ]
    }
   ],
   "source": [
    "save_csv(indus, data_path, \"agriculture\")"
   ]
  },
  {
   "cell_type": "code",
   "execution_count": null,
   "metadata": {},
   "outputs": [],
   "source": []
  },
  {
   "cell_type": "code",
   "execution_count": null,
   "metadata": {},
   "outputs": [],
   "source": []
  },
  {
   "cell_type": "code",
   "execution_count": null,
   "metadata": {},
   "outputs": [],
   "source": []
  },
  {
   "cell_type": "code",
   "execution_count": null,
   "metadata": {},
   "outputs": [],
   "source": []
  },
  {
   "cell_type": "code",
   "execution_count": null,
   "metadata": {},
   "outputs": [],
   "source": []
  },
  {
   "cell_type": "code",
   "execution_count": null,
   "metadata": {},
   "outputs": [],
   "source": []
  },
  {
   "cell_type": "code",
   "execution_count": null,
   "metadata": {},
   "outputs": [],
   "source": []
  },
  {
   "cell_type": "code",
   "execution_count": null,
   "metadata": {},
   "outputs": [],
   "source": []
  },
  {
   "cell_type": "code",
   "execution_count": null,
   "metadata": {},
   "outputs": [],
   "source": []
  },
  {
   "cell_type": "code",
   "execution_count": null,
   "metadata": {},
   "outputs": [],
   "source": []
  },
  {
   "cell_type": "code",
   "execution_count": null,
   "metadata": {},
   "outputs": [],
   "source": []
  },
  {
   "cell_type": "code",
   "execution_count": null,
   "metadata": {},
   "outputs": [],
   "source": []
  },
  {
   "cell_type": "code",
   "execution_count": null,
   "metadata": {},
   "outputs": [],
   "source": []
  },
  {
   "cell_type": "code",
   "execution_count": null,
   "metadata": {},
   "outputs": [],
   "source": []
  },
  {
   "cell_type": "code",
   "execution_count": null,
   "metadata": {},
   "outputs": [],
   "source": []
  },
  {
   "cell_type": "code",
   "execution_count": null,
   "metadata": {},
   "outputs": [],
   "source": []
  },
  {
   "cell_type": "code",
   "execution_count": null,
   "metadata": {},
   "outputs": [],
   "source": []
  },
  {
   "cell_type": "code",
   "execution_count": null,
   "metadata": {},
   "outputs": [],
   "source": []
  },
  {
   "cell_type": "code",
   "execution_count": null,
   "metadata": {},
   "outputs": [],
   "source": []
  },
  {
   "cell_type": "code",
   "execution_count": null,
   "metadata": {},
   "outputs": [],
   "source": []
  },
  {
   "cell_type": "code",
   "execution_count": null,
   "metadata": {},
   "outputs": [],
   "source": []
  },
  {
   "cell_type": "code",
   "execution_count": null,
   "metadata": {},
   "outputs": [],
   "source": []
  },
  {
   "cell_type": "code",
   "execution_count": null,
   "metadata": {},
   "outputs": [],
   "source": []
  },
  {
   "cell_type": "code",
   "execution_count": null,
   "metadata": {},
   "outputs": [],
   "source": []
  },
  {
   "cell_type": "code",
   "execution_count": null,
   "metadata": {},
   "outputs": [],
   "source": []
  },
  {
   "cell_type": "code",
   "execution_count": null,
   "metadata": {},
   "outputs": [],
   "source": []
  },
  {
   "cell_type": "code",
   "execution_count": null,
   "metadata": {},
   "outputs": [],
   "source": []
  },
  {
   "cell_type": "code",
   "execution_count": null,
   "metadata": {},
   "outputs": [],
   "source": []
  },
  {
   "cell_type": "code",
   "execution_count": null,
   "metadata": {},
   "outputs": [],
   "source": []
  },
  {
   "cell_type": "code",
   "execution_count": null,
   "metadata": {},
   "outputs": [],
   "source": []
  },
  {
   "cell_type": "code",
   "execution_count": null,
   "metadata": {},
   "outputs": [],
   "source": []
  },
  {
   "cell_type": "code",
   "execution_count": null,
   "metadata": {},
   "outputs": [],
   "source": []
  },
  {
   "cell_type": "code",
   "execution_count": null,
   "metadata": {},
   "outputs": [],
   "source": []
  }
 ],
 "metadata": {
  "kernelspec": {
   "display_name": "Python 3",
   "language": "python",
   "name": "python3"
  },
  "language_info": {
   "codemirror_mode": {
    "name": "ipython",
    "version": 3
   },
   "file_extension": ".py",
   "mimetype": "text/x-python",
   "name": "python",
   "nbconvert_exporter": "python",
   "pygments_lexer": "ipython3",
   "version": "3.7.4"
  }
 },
 "nbformat": 4,
 "nbformat_minor": 2
}
