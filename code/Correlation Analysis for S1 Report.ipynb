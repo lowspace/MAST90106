{
 "cells": [
  {
   "cell_type": "markdown",
   "id": "40441760",
   "metadata": {
    "toc": true
   },
   "source": [
    "<h1>Table of Contents<span class=\"tocSkip\"></span></h1>\n",
    "<div class=\"toc\"><ul class=\"toc-item\"><li><span><a href=\"#Set-up\" data-toc-modified-id=\"Set-up-1\"><span class=\"toc-item-num\">1&nbsp;&nbsp;</span>Set up</a></span></li><li><span><a href=\"#Read-data\" data-toc-modified-id=\"Read-data-2\"><span class=\"toc-item-num\">2&nbsp;&nbsp;</span>Read data</a></span><ul class=\"toc-item\"><li><span><a href=\"#Read-financial-data\" data-toc-modified-id=\"Read-financial-data-2.1\"><span class=\"toc-item-num\">2.1&nbsp;&nbsp;</span>Read financial data</a></span></li><li><span><a href=\"#Read-temperature-data\" data-toc-modified-id=\"Read-temperature-data-2.2\"><span class=\"toc-item-num\">2.2&nbsp;&nbsp;</span>Read temperature data</a></span><ul class=\"toc-item\"><li><span><a href=\"#Montly-temp-differ-data\" data-toc-modified-id=\"Montly-temp-differ-data-2.2.1\"><span class=\"toc-item-num\">2.2.1&nbsp;&nbsp;</span>Montly temp differ data</a></span></li><li><span><a href=\"#Yearly-temp-differ-data\" data-toc-modified-id=\"Yearly-temp-differ-data-2.2.2\"><span class=\"toc-item-num\">2.2.2&nbsp;&nbsp;</span>Yearly temp differ data</a></span></li><li><span><a href=\"#Bushfire-data\" data-toc-modified-id=\"Bushfire-data-2.2.3\"><span class=\"toc-item-num\">2.2.3&nbsp;&nbsp;</span>Bushfire data</a></span></li></ul></li></ul></li><li><span><a href=\"#US-Average-Temp-difference-Correlation-Analysis\" data-toc-modified-id=\"US-Average-Temp-difference-Correlation-Analysis-3\"><span class=\"toc-item-num\">3&nbsp;&nbsp;</span>US Average Temp difference Correlation Analysis</a></span><ul class=\"toc-item\"><li><span><a href=\"#Monthly\" data-toc-modified-id=\"Monthly-3.1\"><span class=\"toc-item-num\">3.1&nbsp;&nbsp;</span>Monthly</a></span></li><li><span><a href=\"#Yearly\" data-toc-modified-id=\"Yearly-3.2\"><span class=\"toc-item-num\">3.2&nbsp;&nbsp;</span>Yearly</a></span></li></ul></li><li><span><a href=\"#Temp-difference-on-States\" data-toc-modified-id=\"Temp-difference-on-States-4\"><span class=\"toc-item-num\">4&nbsp;&nbsp;</span>Temp difference on States</a></span><ul class=\"toc-item\"><li><span><a href=\"#1-year\" data-toc-modified-id=\"1-year-4.1\"><span class=\"toc-item-num\">4.1&nbsp;&nbsp;</span>1 year</a></span></li><li><span><a href=\"#2-Year\" data-toc-modified-id=\"2-Year-4.2\"><span class=\"toc-item-num\">4.2&nbsp;&nbsp;</span>2 Year</a></span></li><li><span><a href=\"#3-Year\" data-toc-modified-id=\"3-Year-4.3\"><span class=\"toc-item-num\">4.3&nbsp;&nbsp;</span>3 Year</a></span></li></ul></li><li><span><a href=\"#Bushfires\" data-toc-modified-id=\"Bushfires-5\"><span class=\"toc-item-num\">5&nbsp;&nbsp;</span>Bushfires</a></span></li><li><span><a href=\"#ROA-Differ\" data-toc-modified-id=\"ROA-Differ-6\"><span class=\"toc-item-num\">6&nbsp;&nbsp;</span>ROA Differ</a></span></li><li><span><a href=\"#Appendix\" data-toc-modified-id=\"Appendix-7\"><span class=\"toc-item-num\">7&nbsp;&nbsp;</span>Appendix</a></span><ul class=\"toc-item\"><li><span><a href=\"#Person\" data-toc-modified-id=\"Person-7.1\"><span class=\"toc-item-num\">7.1&nbsp;&nbsp;</span>Person</a></span></li><li><span><a href=\"#Spearman\" data-toc-modified-id=\"Spearman-7.2\"><span class=\"toc-item-num\">7.2&nbsp;&nbsp;</span>Spearman</a></span></li><li><span><a href=\"#Kendall\" data-toc-modified-id=\"Kendall-7.3\"><span class=\"toc-item-num\">7.3&nbsp;&nbsp;</span>Kendall</a></span></li></ul></li></ul></div>"
   ]
  },
  {
   "cell_type": "markdown",
   "id": "23dd0f86",
   "metadata": {},
   "source": [
    "# Set up"
   ]
  },
  {
   "cell_type": "code",
   "execution_count": 5,
   "id": "eb1ce637",
   "metadata": {
    "ExecuteTime": {
     "end_time": "2021-05-24T19:42:59.622119Z",
     "start_time": "2021-05-24T19:42:58.086918Z"
    }
   },
   "outputs": [],
   "source": [
    "from scipy.stats import pearsonr\n",
    "from scipy.stats import spearmanr\n",
    "from scipy.stats import kendalltau\n",
    "\n",
    "import matplotlib.pyplot as plt\n",
    "\n",
    "import numpy as np\n",
    "import os\n",
    "import pandas as pd\n",
    "import json\n",
    "import re, datetime\n",
    "from geopy.geocoders import Nominatim"
   ]
  },
  {
   "cell_type": "markdown",
   "id": "22517530",
   "metadata": {},
   "source": [
    "# Read data"
   ]
  },
  {
   "cell_type": "markdown",
   "id": "06e9010f",
   "metadata": {},
   "source": [
    "## Read financial data"
   ]
  },
  {
   "cell_type": "code",
   "execution_count": 6,
   "id": "dcfd38f7",
   "metadata": {
    "ExecuteTime": {
     "end_time": "2021-05-24T19:43:03.929377Z",
     "start_time": "2021-05-24T19:43:03.621508Z"
    }
   },
   "outputs": [],
   "source": [
    "def toInt(l:list) -> list:\n",
    "    for i in range(len(l)):\n",
    "        l[i] = float(l[i])\n",
    "\n",
    "root_path = os.path.abspath(os.path.dirname(os.getcwd()))\n",
    "data_path = os.path.join(root_path, 'data')\n",
    "agr_path = os.path.join(data_path, 'agriculture')\n",
    "\n",
    "finc_data = []\n",
    "for file in os.listdir(agr_path):\n",
    "    if file.endswith('.json'):\n",
    "        file_path = os.path.join(agr_path, file)\n",
    "        with open(file_path, 'r') as file:\n",
    "            finc_data.append(json.load(file))\n",
    "        \n",
    "ROA1_data = {}\n",
    "ROA2_data = {}\n",
    "state_data = {}\n",
    "for i in finc_data:\n",
    "    for k, v in i.items():\n",
    "        try:\n",
    "            state_data[k] =  i[k]['state']\n",
    "            ROA1_data[k] = pd.DataFrame.from_dict(i[k]['ROA1']) \n",
    "            ROA2_data[k] = pd.DataFrame.from_dict(i[k]['ROA2']) \n",
    "        except:\n",
    "            pass"
   ]
  },
  {
   "cell_type": "code",
   "execution_count": 231,
   "id": "5d8900c2",
   "metadata": {
    "ExecuteTime": {
     "end_time": "2021-05-27T21:58:49.850337Z",
     "start_time": "2021-05-27T21:58:49.843105Z"
    }
   },
   "outputs": [
    {
     "name": "stdout",
     "output_type": "stream",
     "text": [
      "YTEN \t Yield10 Bioscience, Inc. \t \\url{http://www.yield10bio.com} \n",
      "\n",
      "AVD \t American Vanguard Corporation \t \\url{http://www.american-vanguard.com} \n",
      "\n",
      "IPI \t Intrepid Potash, Inc. \t \\url{http://www.intrepidpotash.com} \n",
      "\n",
      "MGPI \t MGP Ingredients, Inc. \t \\url{http://www.mgpingredients.com} \n",
      "\n",
      "SMG \t The Scotts Miracle-Gro Company \t \\url{http://www.scottsmiraclegro.com} \n",
      "\n",
      "FMC \t FMC Corporation \t \\url{http://www.fmc.com} \n",
      "\n",
      "MBII \t Marrone Bio Innovations, Inc. \t \\url{http://www.marronebio.com} \n",
      "\n",
      "UAN \t CVR Partners, LP \t \\url{http://www.cvrpartners.com} \n",
      "\n",
      "CF \t CF Industries Holdings, Inc. \t \\url{http://www.cfindustries.com} \n",
      "\n",
      "MOS \t The Mosaic Company \t \\url{http://www.mosaicco.com} \n",
      "\n"
     ]
    }
   ],
   "source": [
    "l = ['YTEN', \n",
    "'AVD', \n",
    "'IPI', \n",
    "'MGPI', \n",
    "'SMG', \n",
    "'FMC', \n",
    "'MBII', \n",
    "'UAN', \n",
    "'CF', \n",
    "'MOS', ]\n",
    "for c in l:\n",
    "    for i in finc_data:\n",
    "        for k, v in i.items():\n",
    "            if k == c:\n",
    "#                 print(k, i[k]['name'], \"\\url\"+'{'+i[k]['website']+'}', '\\n')\n",
    "                print(k, '\\t', i[k]['name'], '\\t', \"\\\\url\"+'{'+i[k]['website']+'}', '\\n')"
   ]
  },
  {
   "cell_type": "code",
   "execution_count": null,
   "id": "5190985d",
   "metadata": {
    "ExecuteTime": {
     "end_time": "2021-05-19T23:38:43.646419Z",
     "start_time": "2021-05-19T23:38:43.644682Z"
    },
    "code_folding": []
   },
   "outputs": [],
   "source": [
    "# transform dict to pd\n",
    "# pd.DataFrame.from_dict(finc_data[0]['RKDA']['stock prices']) "
   ]
  },
  {
   "cell_type": "code",
   "execution_count": null,
   "id": "39571fda",
   "metadata": {
    "ExecuteTime": {
     "end_time": "2021-05-22T04:29:58.665732Z",
     "start_time": "2021-05-22T04:29:58.647141Z"
    }
   },
   "outputs": [],
   "source": [
    "ROA2_data['MGPI']"
   ]
  },
  {
   "cell_type": "code",
   "execution_count": null,
   "id": "56190406",
   "metadata": {
    "ExecuteTime": {
     "end_time": "2021-05-19T23:47:08.293467Z",
     "start_time": "2021-05-19T23:47:08.274994Z"
    }
   },
   "outputs": [],
   "source": [
    "ROA_data['SMG']"
   ]
  },
  {
   "cell_type": "code",
   "execution_count": null,
   "id": "6b14f459",
   "metadata": {
    "ExecuteTime": {
     "end_time": "2021-05-19T23:47:56.708662Z",
     "start_time": "2021-05-19T23:47:56.693690Z"
    }
   },
   "outputs": [],
   "source": [
    "ROA_data['MOS']"
   ]
  },
  {
   "cell_type": "markdown",
   "id": "e6dcff7f",
   "metadata": {},
   "source": [
    "## Read temperature data"
   ]
  },
  {
   "cell_type": "markdown",
   "id": "4368505c",
   "metadata": {},
   "source": [
    "### Montly temp differ data"
   ]
  },
  {
   "cell_type": "code",
   "execution_count": 3,
   "id": "9377647b",
   "metadata": {
    "ExecuteTime": {
     "end_time": "2021-05-22T04:37:10.350987Z",
     "start_time": "2021-05-22T04:37:10.342471Z"
    }
   },
   "outputs": [],
   "source": [
    "climate_path = os.path.join(data_path, 'climate')\n",
    "climate_path = os.path.join(climate_path, 'US_temperature_data')\n",
    "\n",
    "file_name = 'monthly_temp_difference(1980-2013).csv'\n",
    "file_path = os.path.join(climate_path, file_name)\n",
    "temp_diff_montly_data = pd.read_csv(file_path)"
   ]
  },
  {
   "cell_type": "markdown",
   "id": "9fc9ae0c",
   "metadata": {},
   "source": [
    "rename the time_difference"
   ]
  },
  {
   "cell_type": "code",
   "execution_count": 4,
   "id": "a00eedc0",
   "metadata": {
    "ExecuteTime": {
     "end_time": "2021-05-22T04:37:11.911647Z",
     "start_time": "2021-05-22T04:37:11.906033Z"
    }
   },
   "outputs": [],
   "source": [
    "time_diff = []\n",
    "for i in temp_diff_montly_data[\"Time_Difference\"]:\n",
    "    i = i.split('-')\n",
    "    month = re.compile(r'(?<= )\\d+(?=])')\n",
    "    month = re.search(month, i[-1])[0] # get the month\n",
    "    i = month + '/31/' + i[0]\n",
    "    time_diff.append(i)\n",
    "temp_diff_montly_data[\"Time_Difference\"] = time_diff"
   ]
  },
  {
   "cell_type": "markdown",
   "id": "a031be63",
   "metadata": {},
   "source": [
    "### Yearly temp differ data"
   ]
  },
  {
   "cell_type": "code",
   "execution_count": 18,
   "id": "18379c5a",
   "metadata": {
    "ExecuteTime": {
     "end_time": "2021-05-24T19:45:50.591520Z",
     "start_time": "2021-05-24T19:45:50.584564Z"
    }
   },
   "outputs": [],
   "source": [
    "climate_path = os.path.join(data_path, 'climate')\n",
    "climate_path = os.path.join(climate_path, 'US_temperature_data')\n",
    "\n",
    "file_name = 'Yearly_temp_difference.csv'\n",
    "file_path = os.path.join(climate_path, file_name)\n",
    "temp_diff_yearly_data = pd.read_csv(file_path)"
   ]
  },
  {
   "cell_type": "markdown",
   "id": "37d42e66",
   "metadata": {},
   "source": [
    "### Bushfire data"
   ]
  },
  {
   "cell_type": "code",
   "execution_count": 297,
   "id": "c5e1cadc",
   "metadata": {
    "ExecuteTime": {
     "end_time": "2021-05-28T02:46:38.062705Z",
     "start_time": "2021-05-28T02:46:38.055537Z"
    }
   },
   "outputs": [],
   "source": [
    "climate_path = os.path.join(data_path, 'climate')\n",
    "\n",
    "file_name = 'Wildfire_data.csv'\n",
    "file_path = os.path.join(climate_path, file_name)\n",
    "bushfire_data = pd.read_csv(file_path)"
   ]
  },
  {
   "cell_type": "markdown",
   "id": "e3ee6ba8",
   "metadata": {},
   "source": [
    "# US Average Temp difference Correlation Analysis\n",
    "\n",
    "1. `SEED` = ROA varies a little\n",
    "2. cluster between ROA and temperature"
   ]
  },
  {
   "cell_type": "code",
   "execution_count": 292,
   "id": "5e7e2d92",
   "metadata": {
    "ExecuteTime": {
     "end_time": "2021-05-28T02:45:46.181706Z",
     "start_time": "2021-05-28T02:45:46.175533Z"
    }
   },
   "outputs": [],
   "source": [
    "def corr_ana(l1:list, l2:list, x, y):\n",
    "    assert len(roa_data) == len(temp_data)\n",
    "    if len(l1) > 2:\n",
    "        # Pearson correlation\n",
    "        pearson = pearsonr(l1, l2)[0]\n",
    "        p_p_value = pearsonr(l1, l2)[1]\n",
    "        # Spearman correlation\n",
    "        spearman = spearmanr(l1, l2)[0]\n",
    "        s_p_value = spearmanr(l1, l2)[1]\n",
    "        # Kendall correlation\n",
    "        tau, k_p_value = kendalltau(l1, l2)\n",
    "        # print the results\n",
    "        print(\"\"\"{pearson:.3f}({p_p_value:.3f})\\t{spearman:.3f}({s_p_value:.3f})\\t{kendall:.3f}({k_p_value:.3f})\n",
    "        \"\"\".format(comp = comp, pearson = pearson, p_p_value = p_p_value,\n",
    "                    spearman = spearman, s_p_value = s_p_value, \n",
    "                     kendall = tau, k_p_value = k_p_value, y = y))\n",
    "#         print(f'{pearson}({p_p_value}), {spearman}({s_p_value}), {tau}({k_p_value})')\n",
    "#         print(\"\"\"Correlation analysis between {comp} and {y}:\n",
    "#         Perason coefficient is {pearson:.3f} with {p_p_value:.3f} p-value.\n",
    "#         Spearman coefficient is {spearman:.3f} with {s_p_value:.3f} p-value.\n",
    "#         Kendall coefficient is {kendall:.3f} with {k_p_value:.3f} p-value.\n",
    "#         \"\"\".format(comp = comp, pearson = pearson, p_p_value = p_p_value,\n",
    "#                     spearman = spearman, s_p_value = s_p_value, \n",
    "#                      kendall = tau, k_p_value = k_p_value, y = y))\n",
    "        plt.scatter(l1, l2)\n",
    "        plt.xlabel(x)\n",
    "        plt.ylabel(y)\n",
    "        plt.show()\n",
    "    else:\n",
    "        pass\n",
    "#         print(\"\\nData Insufficient.\\n\")"
   ]
  },
  {
   "cell_type": "markdown",
   "id": "09f2053c",
   "metadata": {},
   "source": [
    "## Monthly"
   ]
  },
  {
   "cell_type": "code",
   "execution_count": 8,
   "id": "cb41a602",
   "metadata": {
    "ExecuteTime": {
     "end_time": "2021-05-22T04:37:19.831244Z",
     "start_time": "2021-05-22T04:37:19.582699Z"
    },
    "code_folding": []
   },
   "outputs": [
    {
     "ename": "NameError",
     "evalue": "name 'ROA_data' is not defined",
     "output_type": "error",
     "traceback": [
      "\u001b[0;31m---------------------------------------------------------------------------\u001b[0m",
      "\u001b[0;31mNameError\u001b[0m                                 Traceback (most recent call last)",
      "\u001b[0;32m<ipython-input-8-b71f0915b09f>\u001b[0m in \u001b[0;36m<module>\u001b[0;34m\u001b[0m\n\u001b[0;32m----> 1\u001b[0;31m \u001b[0;32mfor\u001b[0m \u001b[0mcomp\u001b[0m \u001b[0;32min\u001b[0m \u001b[0mROA_data\u001b[0m\u001b[0;34m.\u001b[0m\u001b[0mkeys\u001b[0m\u001b[0;34m(\u001b[0m\u001b[0;34m)\u001b[0m\u001b[0;34m:\u001b[0m\u001b[0;34m\u001b[0m\u001b[0;34m\u001b[0m\u001b[0m\n\u001b[0m\u001b[1;32m      2\u001b[0m     \u001b[0mroa_data\u001b[0m \u001b[0;34m=\u001b[0m \u001b[0;34m[\u001b[0m\u001b[0;34m]\u001b[0m\u001b[0;34m\u001b[0m\u001b[0;34m\u001b[0m\u001b[0m\n\u001b[1;32m      3\u001b[0m     \u001b[0mtemp_data\u001b[0m \u001b[0;34m=\u001b[0m \u001b[0;34m[\u001b[0m\u001b[0;34m]\u001b[0m\u001b[0;34m\u001b[0m\u001b[0;34m\u001b[0m\u001b[0m\n\u001b[1;32m      4\u001b[0m     \u001b[0;32mfor\u001b[0m \u001b[0mi\u001b[0m \u001b[0;32min\u001b[0m \u001b[0mROA_data\u001b[0m\u001b[0;34m[\u001b[0m\u001b[0mcomp\u001b[0m\u001b[0;34m]\u001b[0m\u001b[0;34m.\u001b[0m\u001b[0miloc\u001b[0m\u001b[0;34m[\u001b[0m\u001b[0;34m:\u001b[0m\u001b[0;34m,\u001b[0m\u001b[0mrange\u001b[0m\u001b[0;34m(\u001b[0m\u001b[0;36m1\u001b[0m\u001b[0;34m,\u001b[0m \u001b[0mROA_data\u001b[0m\u001b[0;34m[\u001b[0m\u001b[0mcomp\u001b[0m\u001b[0;34m]\u001b[0m\u001b[0;34m.\u001b[0m\u001b[0mshape\u001b[0m\u001b[0;34m[\u001b[0m\u001b[0;36m1\u001b[0m\u001b[0;34m]\u001b[0m\u001b[0;34m)\u001b[0m\u001b[0;34m]\u001b[0m\u001b[0;34m:\u001b[0m\u001b[0;34m\u001b[0m\u001b[0;34m\u001b[0m\u001b[0m\n\u001b[1;32m      5\u001b[0m \u001b[0;31m#         print(i)\u001b[0m\u001b[0;34m\u001b[0m\u001b[0;34m\u001b[0m\u001b[0;34m\u001b[0m\u001b[0m\n",
      "\u001b[0;31mNameError\u001b[0m: name 'ROA_data' is not defined"
     ]
    }
   ],
   "source": [
    "for comp in ROA_data.keys():\n",
    "    roa_data = []\n",
    "    temp_data = []\n",
    "    for i in ROA_data[comp].iloc[:,range(1, ROA_data[comp].shape[1])]:\n",
    "#         print(i)\n",
    "        try: \n",
    "            t = temp_diff_montly_data.loc[temp_diff_montly_data['Time_Difference'] == i]['Temperature_Difference']\n",
    "            t = t.values[0]\n",
    "            if t:\n",
    "                roa = ROA_data[comp][i].values[0]\n",
    "                roa = float(roa)\n",
    "                if roa and not np.isnan(roa): # to aviod nan value\n",
    "                    roa_data.append(roa)\n",
    "                    temp_data.append(t)\n",
    "        except:\n",
    "            pass\n",
    "        # try correlation analysis\n",
    "    corr_ana(roa_data, temp_data, 'ROA', 'Monthly Temp Diff')"
   ]
  },
  {
   "cell_type": "markdown",
   "id": "3a0c57cb",
   "metadata": {},
   "source": [
    "## Yearly"
   ]
  },
  {
   "cell_type": "code",
   "execution_count": null,
   "id": "648df728",
   "metadata": {
    "ExecuteTime": {
     "end_time": "2021-05-19T23:38:46.148857Z",
     "start_time": "2021-05-19T23:38:45.020798Z"
    }
   },
   "outputs": [],
   "source": [
    "for comp in ROA_data.keys(): \n",
    "    roa_data = []\n",
    "    temp_data = []\n",
    "    for i in ROA_data[comp].iloc[:,range(1, ROA_data[comp].shape[1])]:\n",
    "        year = i.split('/')[-1]\n",
    "        try: \n",
    "            t = temp_diff_yearly_data.loc[temp_diff_yearly_data['Year'] == int(year)]['Difference']\n",
    "            t = t.values[0]\n",
    "            if t:\n",
    "                roa = ROA_data[comp][i][0]\n",
    "                roa = float(roa)\n",
    "                if roa and not np.isnan(roa):\n",
    "                    roa_data.append(roa)\n",
    "                    temp_data.append(t)\n",
    "        except:\n",
    "            pass\n",
    "    corr_ana(roa_data, temp_data, 'ROA', 'Yearly Temp Diff')"
   ]
  },
  {
   "cell_type": "markdown",
   "id": "4090ea46",
   "metadata": {},
   "source": [
    "# Temp difference on States"
   ]
  },
  {
   "cell_type": "code",
   "execution_count": 20,
   "id": "25cfdbfe",
   "metadata": {
    "ExecuteTime": {
     "end_time": "2021-05-24T19:46:03.607229Z",
     "start_time": "2021-05-24T19:46:03.585631Z"
    }
   },
   "outputs": [],
   "source": [
    "# get us companies\n",
    "us_comps = []\n",
    "\n",
    "for comp in finc_data:\n",
    "    name = list(comp.keys())[0]\n",
    "    if comp[name]['location'][-1] == 'United States':\n",
    "        us_comps.append(comp)\n",
    "\n",
    "# read raw temp data\n",
    "climate_path = os.path.join(data_path, 'climate')\n",
    "climate_path = os.path.join(climate_path, 'US_temperature_data')\n",
    "file_name = 'original_temp_data.csv'\n",
    "file_path = os.path.join(climate_path, file_name)\n",
    "raw_temp_date = pd.read_csv(file_path)"
   ]
  },
  {
   "cell_type": "markdown",
   "id": "9f752ffc",
   "metadata": {},
   "source": [
    "Want I want = the pairs of (ROA, temp differ)\n",
    "\n",
    "The logic:\n",
    "\n",
    "1. get the state of the company\n",
    "2. get the state temperature \n",
    "3. according to the company's ROA date, get the timeline which helps us to find the corresponding temperature data\n",
    "4. temperature difference = current year avg. temp - the past *n* years avg. temp"
   ]
  },
  {
   "cell_type": "code",
   "execution_count": 131,
   "id": "37a6d0c4",
   "metadata": {
    "ExecuteTime": {
     "end_time": "2021-05-24T20:35:18.771185Z",
     "start_time": "2021-05-24T20:35:18.756961Z"
    }
   },
   "outputs": [],
   "source": [
    "def temp_diff_roa1_pairs(skip: int, comp):\n",
    "    \"\"\"\n",
    "    :i = the past n year(s)\n",
    "    :comp = comp\n",
    "    \"\"\"\n",
    "    state = state_data[comp] # get state\n",
    "    state_temp = raw_temp_date.loc[raw_temp_date['State'] == state] # get state temp date\n",
    "    state_temp = state_temp.set_index(\"Date\") # set Date as row index\n",
    "    \n",
    "    # get roa timeline\n",
    "    roa_time = []\n",
    "    for i in ROA1_data[comp].iloc[:,range(1, ROA1_data[comp].shape[1])]:\n",
    "        try:\n",
    "            i = i.split('/')\n",
    "            roa_time.append(datetime.date(int(i[-1]), int(i[0]), int(i[1])))\n",
    "        except:\n",
    "            pass\n",
    "        \n",
    "    # get temp timeline\n",
    "    state_temp_time = []\n",
    "    for i in state_temp.index.values:\n",
    "        i = i.split('/')\n",
    "        state_temp_time.append(datetime.date(int(i[0]), int(i[1]), int(i[2])))\n",
    "    \n",
    "    # get the roa interval\n",
    "    \n",
    "    # get the temp timeline \n",
    "    \n",
    "    temp_curr_avg = []\n",
    "    temp_past_avg = []\n",
    "    roa_index = []\n",
    "    # for each interval(elementc) in roa, we need to find the corresponding temp difference\n",
    "    # the corresponding temp difference = the current avg. temp - the avg. temp over past n years in the same interval\n",
    "    for roa in range(len(roa_time)):\n",
    "        now = roa_time[roa]\n",
    "        now_year = roa_time[roa].year\n",
    "        now_month = roa_time[roa].month\n",
    "        now_day = roa_time[roa].day\n",
    "        try: # use exisiting data to get the interval\n",
    "            past = roa_time[roa + 1]\n",
    "            past_year = roa_time[roa + 1].year\n",
    "            past_month = roa_time[roa + 1].month\n",
    "            past_day = roa_time[roa + 1].day\n",
    "        except: # assume the past year for the last element\n",
    "            past_year = now_year - 1\n",
    "            past_month = now_month\n",
    "            past_day = now_day\n",
    "            past = datetime.date(past_year, past_month, past_day)\n",
    "        temp_sum = 0\n",
    "        temp_count = 0\n",
    "        # get current year\n",
    "        for temp in range(len(state_temp_time)):\n",
    "            if past <= state_temp_time[temp] < now:\n",
    "                year = str(state_temp_time[temp].year)\n",
    "                month = str(state_temp_time[temp].month)\n",
    "                day = str(state_temp_time[temp].day)\n",
    "                timestamp = year + '/' + month + '/' + day\n",
    "                temp_sum += state_temp.loc[timestamp].values[0]\n",
    "                temp_count += 1       \n",
    "        if temp_count == 0:\n",
    "            continue\n",
    "        temp_curr_avg.append(temp_sum/temp_count)\n",
    "        temp_count = 0\n",
    "        # get the past year\n",
    "        for n in range(1, skip+1):\n",
    "            now_year -= n\n",
    "            past_year -= n\n",
    "            now = datetime.date(now_year, now_month, now_day)\n",
    "            past = datetime.date(past_year, past_month, past_day)\n",
    "            for temp in range(len(state_temp_time)):\n",
    "                if past <= state_temp_time[temp] < now:\n",
    "                    year = str(state_temp_time[temp].year)\n",
    "                    month = str(state_temp_time[temp].month)\n",
    "                    day = str(state_temp_time[temp].day)\n",
    "                    timestamp = year + '/' + month + '/' + day\n",
    "                    temp_sum += state_temp.loc[timestamp].values[0]\n",
    "                    temp_count += 1\n",
    "        temp_past_avg.append(temp_sum/temp_count)\n",
    "        roa_index.append(roa)\n",
    "    roa_data = []\n",
    "    count = 0\n",
    "    # get roa_data\n",
    "    for i in ROA1_data[comp].iloc[:,range(1, ROA1_data[comp].shape[1])]:\n",
    "        count += 1\n",
    "        if count in roa_index:\n",
    "            roa_data.append(float(ROA1_data[comp][i].values[0]))\n",
    "    # get temp difference\n",
    "    temp_diff = [a - b for a, b in zip(temp_curr_avg, temp_past_avg)]\n",
    "    return temp_diff, roa_data"
   ]
  },
  {
   "cell_type": "code",
   "execution_count": 132,
   "id": "66aaca3c",
   "metadata": {
    "ExecuteTime": {
     "end_time": "2021-05-24T20:35:25.418555Z",
     "start_time": "2021-05-24T20:35:25.404408Z"
    }
   },
   "outputs": [],
   "source": [
    "def temp_diff_roa2_pairs(skip: int, comp):\n",
    "    \"\"\"\n",
    "    :i = the past n year(s)\n",
    "    :comp = comp\n",
    "    \"\"\"\n",
    "    state = state_data[comp] # get state\n",
    "    state_temp = raw_temp_date.loc[raw_temp_date['State'] == state] # get state temp date\n",
    "    state_temp = state_temp.set_index(\"Date\") # set Date as row index\n",
    "    \n",
    "    # get roa timeline\n",
    "    roa_time = []\n",
    "    for i in ROA2_data[comp].iloc[:,range(1, ROA2_data[comp].shape[1])]:\n",
    "        try:\n",
    "            i = i.split('/')\n",
    "            roa_time.append(datetime.date(int(i[-1]), int(i[0]), int(i[1])))\n",
    "        except:\n",
    "            pass\n",
    "        \n",
    "    # get temp timeline\n",
    "    state_temp_time = []\n",
    "    for i in state_temp.index.values:\n",
    "        i = i.split('/')\n",
    "        state_temp_time.append(datetime.date(int(i[0]), int(i[1]), int(i[2])))\n",
    "    \n",
    "    # get the roa interval\n",
    "    \n",
    "    # get the temp timeline \n",
    "    \n",
    "    temp_curr_avg = []\n",
    "    temp_past_avg = []\n",
    "    roa_index = []\n",
    "    # for each interval(elementc) in roa, we need to find the corresponding temp difference\n",
    "    # the corresponding temp difference = the current avg. temp - the avg. temp over past n years in the same interval\n",
    "    for roa in range(len(roa_time)):\n",
    "        now = roa_time[roa]\n",
    "        now_year = roa_time[roa].year\n",
    "        now_month = roa_time[roa].month\n",
    "        now_day = roa_time[roa].day\n",
    "        try: # use exisiting data to get the interval\n",
    "            past = roa_time[roa + 1]\n",
    "            past_year = roa_time[roa + 1].year\n",
    "            past_month = roa_time[roa + 1].month\n",
    "            past_day = roa_time[roa + 1].day\n",
    "        except: # assume the past year for the last element\n",
    "            past_year = now_year - 1\n",
    "            past_month = now_month\n",
    "            past_day = now_day\n",
    "            past = datetime.date(past_year, past_month, past_day)\n",
    "        temp_sum = 0\n",
    "        temp_count = 0\n",
    "        # get current year\n",
    "        for temp in range(len(state_temp_time)):\n",
    "            if past <= state_temp_time[temp] < now:\n",
    "                year = str(state_temp_time[temp].year)\n",
    "                month = str(state_temp_time[temp].month)\n",
    "                day = str(state_temp_time[temp].day)\n",
    "                timestamp = year + '/' + month + '/' + day\n",
    "                temp_sum += state_temp.loc[timestamp].values[0]\n",
    "                temp_count += 1       \n",
    "        if temp_count == 0:\n",
    "            continue\n",
    "        temp_curr_avg.append(temp_sum/temp_count)\n",
    "        temp_count = 0\n",
    "        # get the past year\n",
    "        for n in range(1, skip+1):\n",
    "            now_year -= n\n",
    "            past_year -= n\n",
    "            now = datetime.date(now_year, now_month, now_day)\n",
    "            past = datetime.date(past_year, past_month, past_day)\n",
    "            for temp in range(len(state_temp_time)):\n",
    "                if past <= state_temp_time[temp] < now:\n",
    "                    year = str(state_temp_time[temp].year)\n",
    "                    month = str(state_temp_time[temp].month)\n",
    "                    day = str(state_temp_time[temp].day)\n",
    "                    timestamp = year + '/' + month + '/' + day\n",
    "                    temp_sum += state_temp.loc[timestamp].values[0]\n",
    "                    temp_count += 1\n",
    "        temp_past_avg.append(temp_sum/temp_count)\n",
    "        roa_index.append(roa)\n",
    "    roa_data = []\n",
    "    count = 0\n",
    "    # get roa_data\n",
    "    for i in ROA2_data[comp].iloc[:,range(1, ROA2_data[comp].shape[1])]:\n",
    "        count += 1\n",
    "        if count in roa_index:\n",
    "            roa_data.append(float(ROA2_data[comp][i].values[0]))\n",
    "    # get temp difference\n",
    "    temp_diff = [a - b for a, b in zip(temp_curr_avg, temp_past_avg)]\n",
    "    return temp_diff, roa_data"
   ]
  },
  {
   "cell_type": "markdown",
   "id": "2dd0589a",
   "metadata": {},
   "source": [
    "## 1 year"
   ]
  },
  {
   "cell_type": "code",
   "execution_count": 244,
   "id": "288e1ad9",
   "metadata": {
    "ExecuteTime": {
     "end_time": "2021-05-28T01:30:41.049904Z",
     "start_time": "2021-05-28T01:30:35.911887Z"
    },
    "code_folding": []
   },
   "outputs": [
    {
     "name": "stdout",
     "output_type": "stream",
     "text": [
      "'YTEN', \n",
      "'YTEN', \n",
      "'YTEN', \n",
      "'AVD', \n",
      "'AVD', \n",
      "'AVD', \n",
      "'IPI', \n",
      "'IPI', \n",
      "'IPI', \n",
      "'MGPI', \n",
      "'MGPI', \n",
      "'MGPI', \n",
      "'SMG', \n",
      "'SMG', \n",
      "'SMG', \n",
      "'FMC', \n",
      "'FMC', \n",
      "'FMC', \n",
      "'MBII', \n",
      "'MBII', \n",
      "'MBII', \n",
      "'UAN', \n",
      "'UAN', \n",
      "'UAN', \n",
      "'CF', \n",
      "'CF', \n",
      "'CF', \n",
      "'MOS', \n",
      "'MOS', \n",
      "'MOS', \n",
      "0.66 0.34 0.67 0.33 0.58 0.53\n"
     ]
    }
   ],
   "source": [
    "roa1 = 0\n",
    "roa2 = 0\n",
    "roa1p = 0 \n",
    "roa2p = 0 \n",
    "roa1awe = 0\n",
    "roa2awe = 0\n",
    "\n",
    "for comp in ROA1_data.keys(): \n",
    "    for i in range(1, 4):\n",
    "        temp_data, roa_data = temp_diff_roa1_pairs(i, comp)\n",
    "        c1, p1 = corr_ana(roa_data, temp_data, 'ROA1', 'Yearly Temp Diff')\n",
    "        temp_data, roa_data = temp_diff_roa2_pairs(i, comp)\n",
    "        c2, p2 = corr_ana(roa_data, temp_data, 'ROA2', 'Yearly Temp Diff')\n",
    "        if c1 == [0,0,0]:\n",
    "            continue\n",
    "        print(f\"'{comp}', \")\n",
    "        for i in range(3):\n",
    "            if abs(c1[i]) > abs(c2[i]):\n",
    "                roa1 += 1\n",
    "            else:\n",
    "                roa2 += 1\n",
    "            if p1 < p2:\n",
    "                roa1p += 1\n",
    "            else:\n",
    "                roa2p += 1\n",
    "            if abs(c1[i]) > abs(c2[i]) and p1 < p2:\n",
    "                roa1awe += 1\n",
    "            elif abs(c1[i]) < abs(c2[i]) and p1 > p2:\n",
    "                roa2awe += 1\n",
    "print('{:.2f} {:.2f} {:.2f} {:.2f} {:.2f} {:.2f}'.format(roa1/90, roa2/90, roa1p/90, roa2p/90, roa1awe/90, roa2awe/30))\n",
    "\n"
   ]
  },
  {
   "cell_type": "code",
   "execution_count": 280,
   "id": "36ed64ae",
   "metadata": {
    "ExecuteTime": {
     "end_time": "2021-05-28T02:29:14.237272Z",
     "start_time": "2021-05-28T02:29:14.230108Z"
    }
   },
   "outputs": [],
   "source": [
    "def corr_ana(l1:list, l2:list, x, y):\n",
    "    assert len(roa_data) == len(temp_data)\n",
    "    if len(l1) > 2:\n",
    "        # Pearson correlation\n",
    "        pearson = pearsonr(l1, l2)[0]\n",
    "        p_p_value = pearsonr(l1, l2)[1]\n",
    "        # Spearman correlation\n",
    "        spearman = spearmanr(l1, l2)[0]\n",
    "        s_p_value = spearmanr(l1, l2)[1]\n",
    "        # Kendall correlation\n",
    "        tau, k_p_value = kendalltau(l1, l2)\n",
    "        # print the results\n",
    "        print(\"\"\"{pearson:.3f}({p_p_value:.3f})\\t{spearman:.3f}({s_p_value:.3f})\\t{kendall:.3f}({k_p_value:.3f})\n",
    "        \"\"\".format(comp = comp, pearson = pearson, p_p_value = p_p_value,\n",
    "                    spearman = spearman, s_p_value = s_p_value, \n",
    "                     kendall = tau, k_p_value = k_p_value, y = y))\n",
    "#         print(f'{pearson}({p_p_value}), {spearman}({s_p_value}), {tau}({k_p_value})')\n",
    "#         print(\"\"\"Correlation analysis between {comp} and {y}:\n",
    "#         Perason coefficient is {pearson:.3f} with {p_p_value:.3f} p-value.\n",
    "#         Spearman coefficient is {spearman:.3f} with {s_p_value:.3f} p-value.\n",
    "#         Kendall coefficient is {kendall:.3f} with {k_p_value:.3f} p-value.\n",
    "#         \"\"\".format(comp = comp, pearson = pearson, p_p_value = p_p_value,\n",
    "#                     spearman = spearman, s_p_value = s_p_value, \n",
    "#                      kendall = tau, k_p_value = k_p_value, y = y))\n",
    "        plt.scatter(l1, l2)\n",
    "        plt.xlabel(x)\n",
    "        plt.ylabel(y)\n",
    "        title = f'The Scatter Plot between {comp} {x} and {y}'\n",
    "        plt.title(title)\n",
    "        plt.show()\n",
    "        coe = [pearson, spearman, tau]\n",
    "        p_value = [p_p_value, s_p_value, k_p_value]\n",
    "        return coe, p_value\n",
    "    else:\n",
    "        return [0, 0, 0], [0, 0, 0]\n",
    "#         print(\"\\nData Insufficient.\\n\")"
   ]
  },
  {
   "cell_type": "code",
   "execution_count": null,
   "id": "c02e32fa",
   "metadata": {},
   "outputs": [],
   "source": [
    "temp_data, roa_data = temp_diff_roa1_diff_pairs(4, 4, comp)\n",
    "corr_ana(roa_data, temp_data, 'ROA', 'Yearly Temp Diff')\n",
    "temp_data, roa_data = temp_diff_roa2_diff_pairs(4, 4, comp)\n",
    "corr_ana(roa_data, temp_data, 'ROA', 'Yearly Temp Diff')"
   ]
  },
  {
   "cell_type": "code",
   "execution_count": 263,
   "id": "51d68aad",
   "metadata": {
    "ExecuteTime": {
     "end_time": "2021-05-28T02:02:11.293742Z",
     "start_time": "2021-05-28T02:02:06.452383Z"
    }
   },
   "outputs": [
    {
     "name": "stdout",
     "output_type": "stream",
     "text": [
      "'YTEN', \n",
      "'YTEN', \n",
      "'YTEN', \n",
      "'AVD', \n",
      "'AVD', \n",
      "'AVD', \n",
      "'IPI', \n",
      "'IPI', \n",
      "'IPI', \n",
      "'MGPI', \n",
      "'MGPI', \n",
      "'MGPI', \n",
      "'SMG', \n",
      "'SMG', \n",
      "'SMG', \n",
      "'FMC', \n",
      "'FMC', \n",
      "'FMC', \n",
      "'UAN', \n",
      "'UAN', \n",
      "'UAN', \n",
      "'CF', \n",
      "'CF', \n",
      "'CF', \n",
      "'MOS', \n",
      "'MOS', \n",
      "'MOS', \n",
      "0.49 0.51 0.37 0.63 0.22 0.93\n"
     ]
    }
   ],
   "source": [
    "roa1 = 0\n",
    "roa2 = 0\n",
    "roa1p = 0 \n",
    "roa2p = 0 \n",
    "roa1awe = 0\n",
    "roa2awe = 0\n",
    "count = 0 \n",
    "\n",
    "for comp in ROA1_data.keys(): \n",
    "    for i in range(1, 4):\n",
    "        temp_data, roa_data = temp_diff_roa1_diff_pairs(i, 3, comp)\n",
    "        c1, p1 = corr_ana(roa_data, temp_data, 'ROA1', 'Yearly Temp Diff')\n",
    "        temp_data, roa_data = temp_diff_roa2_diff_pairs(i, 3, comp)\n",
    "        c2, p2 = corr_ana(roa_data, temp_data, 'ROA2', 'Yearly Temp Diff')\n",
    "        if c1 == [0,0,0]:\n",
    "            continue\n",
    "        print(f\"'{comp}', \")\n",
    "        for i in range(3):\n",
    "            count += 1\n",
    "            if abs(c1[i]) > abs(c2[i]):\n",
    "                roa1 += 1\n",
    "            else:\n",
    "                roa2 += 1\n",
    "            if p1 < p2:\n",
    "                roa1p += 1\n",
    "            else:\n",
    "                roa2p += 1\n",
    "            if abs(c1[i]) > abs(c2[i]) and p1 < p2:\n",
    "                roa1awe += 1\n",
    "            elif abs(c1[i]) < abs(c2[i]) and p1 > p2:\n",
    "                roa2awe += 1\n",
    "print('{:.2f} {:.2f} {:.2f} {:.2f} {:.2f} {:.2f}'.format(roa1/count, roa2/count, roa1p/count, roa2p/count, roa1awe/count, roa2awe/30))\n",
    "\n"
   ]
  },
  {
   "cell_type": "code",
   "execution_count": 284,
   "id": "cd2e1f2a",
   "metadata": {
    "ExecuteTime": {
     "end_time": "2021-05-28T02:32:30.971857Z",
     "start_time": "2021-05-28T02:32:30.552073Z"
    }
   },
   "outputs": [
    {
     "name": "stdout",
     "output_type": "stream",
     "text": [
      "IPI\n",
      "0.030(0.962)\t0.000(1.000)\t-0.200(0.817)\n",
      "        \n"
     ]
    },
    {
     "data": {
      "image/png": "[encoded data removed]",
      "text/plain": [
       "<Figure size 432x288 with 1 Axes>"
      ]
     },
     "metadata": {
      "needs_background": "light"
     },
     "output_type": "display_data"
    },
    {
     "name": "stdout",
     "output_type": "stream",
     "text": [
      "-0.978(0.022)\t-1.000(0.000)\t-1.000(0.083)\n",
      "        \n"
     ]
    },
    {
     "data": {
      "image/png": "[encoded data removed]",
      "text/plain": [
       "<Figure size 432x288 with 1 Axes>"
      ]
     },
     "metadata": {
      "needs_background": "light"
     },
     "output_type": "display_data"
    },
    {
     "data": {
      "text/plain": [
       "([-0.9779288548211187, -1.0, -1.0],\n",
       " [0.022071145178881313, 0.0, 0.08333333333333333])"
      ]
     },
     "execution_count": 284,
     "metadata": {},
     "output_type": "execute_result"
    }
   ],
   "source": [
    "comp = 'IPI'\n",
    "print(comp)\n",
    "temp_data, roa_data = temp_diff_roa1_diff_pairs(2, 3, comp)\n",
    "corr_ana(roa_data, temp_data, '3 Year ROA1 Diff', '2 Year Temp Diff')\n",
    "temp_data, roa_data = temp_diff_roa2_diff_pairs(2, 3, comp)\n",
    "corr_ana(roa_data, temp_data, '3 Year ROA2 Diff', '2 Year Temp Diff')"
   ]
  },
  {
   "cell_type": "code",
   "execution_count": 185,
   "id": "9708eb22",
   "metadata": {
    "ExecuteTime": {
     "end_time": "2021-05-27T21:27:39.549093Z",
     "start_time": "2021-05-27T21:27:39.209013Z"
    }
   },
   "outputs": [
    {
     "name": "stdout",
     "output_type": "stream",
     "text": [
      "YTEN\n",
      "-0.467(0.173)\t-0.442(0.200)\t-0.333(0.216)\n",
      "        \n"
     ]
    },
    {
     "data": {
      "image/png": "[encoded data removed]",
      "text/plain": [
       "<Figure size 432x288 with 1 Axes>"
      ]
     },
     "metadata": {
      "needs_background": "light"
     },
     "output_type": "display_data"
    },
    {
     "name": "stdout",
     "output_type": "stream",
     "text": [
      "-0.652(0.041)\t-0.588(0.074)\t-0.467(0.073)\n",
      "        \n"
     ]
    },
    {
     "data": {
      "image/png": "[encoded data removed]",
      "text/plain": [
       "<Figure size 432x288 with 1 Axes>"
      ]
     },
     "metadata": {
      "needs_background": "light"
     },
     "output_type": "display_data"
    }
   ],
   "source": [
    "comp = 'YTEN'\n",
    "print(comp)\n",
    "temp_data, roa_data = temp_diff_roa1_pairs(1, comp)\n",
    "corr_ana(roa_data, temp_data, 'ROA1', '1 Year Temp Diff')\n",
    "temp_data, roa_data = temp_diff_roa2_pairs(1, comp)\n",
    "corr_ana(roa_data, temp_data, 'ROA2', '1 Year Temp Diff')"
   ]
  },
  {
   "cell_type": "markdown",
   "id": "33eb6224",
   "metadata": {},
   "source": [
    "## 2 Year"
   ]
  },
  {
   "cell_type": "code",
   "execution_count": 144,
   "id": "d8c7ed9f",
   "metadata": {
    "ExecuteTime": {
     "end_time": "2021-05-24T20:56:54.043506Z",
     "start_time": "2021-05-24T20:56:52.252456Z"
    }
   },
   "outputs": [
    {
     "name": "stdout",
     "output_type": "stream",
     "text": [
      "RKDA\n",
      "YTEN\n",
      "-0.366(0.298)\t-0.309(0.385)\t-0.244(0.381)\n",
      "        \n",
      "-0.371(0.291)\t-0.309(0.385)\t-0.200(0.484)\n",
      "        \n",
      "AVD\n",
      "-0.084(0.669)\t0.195(0.320)\t0.138(0.317)\n",
      "        \n",
      "-0.084(0.671)\t0.195(0.319)\t0.153(0.263)\n",
      "        \n",
      "CTA-PB\n",
      "IPI\n",
      "-0.678(0.065)\t-0.524(0.183)\t-0.429(0.179)\n",
      "        \n",
      "-0.609(0.109)\t-0.476(0.233)\t-0.357(0.275)\n",
      "        \n",
      "MGPI\n",
      "0.130(0.528)\t0.032(0.877)\t0.015(0.930)\n",
      "        \n",
      "0.124(0.548)\t0.022(0.917)\t0.003(1.000)\n",
      "        \n",
      "SMG\n",
      "-0.135(0.529)\t-0.105(0.625)\t-0.080(0.606)\n",
      "        \n",
      "-0.144(0.502)\t-0.117(0.588)\t-0.087(0.572)\n",
      "        \n",
      "FMC\n",
      "0.106(0.592)\t0.112(0.570)\t0.079(0.570)\n",
      "        \n",
      "0.091(0.647)\t0.054(0.784)\t0.042(0.769)\n",
      "        \n",
      "MBII\n",
      "0.356(0.768)\t0.500(0.667)\t0.333(1.000)\n",
      "        \n",
      "0.564(0.618)\t0.500(0.667)\t0.333(1.000)\n",
      "        \n",
      "CTVA\n",
      "UAN\n",
      "-0.056(0.916)\t-0.086(0.872)\t-0.200(0.719)\n",
      "        \n",
      "-0.049(0.926)\t0.029(0.957)\t-0.067(1.000)\n",
      "        \n",
      "CF\n",
      "0.123(0.719)\t0.191(0.574)\t0.055(0.879)\n",
      "        \n",
      "0.031(0.928)\t0.109(0.750)\t0.018(1.000)\n",
      "        \n",
      "CTA-PA\n",
      "MOS\n",
      "0.071(0.726)\t0.018(0.928)\t0.009(0.967)\n",
      "        \n",
      "0.059(0.769)\t0.002(0.990)\t0.009(0.967)\n",
      "        \n"
     ]
    }
   ],
   "source": [
    "for comp in ROA1_data.keys(): \n",
    "    print(comp)\n",
    "    temp_data, roa_data = temp_diff_roa1_pairs(2, comp)\n",
    "    corr_ana(roa_data, temp_data, 'ROA', 'Yearly Temp Diff')\n",
    "    temp_data, roa_data = temp_diff_roa2_pairs(2, comp)\n",
    "    corr_ana(roa_data, temp_data, 'ROA', 'Yearly Temp Diff')"
   ]
  },
  {
   "cell_type": "markdown",
   "id": "55922886",
   "metadata": {},
   "source": [
    "## 3 Year"
   ]
  },
  {
   "cell_type": "code",
   "execution_count": 146,
   "id": "c01128f9",
   "metadata": {
    "ExecuteTime": {
     "end_time": "2021-05-24T21:02:31.515751Z",
     "start_time": "2021-05-24T21:02:29.182881Z"
    }
   },
   "outputs": [
    {
     "name": "stdout",
     "output_type": "stream",
     "text": [
      "-0.261(0.466)\t-0.139(0.701)\t-0.067(0.862)\n",
      "        \n",
      "-0.239(0.507)\t-0.067(0.855)\t-0.022(1.000)\n",
      "        \n",
      "-0.103(0.603)\t0.063(0.748)\t0.048(0.739)\n",
      "        \n",
      "-0.090(0.647)\t0.084(0.670)\t0.063(0.652)\n",
      "        \n",
      "-0.609(0.109)\t-0.357(0.385)\t-0.286(0.399)\n",
      "        \n",
      "-0.549(0.158)\t-0.310(0.456)\t-0.214(0.548)\n",
      "        \n",
      "0.232(0.255)\t0.197(0.336)\t0.138(0.336)\n",
      "        \n",
      "0.231(0.257)\t0.186(0.362)\t0.126(0.382)\n",
      "        \n",
      "-0.159(0.457)\t-0.088(0.683)\t-0.072(0.641)\n",
      "        \n",
      "-0.183(0.393)\t-0.094(0.662)\t-0.065(0.677)\n",
      "        \n",
      "0.042(0.833)\t0.123(0.532)\t0.090(0.518)\n",
      "        \n",
      "0.033(0.868)\t0.070(0.725)\t0.032(0.830)\n",
      "        \n",
      "0.419(0.725)\t0.500(0.667)\t0.333(1.000)\n",
      "        \n",
      "0.619(0.575)\t0.500(0.667)\t0.333(1.000)\n",
      "        \n",
      "-0.082(0.878)\t0.029(0.957)\t-0.067(1.000)\n",
      "        \n",
      "-0.075(0.887)\t0.200(0.704)\t0.067(1.000)\n",
      "        \n",
      "0.243(0.472)\t0.345(0.298)\t0.236(0.359)\n",
      "        \n",
      "0.180(0.596)\t0.255(0.450)\t0.127(0.648)\n",
      "        \n",
      "0.053(0.793)\t0.021(0.916)\t0.043(0.773)\n",
      "        \n",
      "0.044(0.829)\t0.007(0.973)\t0.020(0.901)\n",
      "        \n"
     ]
    }
   ],
   "source": [
    "for comp in ROA1_data.keys(): \n",
    "#     print(comp)\n",
    "    temp_data, roa_data = temp_diff_roa1_pairs(3, comp)\n",
    "    corr_ana(roa_data, temp_data, 'ROA', 'Yearly Temp Diff')\n",
    "    temp_data, roa_data = temp_diff_roa2_pairs(3, comp)\n",
    "    corr_ana(roa_data, temp_data, 'ROA', 'Yearly Temp Diff')"
   ]
  },
  {
   "cell_type": "markdown",
   "id": "d9c0052e",
   "metadata": {},
   "source": [
    "# Bushfires"
   ]
  },
  {
   "cell_type": "code",
   "execution_count": 327,
   "id": "c2f0aefa",
   "metadata": {
    "ExecuteTime": {
     "end_time": "2021-05-28T03:04:57.834546Z",
     "start_time": "2021-05-28T03:04:57.829498Z"
    }
   },
   "outputs": [],
   "source": [
    "def corr_ana(l1:list, l2:list, x, y):\n",
    "#     assert len(roa_data) == len(temp_data)/\n",
    "    if len(l1) > 2:\n",
    "        # Pearson correlation\n",
    "        pearson = pearsonr(l1, l2)[0]\n",
    "        p_p_value = pearsonr(l1, l2)[1]\n",
    "        # Spearman correlation\n",
    "        spearman = spearmanr(l1, l2)[0]\n",
    "        s_p_value = spearmanr(l1, l2)[1]\n",
    "        # Kendall correlation\n",
    "        tau, k_p_value = kendalltau(l1, l2)\n",
    "        # print the results\n",
    "        print(\"\"\"{pearson:.3f}({p_p_value:.3f})\\t{spearman:.3f}({s_p_value:.3f})\\t{kendall:.3f}({k_p_value:.3f})\n",
    "        \"\"\".format(comp = comp, pearson = pearson, p_p_value = p_p_value,\n",
    "                    spearman = spearman, s_p_value = s_p_value, \n",
    "                     kendall = tau, k_p_value = k_p_value, y = y))\n",
    "#         print(f'{pearson}({p_p_value}), {spearman}({s_p_value}), {tau}({k_p_value})')\n",
    "#         print(\"\"\"Correlation analysis between {comp} and {y}:\n",
    "#         Perason coefficient is {pearson:.3f} with {p_p_value:.3f} p-value.\n",
    "#         Spearman coefficient is {spearman:.3f} with {s_p_value:.3f} p-value.\n",
    "#         Kendall coefficient is {kendall:.3f} with {k_p_value:.3f} p-value.\n",
    "#         \"\"\".format(comp = comp, pearson = pearson, p_p_value = p_p_value,\n",
    "#                     spearman = spearman, s_p_value = s_p_value, \n",
    "#                      kendall = tau, k_p_value = k_p_value, y = y))\n",
    "        plt.scatter(l1, l2)\n",
    "        plt.xlabel(x)\n",
    "        plt.ylabel(y)\n",
    "        title = f'The Scatter Plot between {comp} {x} and {y}'\n",
    "        plt.title(title)\n",
    "        plt.show()\n",
    "        coe = [pearson, spearman, tau]\n",
    "        p_value = [p_p_value, s_p_value, k_p_value]\n",
    "        return coe, p_value\n",
    "    else:\n",
    "        return [0, 0, 0], [0, 0, 0]\n",
    "#         print(\"\\nData Insufficient.\\n\")"
   ]
  },
  {
   "cell_type": "code",
   "execution_count": 330,
   "id": "5daa17fc",
   "metadata": {
    "ExecuteTime": {
     "end_time": "2021-05-28T03:05:54.382027Z",
     "start_time": "2021-05-28T03:05:53.823336Z"
    }
   },
   "outputs": [
    {
     "name": "stdout",
     "output_type": "stream",
     "text": [
      "0.305(0.075)\t0.266(0.123)\t0.170(0.151)\n",
      "        \n"
     ]
    },
    {
     "data": {
      "image/png": "[encoded data removed]",
      "text/plain": [
       "<Figure size 432x288 with 1 Axes>"
      ]
     },
     "metadata": {
      "needs_background": "light"
     },
     "output_type": "display_data"
    },
    {
     "name": "stdout",
     "output_type": "stream",
     "text": [
      "0.353(0.041)\t0.264(0.131)\t0.169(0.159)\n",
      "        \n"
     ]
    },
    {
     "data": {
      "image/png": "[encoded data removed]",
      "text/plain": [
       "<Figure size 432x288 with 1 Axes>"
      ]
     },
     "metadata": {
      "needs_background": "light"
     },
     "output_type": "display_data"
    }
   ],
   "source": [
    "for comp in ROA1_data.keys(): \n",
    "    roa1_data = []\n",
    "    roa2_data = []\n",
    "    temp_data = []\n",
    "    for i in ROA1_data[comp].iloc[:,range(1, ROA1_data[comp].shape[1])]:\n",
    "        year = i.split('/')[-1]\n",
    "        try: \n",
    "            t = bushfire_data.loc[bushfire_data['Year'] == int(year)]['Acres']\n",
    "            t = int(t.values[0].replace(',', ''))\n",
    "            if t:\n",
    "                roa = ROA1_data[comp][i][0]\n",
    "                roa = float(roa)\n",
    "                if roa and roa is not np.isnan(roa):\n",
    "                    roa1_data.append(roa)\n",
    "                    temp_data.append(t)\n",
    "        except:\n",
    "            pass\n",
    "    if roa1_data:\n",
    "        if comp == 'FMC':\n",
    "            corr_ana(roa1_data, temp_data, 'ROA1', 'Bushfire Areas')\n",
    "    temp_data = []\n",
    "    for i in ROA2_data[comp].iloc[:,range(1, ROA2_data[comp].shape[1])]:\n",
    "        year = i.split('/')[-1]\n",
    "        try: \n",
    "            t = bushfire_data.loc[bushfire_data['Year'] == int(year)]['Acres']\n",
    "            t = int(t.values[0].replace(',', ''))\n",
    "            if t:\n",
    "                roa = ROA2_data[comp][i][0]\n",
    "                roa = float(roa)\n",
    "                if roa and not np.isnan(roa):\n",
    "                    roa2_data.append(roa)\n",
    "                    temp_data.append(t)\n",
    "        except:\n",
    "            pass\n",
    "    if roa2_data:\n",
    "        if comp == 'FMC':\n",
    "            corr_ana(roa2_data, temp_data, 'ROA2', 'Bushfire Areas')"
   ]
  },
  {
   "cell_type": "code",
   "execution_count": null,
   "id": "9d873082",
   "metadata": {
    "ExecuteTime": {
     "end_time": "2021-05-20T04:30:16.416436Z",
     "start_time": "2021-05-20T04:30:16.396099Z"
    }
   },
   "outputs": [],
   "source": [
    "ROA_data['RKDA']"
   ]
  },
  {
   "cell_type": "code",
   "execution_count": null,
   "id": "133f9cbf",
   "metadata": {
    "ExecuteTime": {
     "end_time": "2021-05-20T04:29:30.364371Z",
     "start_time": "2021-05-20T04:29:30.316434Z"
    }
   },
   "outputs": [],
   "source": [
    "ROA_data['YTEN']"
   ]
  },
  {
   "cell_type": "markdown",
   "id": "92127af8",
   "metadata": {
    "ExecuteTime": {
     "end_time": "2021-05-19T23:43:24.828295Z",
     "start_time": "2021-05-19T23:43:24.826078Z"
    }
   },
   "source": [
    "# ROA Differ"
   ]
  },
  {
   "cell_type": "code",
   "execution_count": 149,
   "id": "33396a1d",
   "metadata": {
    "ExecuteTime": {
     "end_time": "2021-05-24T21:28:20.774161Z",
     "start_time": "2021-05-24T21:28:20.756810Z"
    }
   },
   "outputs": [],
   "source": [
    "def temp_diff_roa1_diff_pairs(skip1: int, skip2: int, comp):\n",
    "    \"\"\"\n",
    "    :skip1 = the past n year(s) for temp\n",
    "    :skip2 = the past n year(s) for ROA\n",
    "    :comp = comp\n",
    "    \"\"\"\n",
    "    state = state_data[comp] # get state\n",
    "    state_temp = raw_temp_date.loc[raw_temp_date['State'] == state] # get state temp date\n",
    "    state_temp = state_temp.set_index(\"Date\") # set Date as row index\n",
    "    \n",
    "    # get roa timeline\n",
    "    roa_time = []\n",
    "    for i in ROA1_data[comp].iloc[:,range(1, ROA1_data[comp].shape[1])]:\n",
    "        try:\n",
    "            i = i.split('/')\n",
    "            roa_time.append(datetime.date(int(i[-1]), int(i[0]), int(i[1])))\n",
    "        except:\n",
    "            pass\n",
    "        \n",
    "    # get temp timeline\n",
    "    state_temp_time = []\n",
    "    for i in state_temp.index.values:\n",
    "        i = i.split('/')\n",
    "        state_temp_time.append(datetime.date(int(i[0]), int(i[1]), int(i[2])))\n",
    "    \n",
    "    # get the roa interval\n",
    "    \n",
    "    # get the temp timeline \n",
    "    \n",
    "    temp_curr_avg = []\n",
    "    temp_past_avg = []\n",
    "    roa_index = []\n",
    "    roa_past_avg = []\n",
    "    # for each interval(elementc) in roa, we need to find the corresponding temp difference\n",
    "    # the corresponding temp difference = the current avg. temp - the avg. temp over past n years in the same interval\n",
    "    for roa in range(len(roa_time)):\n",
    "        now = roa_time[roa]\n",
    "        now_year = roa_time[roa].year\n",
    "        now_month = roa_time[roa].month\n",
    "        now_day = roa_time[roa].day\n",
    "        try: # use exisiting data to get the interval\n",
    "            past = roa_time[roa + 1]\n",
    "            past_year = roa_time[roa + 1].year\n",
    "            past_month = roa_time[roa + 1].month\n",
    "            past_day = roa_time[roa + 1].day\n",
    "            past_n = roa_time[roa + skip2]\n",
    "            past_n_year = roa_time[roa + skip2].year\n",
    "            past_n_month = roa_time[roa + skip2].month\n",
    "            past_n_day = roa_time[roa + skip2].day\n",
    "        except: # assume the past year for the last element\n",
    "            break\n",
    "        temp_sum = 0\n",
    "        temp_count = 0\n",
    "        # get current year\n",
    "        for temp in range(len(state_temp_time)):\n",
    "            if past <= state_temp_time[temp] < now:\n",
    "                year = str(state_temp_time[temp].year)\n",
    "                month = str(state_temp_time[temp].month)\n",
    "                day = str(state_temp_time[temp].day)\n",
    "                timestamp = year + '/' + month + '/' + day\n",
    "                temp_sum += state_temp.loc[timestamp].values[0]\n",
    "                temp_count += 1       \n",
    "        if temp_count == 0:\n",
    "            continue\n",
    "        temp_curr_avg.append(temp_sum/temp_count)\n",
    "        temp_count = 0\n",
    "        # get the past year\n",
    "        for n in range(1, skip1+1):\n",
    "            try:\n",
    "                past = roa_time[roa + n + 1]\n",
    "                now = roa_time[roa + n]\n",
    "            except:\n",
    "                now = past\n",
    "                past_year = past.year - 1\n",
    "                past_month = past.month\n",
    "                past_day = past.day\n",
    "                past = datetime.date(past_year, past_month, past_day)\n",
    "            for temp in range(len(state_temp_time)):\n",
    "                if past <= state_temp_time[temp] < now:\n",
    "                    year = str(state_temp_time[temp].year)\n",
    "                    month = str(state_temp_time[temp].month)\n",
    "                    day = str(state_temp_time[temp].day)\n",
    "                    timestamp = year + '/' + month + '/' + day\n",
    "                    temp_sum += state_temp.loc[timestamp].values[0]\n",
    "                    temp_count += 1\n",
    "        temp_past_avg.append(temp_sum/temp_count)\n",
    "        roa_index.append(roa)\n",
    "        # get roa avg\n",
    "        roa_count = 0\n",
    "        roa_sum = 0\n",
    "        past = roa_time[roa + 1]\n",
    "        for i in ROA1_data[comp].iloc[:,range(1, ROA1_data[comp].shape[1])]:\n",
    "            j = i\n",
    "            i = i.split('/')\n",
    "            i = datetime.date(int(i[-1]), int(i[0]), int(i[1]))\n",
    "            if past_n <= i <= past:\n",
    "                roa_count += 1\n",
    "                roa_sum += float(ROA1_data[comp][j].values[0])\n",
    "        roa_past_avg.append(roa_sum/roa_count)\n",
    "    roa_curr_data = []\n",
    "    count = 0\n",
    "    # get roa_data\n",
    "    for i in ROA1_data[comp].iloc[:,range(1, ROA1_data[comp].shape[1])]:\n",
    "        count += 1\n",
    "        if count in roa_index:\n",
    "            roa_curr_data.append(float(ROA1_data[comp][i].values[0]))\n",
    "    # get roa diff\n",
    "    roa_diff = [a - b for a, b in zip(roa_curr_data, roa_past_avg)]\n",
    "    # get temp difference\n",
    "    temp_diff = [a - b for a, b in zip(temp_curr_avg, temp_past_avg)]\n",
    "    return temp_diff, roa_diff"
   ]
  },
  {
   "cell_type": "code",
   "execution_count": 157,
   "id": "23d29392",
   "metadata": {
    "ExecuteTime": {
     "end_time": "2021-05-24T21:32:55.682761Z",
     "start_time": "2021-05-24T21:32:55.665916Z"
    }
   },
   "outputs": [],
   "source": [
    "def temp_diff_roa2_diff_pairs(skip1: int, skip2: int, comp):\n",
    "    \"\"\"\n",
    "    :skip1 = the past n year(s) for temp\n",
    "    :skip2 = the past n year(s) for ROA\n",
    "    :comp = comp\n",
    "    \"\"\"\n",
    "    state = state_data[comp] # get state\n",
    "    state_temp = raw_temp_date.loc[raw_temp_date['State'] == state] # get state temp date\n",
    "    state_temp = state_temp.set_index(\"Date\") # set Date as row index\n",
    "    \n",
    "    # get roa timeline\n",
    "    roa_time = []\n",
    "    for i in ROA2_data[comp].iloc[:,range(1, ROA2_data[comp].shape[1])]:\n",
    "        try:\n",
    "            i = i.split('/')\n",
    "            roa_time.append(datetime.date(int(i[-1]), int(i[0]), int(i[1])))\n",
    "        except:\n",
    "            pass\n",
    "        \n",
    "    # get temp timeline\n",
    "    state_temp_time = []\n",
    "    for i in state_temp.index.values:\n",
    "        i = i.split('/')\n",
    "        state_temp_time.append(datetime.date(int(i[0]), int(i[1]), int(i[2])))\n",
    "    \n",
    "    # get the roa interval\n",
    "    \n",
    "    # get the temp timeline \n",
    "    \n",
    "    temp_curr_avg = []\n",
    "    temp_past_avg = []\n",
    "    roa_index = []\n",
    "    roa_past_avg = []\n",
    "    # for each interval(elementc) in roa, we need to find the corresponding temp difference\n",
    "    # the corresponding temp difference = the current avg. temp - the avg. temp over past n years in the same interval\n",
    "    for roa in range(len(roa_time)):\n",
    "        now = roa_time[roa]\n",
    "        now_year = roa_time[roa].year\n",
    "        now_month = roa_time[roa].month\n",
    "        now_day = roa_time[roa].day\n",
    "        try: # use exisiting data to get the interval\n",
    "            past = roa_time[roa + 1]\n",
    "            past_year = roa_time[roa + 1].year\n",
    "            past_month = roa_time[roa + 1].month\n",
    "            past_day = roa_time[roa + 1].day\n",
    "            past_n = roa_time[roa + skip2]\n",
    "            past_n_year = roa_time[roa + skip2].year\n",
    "            past_n_month = roa_time[roa + skip2].month\n",
    "            past_n_day = roa_time[roa + skip2].day\n",
    "        except: # assume the past year for the last element\n",
    "            break\n",
    "        temp_sum = 0\n",
    "        temp_count = 0\n",
    "        # get current year\n",
    "        for temp in range(len(state_temp_time)):\n",
    "            if past <= state_temp_time[temp] < now:\n",
    "                year = str(state_temp_time[temp].year)\n",
    "                month = str(state_temp_time[temp].month)\n",
    "                day = str(state_temp_time[temp].day)\n",
    "                timestamp = year + '/' + month + '/' + day\n",
    "                temp_sum += state_temp.loc[timestamp].values[0]\n",
    "                temp_count += 1       \n",
    "        if temp_count == 0:\n",
    "            continue\n",
    "        temp_curr_avg.append(temp_sum/temp_count)\n",
    "        temp_count = 0\n",
    "        # get the past year\n",
    "        for n in range(1, skip1+1):\n",
    "            try:\n",
    "                past = roa_time[roa + n + 1]\n",
    "                now = roa_time[roa + n]\n",
    "            except:\n",
    "                now = past\n",
    "                past_year = past.year - 1\n",
    "                past_month = past.month\n",
    "                past_day = past.day\n",
    "                past = datetime.date(past_year, past_month, past_day)\n",
    "            for temp in range(len(state_temp_time)):\n",
    "                if past <= state_temp_time[temp] < now:\n",
    "                    year = str(state_temp_time[temp].year)\n",
    "                    month = str(state_temp_time[temp].month)\n",
    "                    day = str(state_temp_time[temp].day)\n",
    "                    timestamp = year + '/' + month + '/' + day\n",
    "                    temp_sum += state_temp.loc[timestamp].values[0]\n",
    "                    temp_count += 1\n",
    "        temp_past_avg.append(temp_sum/temp_count)\n",
    "        roa_index.append(roa)\n",
    "        # get roa avg\n",
    "        roa_count = 0\n",
    "        roa_sum = 0\n",
    "        past = roa_time[roa + 1]\n",
    "        for i in ROA2_data[comp].iloc[:,range(1, ROA2_data[comp].shape[1])]:\n",
    "            j = i\n",
    "            i = i.split('/')\n",
    "            i = datetime.date(int(i[-1]), int(i[0]), int(i[1]))\n",
    "            if past_n <= i <= past:\n",
    "                roa_count += 1\n",
    "                roa_sum += float(ROA2_data[comp][j].values[0])\n",
    "        roa_past_avg.append(roa_sum/roa_count)\n",
    "    roa_curr_data = []\n",
    "    count = 0\n",
    "    # get roa_data\n",
    "    for i in ROA2_data[comp].iloc[:,range(1, ROA2_data[comp].shape[1])]:\n",
    "        count += 1\n",
    "        if count in roa_index:\n",
    "            roa_curr_data.append(float(ROA2_data[comp][i].values[0]))\n",
    "    # get roa diff\n",
    "    roa_diff = [a - b for a, b in zip(roa_curr_data, roa_past_avg)]\n",
    "    # get temp difference\n",
    "    temp_diff = [a - b for a, b in zip(temp_curr_avg, temp_past_avg)]\n",
    "    for i in range(len(roa_diff)):\n",
    "        if np.isnan(roa_diff[i]):\n",
    "            del roa_diff[i]\n",
    "            del temp_diff[i]\n",
    "    return temp_diff, roa_diff\n"
   ]
  },
  {
   "cell_type": "code",
   "execution_count": 279,
   "id": "e56023da",
   "metadata": {
    "ExecuteTime": {
     "end_time": "2021-05-28T02:22:24.006923Z",
     "start_time": "2021-05-28T02:22:21.879404Z"
    }
   },
   "outputs": [
    {
     "name": "stdout",
     "output_type": "stream",
     "text": [
      "-0.515(0.237)\t-0.464(0.294)\t-0.333(0.381)\n",
      "        \n",
      "-0.524(0.286)\t-0.486(0.329)\t-0.333(0.469)\n",
      "        \n",
      "-0.065(0.758)\t0.198(0.344)\t0.180(0.218)\n",
      "        \n",
      "-0.143(0.505)\t0.153(0.475)\t0.116(0.446)\n",
      "        \n",
      "0.129(0.836)\t0.000(1.000)\t-0.200(0.817)\n",
      "        \n",
      "-0.973(0.027)\t-1.000(0.000)\t-1.000(0.083)\n",
      "        \n",
      "0.217(0.319)\t0.130(0.553)\t0.099(0.530)\n",
      "        \n",
      "0.227(0.309)\t0.156(0.487)\t0.100(0.539)\n",
      "        \n",
      "-0.206(0.370)\t-0.203(0.378)\t-0.171(0.294)\n",
      "        \n",
      "-0.182(0.443)\t-0.069(0.772)\t-0.053(0.773)\n",
      "        \n",
      "0.006(0.978)\t-0.127(0.545)\t-0.100(0.502)\n",
      "        \n",
      "-0.042(0.846)\t-0.198(0.353)\t-0.145(0.337)\n",
      "        \n",
      "-0.824(0.384)\t-1.000(0.000)\t-1.000(0.333)\n",
      "        \n",
      "-0.074(0.862)\t-0.095(0.823)\t-0.071(0.905)\n",
      "        \n",
      "-0.275(0.550)\t-0.357(0.432)\t-0.333(0.381)\n",
      "        \n",
      "0.002(0.994)\t0.230(0.279)\t0.167(0.268)\n",
      "        \n",
      "-0.014(0.949)\t0.242(0.255)\t0.174(0.247)\n",
      "        \n"
     ]
    }
   ],
   "source": [
    "for comp in ROA1_data.keys():\n",
    "#     print(comp)\n",
    "    temp_data, roa_data = temp_diff_roa1_diff_pairs(3, 3, comp)\n",
    "    corr_ana(roa_data, temp_data, 'ROA1', 'Yearly Temp Diff')\n",
    "    temp_data, roa_data = temp_diff_roa2_diff_pairs(3, 3, comp)\n",
    "    corr_ana(roa_data, temp_data, 'ROA2', 'Yearly Temp Diff')"
   ]
  },
  {
   "cell_type": "markdown",
   "id": "b191c1c1",
   "metadata": {},
   "source": [
    "# Appendix"
   ]
  },
  {
   "cell_type": "markdown",
   "id": "f60b6cb4",
   "metadata": {},
   "source": [
    "## Person\n",
    "\n",
    "$$\n",
    "r=\\frac{\\sum\\left(x-m_{x}\\right)\\left(y-m_{y}\\right)}{\\sqrt{\\sum\\left(x-m_{x}\\right)^{2} \\sum\\left(y-m_{y}\\right)^{2}}}\n",
    "$$\n",
    "\n",
    "REF: https://docs.scipy.org/doc/scipy/reference/generated/scipy.stats.pearsonr.html"
   ]
  },
  {
   "cell_type": "markdown",
   "id": "be18bf19",
   "metadata": {},
   "source": [
    "## Spearman\n",
    "\n",
    "$$\n",
    "\\rho=1-\\frac{6 \\sum d_{i}^{2}}{n\\left(n^{2}-1\\right)}\n",
    "$$\n",
    "\n",
    "$\\rho$ \t=\tSpearman's rank correlation coefficient  \n",
    "$d_i$ = difference between the two ranks of each observation  \n",
    "$n$ = number of observations\n",
    "\n",
    "REF1: https://docs.scipy.org/doc/scipy/reference/generated/scipy.stats.spearmanr.html  \n",
    "REF2: https://en.wikipedia.org/wiki/Spearman%27s_rank_correlation_coefficient"
   ]
  },
  {
   "cell_type": "markdown",
   "id": "7616dac1",
   "metadata": {},
   "source": [
    "## Kendall\n",
    "\n",
    "$$\n",
    "\\tau=\\frac{(\\text { number of concordant pairs })-(\\text { number of discordant pairs })}{\\left(\\begin{array}{c}\n",
    "n \\\\\n",
    "2\n",
    "\\end{array}\\right)}\n",
    "$$\n",
    "\n",
    "REF: https://docs.scipy.org/doc/scipy/reference/generated/scipy.stats.kendalltau.html?highlight=kendall#scipy.stats.kendalltau"
   ]
  }
 ],
 "metadata": {
  "hide_input": false,
  "kernelspec": {
   "display_name": "Python 3",
   "language": "python",
   "name": "python3"
  },
  "language_info": {
   "codemirror_mode": {
    "name": "ipython",
    "version": 3
   },
   "file_extension": ".py",
   "mimetype": "text/x-python",
   "name": "python",
   "nbconvert_exporter": "python",
   "pygments_lexer": "ipython3",
   "version": "3.7.10"
  },
  "latex_envs": {
   "LaTeX_envs_menu_present": true,
   "autoclose": false,
   "autocomplete": true,
   "bibliofile": "biblio.bib",
   "cite_by": "apalike",
   "current_citInitial": 1,
   "eqLabelWithNumbers": true,
   "eqNumInitial": 1,
   "hotkeys": {
    "equation": "Ctrl-E",
    "itemize": "Ctrl-I"
   },
   "labels_anchors": false,
   "latex_user_defs": false,
   "report_style_numbering": false,
   "user_envs_cfg": false
  },
  "toc": {
   "base_numbering": "1",
   "nav_menu": {
    "height": "12px",
    "width": "172px"
   },
   "number_sections": true,
   "sideBar": true,
   "skip_h1_title": false,
   "title_cell": "Table of Contents",
   "title_sidebar": "Contents",
   "toc_cell": true,
   "toc_position": {
    "height": "calc(100% - 180px)",
    "left": "10px",
    "top": "150px",
    "width": "165px"
   },
   "toc_section_display": true,
   "toc_window_display": true
  },
  "varInspector": {
   "cols": {
    "lenName": 16,
    "lenType": 16,
    "lenVar": 40
   },
   "kernels_config": {
    "python": {
     "delete_cmd_postfix": "",
     "delete_cmd_prefix": "del ",
     "library": "var_list.py",
     "varRefreshCmd": "print(var_dic_list())"
    },
    "r": {
     "delete_cmd_postfix": ") ",
     "delete_cmd_prefix": "rm(",
     "library": "var_list.r",
     "varRefreshCmd": "cat(var_dic_list()) "
    }
   },
   "types_to_exclude": [
    "module",
    "function",
    "builtin_function_or_method",
    "instance",
    "_Feature"
   ],
   "window_display": false
  }
 },
 "nbformat": 4,
 "nbformat_minor": 5
}
