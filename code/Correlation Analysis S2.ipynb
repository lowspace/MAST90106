{
 "cells": [
  {
   "cell_type": "markdown",
   "id": "9afecf8b",
   "metadata": {},
   "source": [
    "# Set up"
   ]
  },
  {
   "cell_type": "code",
   "execution_count": 3,
   "id": "b4640014",
   "metadata": {
    "ExecuteTime": {
     "end_time": "2021-08-09T08:26:23.488341Z",
     "start_time": "2021-08-09T08:26:23.485010Z"
    }
   },
   "outputs": [],
   "source": [
    "from scipy.stats import pearsonr\n",
    "from scipy.stats import spearmanr\n",
    "from scipy.stats import kendalltau\n",
    "\n",
    "import matplotlib.pyplot as plt\n",
    "\n",
    "import numpy as np\n",
    "import os\n",
    "import pandas as pd\n",
    "import json\n",
    "import re, datetime\n",
    "from geopy.geocoders import Nominatim"
   ]
  },
  {
   "cell_type": "markdown",
   "id": "96978a2e",
   "metadata": {},
   "source": [
    "# Read data"
   ]
  },
  {
   "cell_type": "markdown",
   "id": "86a0a3a1",
   "metadata": {},
   "source": [
    "## Read financial data"
   ]
  },
  {
   "cell_type": "code",
   "execution_count": 6,
   "id": "1e951d12",
   "metadata": {
    "ExecuteTime": {
     "end_time": "2021-08-09T08:26:41.614258Z",
     "start_time": "2021-08-09T08:26:41.356704Z"
    }
   },
   "outputs": [],
   "source": [
    "root_path = os.path.abspath(os.path.dirname(os.getcwd()))\n",
    "data_path = os.path.join(root_path, 'data')\n",
    "agr_path = os.path.join(data_path, 'agriculture')\n",
    "\n",
    "finc_data = []\n",
    "for file in os.listdir(agr_path):\n",
    "    if file.endswith('.json'):\n",
    "        file_path = os.path.join(agr_path, file)\n",
    "        with open(file_path, 'r') as file:\n",
    "            finc_data.append(json.load(file))"
   ]
  },
  {
   "cell_type": "code",
   "execution_count": 8,
   "id": "43395371",
   "metadata": {
    "ExecuteTime": {
     "end_time": "2021-08-09T08:27:14.683770Z",
     "start_time": "2021-08-09T08:27:14.623548Z"
    }
   },
   "outputs": [],
   "source": [
    "ROA1_data = {}\n",
    "ROA2_data = {}\n",
    "state_data = {}\n",
    "for i in finc_data:\n",
    "    for k, v in i.items():\n",
    "        try:\n",
    "            state_data[k] =  i[k]['state']\n",
    "            ROA1_data[k] = pd.DataFrame.from_dict(i[k]['ROA1']) \n",
    "            ROA2_data[k] = pd.DataFrame.from_dict(i[k]['ROA2']) \n",
    "        except:\n",
    "            pass"
   ]
  },
  {
   "cell_type": "code",
   "execution_count": 10,
   "id": "53622016",
   "metadata": {
    "ExecuteTime": {
     "end_time": "2021-08-09T08:30:55.093451Z",
     "start_time": "2021-08-09T08:30:55.089139Z"
    }
   },
   "outputs": [
    {
     "data": {
      "text/plain": [
       "{'RKDA': 'California',\n",
       " 'YTEN': 'Massachusetts',\n",
       " 'AVD': 'California',\n",
       " 'CTA-PB': 'Delaware',\n",
       " 'IPI': 'Colorado',\n",
       " 'MGPI': 'Kansas',\n",
       " 'SMG': 'Ohio',\n",
       " 'FMC': 'Pennsylvania',\n",
       " 'MBII': 'California',\n",
       " 'CTVA': 'Delaware',\n",
       " 'UAN': 'Texas',\n",
       " 'CF': 'Illinois',\n",
       " 'CTA-PA': 'Delaware',\n",
       " 'MOS': 'Florida'}"
      ]
     },
     "execution_count": 10,
     "metadata": {},
     "output_type": "execute_result"
    }
   ],
   "source": [
    "state_data"
   ]
  }
 ],
 "metadata": {
  "hide_input": false,
  "kernelspec": {
   "display_name": "Python 3",
   "language": "python",
   "name": "python3"
  },
  "language_info": {
   "codemirror_mode": {
    "name": "ipython",
    "version": 3
   },
   "file_extension": ".py",
   "mimetype": "text/x-python",
   "name": "python",
   "nbconvert_exporter": "python",
   "pygments_lexer": "ipython3",
   "version": "3.7.10"
  },
  "latex_envs": {
   "LaTeX_envs_menu_present": true,
   "autoclose": false,
   "autocomplete": true,
   "bibliofile": "biblio.bib",
   "cite_by": "apalike",
   "current_citInitial": 1,
   "eqLabelWithNumbers": true,
   "eqNumInitial": 1,
   "hotkeys": {
    "equation": "Ctrl-E",
    "itemize": "Ctrl-I"
   },
   "labels_anchors": false,
   "latex_user_defs": false,
   "report_style_numbering": false,
   "user_envs_cfg": false
  },
  "toc": {
   "base_numbering": 1,
   "nav_menu": {},
   "number_sections": true,
   "sideBar": true,
   "skip_h1_title": false,
   "title_cell": "Table of Contents",
   "title_sidebar": "Contents",
   "toc_cell": false,
   "toc_position": {},
   "toc_section_display": true,
   "toc_window_display": false
  }
 },
 "nbformat": 4,
 "nbformat_minor": 5
}
