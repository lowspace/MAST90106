{
 "cells": [
  {
   "cell_type": "code",
   "execution_count": 2,
   "metadata": {},
   "outputs": [],
   "source": [
    "import pandas as pd\n",
    "import matplotlib.pyplot as plt\n",
    "import datetime\n",
    "import os\n"
   ]
  },
  {
   "cell_type": "markdown",
   "metadata": {},
   "source": [
    "### Import data\n",
    "1. build company list\n",
    "2. read share price of company from csv\n"
   ]
  },
  {
   "cell_type": "code",
   "execution_count": 3,
   "metadata": {},
   "outputs": [],
   "source": [
    "def read_company_list(path):\n",
    "    company_list = []\n",
    "    f=open(path,\"r\", encoding = 'utf-8',errors='ignore')\n",
    "    for line in f:\n",
    "        #print(line)\n",
    "        #print(line.split(\"\\t\"))\n",
    "        company_list.append(line.split('\\t')[0])\n",
    "    \n",
    "    return company_list\n",
    "    \n",
    "    \n",
    "    "
   ]
  },
  {
   "cell_type": "code",
   "execution_count": 4,
   "metadata": {},
   "outputs": [],
   "source": [
    "def Read_data(folderName, CompanyNameList):\n",
    "    ###   Read Data from given file reflect to industry and company\n",
    "    ###   make date become  for searching\n",
    "    df = [0] * len(CompanyNameList)\n",
    "    for i in range(len(CompanyNameList)):\n",
    "        df[i] = pd.read_csv(f\"~/Documents/GitHub/MAST90106/data/{folderName}/{CompanyNameList[i]}.csv\")\n",
    "        #df_ts = set_date_timeseries(df[i])\n",
    "        \n",
    "    return df"
   ]
  },
  {
   "cell_type": "markdown",
   "metadata": {},
   "source": [
    "### Calculate indicator\n",
    "1. calculate average share price, inlcuding calculate return of share price\n",
    "2. calculate return on share price"
   ]
  },
  {
   "cell_type": "code",
   "execution_count": 5,
   "metadata": {},
   "outputs": [],
   "source": [
    "def average_share_price(df):\n",
    "    ### Return share price based on month and year in DataFrame\n",
    "    y = df.iloc[0,][\"Date\"][0:4]\n",
    "    year = int(y)\n",
    "    \n",
    "    # make date into timeseries for use, with diff file\n",
    "    df_ts = set_date_timeseries(df)\n",
    "    \n",
    "    month_average = {}\n",
    "    year_average = {}\n",
    "    \n",
    "    # calculate average price in monthly\n",
    "    while year < 2021:\n",
    "        #print(year)\n",
    "        for i in range(1,13):\n",
    "            try:\n",
    "                #print(i)\n",
    "                ave_m = df_ts[f'{year}-{i}'].mean()\n",
    "                #print(ave_m)\n",
    "                month_average[f\"{year}-{i}\"] = ave_m[\"Adj Close\"]\n",
    "                #print(month_average)\n",
    "                \n",
    "            except:\n",
    "                pass\n",
    "    \n",
    "    # calculate average price in yearly\n",
    "        ave_y = df_ts[f'{year}'].mean()\n",
    "        year_average[f\"{year}\"] = ave_y[\"Adj Close\"]\n",
    "        year += 1\n",
    "    \n",
    "    # create month base data and add return of month price into df\n",
    "    df_month  = pd.DataFrame(month_average.items(), columns = [\"Date\", \"average_price\"])\n",
    "    df_m = calculate_price_return(df_month)\n",
    "    \n",
    "    # create year base data and add return of year price into df\n",
    "    df_year = pd.DataFrame(year_average.items(), columns = [\"Date\", \"average_price\"])\n",
    "    df_y = calculate_price_return(df_year)\n",
    "    \n",
    "    \n",
    "    df_ts_m = set_month_timeseries(df_m)\n",
    "    #df_ts_m.drop([\"Date\"], axis = 1, inplace = True)\n",
    "    #df_month.drop([\"Year - Month\"], axis = 1, inplace = True)\n",
    "    \n",
    "    df_ts_y = set_year_timeseries(df_y)\n",
    "    #df_ts_y.drop([\"Date\"], axis = 1, inplace = True)\n",
    "    #df_year.drop([\"Year\"], axis = 1, inplace = True)\n",
    "    \n",
    "    return df_m, df_y, df_ts, df_ts_m, df_ts_y\n",
    "\n",
    "\n"
   ]
  },
  {
   "cell_type": "code",
   "execution_count": 6,
   "metadata": {},
   "outputs": [],
   "source": [
    "def calculate_price_return(df):\n",
    "    ### add new colunm with return of price\n",
    "    \n",
    "    \n",
    "    return_list = []\n",
    "    for i in range(len(df[\"average_price\"])):\n",
    "        if i == 0:\n",
    "            return_list.append(0)\n",
    "        else:\n",
    "            r = (df[\"average_price\"][i] - df[\"average_price\"][i - 1]) / df[\"average_price\"][i - 1]\n",
    "            return_list.append(r)\n",
    "    df[\"return\"] = return_list\n",
    "    df.drop([0], axis = 0, inplace = True)\n",
    "    return df\n",
    "\n"
   ]
  },
  {
   "cell_type": "code",
   "execution_count": 7,
   "metadata": {},
   "outputs": [],
   "source": [
    "root_path = os.path.abspath(os.path.dirname(os.getcwd()))\n",
    "data_path = os.path.join(root_path, 'data')"
   ]
  },
  {
   "cell_type": "markdown",
   "metadata": {},
   "source": [
    "### set date format into timeseries"
   ]
  },
  {
   "cell_type": "code",
   "execution_count": 8,
   "metadata": {},
   "outputs": [],
   "source": [
    "def set_date_timeseries(df):\n",
    "    df['Date'] = pd.to_datetime(df['Date'])\n",
    "    df_ts = df.set_index(\"Date\", inplace = False)\n",
    "    return df_ts\n"
   ]
  },
  {
   "cell_type": "code",
   "execution_count": 9,
   "metadata": {},
   "outputs": [],
   "source": [
    "def set_month_timeseries(df):\n",
    "    df['Date'] = pd.to_datetime(df['Date'], format = \"%Y-%m\")\n",
    "    #df['Year - Month'] = df['Date'].map(lambda x: 1000*x.year + x.month)\n",
    "    df_ts = df.set_index(\"Date\", inplace = False)\n",
    "    return df_ts\n",
    "\n",
    "\n"
   ]
  },
  {
   "cell_type": "code",
   "execution_count": 10,
   "metadata": {},
   "outputs": [],
   "source": [
    "def set_year_timeseries(df):\n",
    "    df['Date'] = pd.to_datetime(df['Date'], format = \"%Y\")\n",
    "    #df['Year'] = df['Date'].dt.year\n",
    "    df_ts = df.set_index(\"Date\", inplace = False)\n",
    "    return df_ts\n"
   ]
  },
  {
   "cell_type": "code",
   "execution_count": null,
   "metadata": {},
   "outputs": [],
   "source": []
  },
  {
   "cell_type": "code",
   "execution_count": 11,
   "metadata": {},
   "outputs": [],
   "source": [
    "def process_company_data(df, fileName):\n",
    "    DF = []\n",
    "    df_m, df_y, df_ts, df_ts_m, df_ts_y = average_share_price(df)\n",
    "    DF.append(df)\n",
    "    DF.append(df_ts)\n",
    "    DF.append(df_m)\n",
    "    DF.append(df_ts_m)\n",
    "    DF.append(df_y)\n",
    "    DF.append(df_ts_y)\n",
    "    \n",
    "    DF[3].to_csv(f\"{fileName}_month.csv\", index_label = \"Date\")\n",
    "    DF[5].to_csv(f\"{fileName}_year.csv\", index_label = \"Date\")\n",
    "    return DF\n"
   ]
  },
  {
   "cell_type": "markdown",
   "metadata": {},
   "source": [
    "### plot related data "
   ]
  },
  {
   "cell_type": "code",
   "execution_count": 12,
   "metadata": {},
   "outputs": [],
   "source": [
    "def plot_return_data(x, des):\n",
    "    plt.plot(x[\"return\"])\n",
    "    plt.xlabel(\"Timeline\")\n",
    "    plt.ylabel(des)\n",
    "    plt.title(f\"{des} VS time\")\n",
    "    plt.show()\n",
    "    "
   ]
  },
  {
   "cell_type": "code",
   "execution_count": 13,
   "metadata": {},
   "outputs": [],
   "source": [
    "def plot_ave_data(x, des):\n",
    "    plt.plot(x[\"average_price\"])\n",
    "    plt.xlabel(\"Timeline\")\n",
    "    plt.ylabel(des)\n",
    "    plt.title(f\"{des} VS time\")\n",
    "    plt.show()\n",
    "    "
   ]
  },
  {
   "cell_type": "code",
   "execution_count": 68,
   "metadata": {},
   "outputs": [],
   "source": [
    "def plot_all(x):\n",
    "    #print(x)\n",
    "    plot_return_data(x, \"return\")\n",
    "    plot_ave_data(x, \"average share price\")"
   ]
  },
  {
   "cell_type": "code",
   "execution_count": 15,
   "metadata": {},
   "outputs": [],
   "source": [
    "### calculate data by time \"M\" month, \"Y\" year\n",
    "# df.resample(\"M\").mean()"
   ]
  },
  {
   "cell_type": "markdown",
   "metadata": {},
   "source": [
    "### Data Processing\n",
    "read company share price -> calculate figures, returns and industry index -> save to csv"
   ]
  },
  {
   "cell_type": "code",
   "execution_count": 16,
   "metadata": {},
   "outputs": [],
   "source": [
    "def process_company_data(df, fileName):\n",
    "    DF = []\n",
    "    df_m, df_y, df_ts, df_ts_m, df_ts_y = average_share_price(df)\n",
    "    DF.append(df)\n",
    "    DF.append(df_ts)\n",
    "    DF.append(df_m)\n",
    "    DF.append(df_ts_m)\n",
    "    DF.append(df_y)\n",
    "    DF.append(df_ts_y)\n",
    "    \n",
    "    #DF[3].to_csv(f\"{fileName}_month.csv\", index_label = \"Date\")\n",
    "    #DF[5].to_csv(f\"{fileName}_year.csv\", index_label = \"Date\")\n",
    "    return DF"
   ]
  },
  {
   "cell_type": "code",
   "execution_count": 17,
   "metadata": {},
   "outputs": [],
   "source": [
    "def index_generator(DF_list, C):\n",
    "    ### generate average return of industry index\n",
    "    ### C indicate type of return, \"M\": monthly, \"Y\":yearly\n",
    "    tem_list = []\n",
    "    for i in range(len(DF_list)):\n",
    "        if C == \"M\":\n",
    "            tem_list.append(DF_list[i][3])\n",
    "        if C == \"Y\":\n",
    "            tem_list.append(DF_list[i][5])\n",
    "\n",
    "    t = pd.concat(tem_list)\n",
    "    index_return = t.resample(C).mean()\n",
    "    return index_return"
   ]
  },
  {
   "cell_type": "code",
   "execution_count": 56,
   "metadata": {},
   "outputs": [],
   "source": [
    "def PROCESS_INDUSTRY(industry: str):\n",
    "    company_list = read_company_list(os.path.join(data_path, f'{industry}.txt'))\n",
    "    dfIND_list = Read_data(f\"{industry}\", company_list)\n",
    "    \n",
    "#     dfIND_month = [0] * len(dfAGR_list)\n",
    "#     dfIND_year = [0] * len(dfAGR_list)\n",
    "#     dfIND_ts = [0] * len(dfAGR_list)\n",
    "#     dfIND_ts_month = [0] * len(dfAGR_list)\n",
    "#     dfIND_ts_year = [0] * len(dfAGR_list)\n",
    "#     for i in range(len(dfAGR_list)):\n",
    "#         dfIND_month[i], dfIND_year[i], dfIND_ts[i], dfIND_ts_month[i], dfIND_ts_year[i] = average_share_price(dfAGR_list[i])\n",
    "    DF = [0] * len(dfIND_list)\n",
    "    for i in range(len(dfIND_list)):\n",
    "        DF[i] = process_company_data(dfIND_list[i], company_list[i])\n",
    "     \n",
    "    industry_index_m = index_generator(DF,\"M\")\n",
    "    industry_index_y = index_generator(DF,\"Y\")\n",
    "    #industry_index_m.to_csv(f\"{industry}_index_month.csv\", index_label = \"Date\")\n",
    "    #industry_index_y.to_csv(f\"{industry}_index_year.csv\", index_label = \"Date\")\n",
    "    \n",
    "    print(f\"There are {len(company_list)} companies in the {industry} industry.\")\n",
    "    print(\" \")\n",
    "    for i in range(len(company_list)):\n",
    "        start = str(DF[i][2].iloc[0,][\"Date\"])[0:4]\n",
    "        end = str(DF[i][2].iloc[-1,][\"Date\"])[0:4]\n",
    "        print(f\"{company_list[i]}: share price data available from {start} to {end}.\")\n",
    "        print(\" \")\n",
    "    \n",
    "    return DF, industry_index_m, industry_index_y\n",
    "        "
   ]
  },
  {
   "cell_type": "code",
   "execution_count": 54,
   "metadata": {},
   "outputs": [
    {
     "data": {
      "text/plain": [
       "['CTA-PB',\n",
       " 'CTA-PA',\n",
       " 'CTVA',\n",
       " 'NTR',\n",
       " 'FMC',\n",
       " 'MOS',\n",
       " 'SMG',\n",
       " 'CF',\n",
       " 'ICL',\n",
       " 'MGPI',\n",
       " 'UAN',\n",
       " 'AVD',\n",
       " 'IPI',\n",
       " 'MBII',\n",
       " 'SEED',\n",
       " 'CGA',\n",
       " 'RKDA',\n",
       " 'YTEN']"
      ]
     },
     "execution_count": 54,
     "metadata": {},
     "output_type": "execute_result"
    }
   ],
   "source": [
    "company_list = read_company_list(os.path.join(data_path, 'agriculture.txt'))\n",
    "company_list \n"
   ]
  },
  {
   "cell_type": "markdown",
   "metadata": {},
   "source": [
    "### return data DF explaination\n",
    "### df[ i ][ j ]\n",
    "i : ith cmopany in the industry\n",
    "\n",
    "\n",
    "j : different type of share price data\n",
    "\n",
    "    j = 0: original data \n",
    "    \n",
    "    j = 1: original data (time series format)\n",
    "    \n",
    "    j = 2: share price and return of share price on monthly base\n",
    "    \n",
    "    j = 3: share price and return of share price on monthly base (time series format)\n",
    "    \n",
    "    j = 4: share price and return of share price on yearly base\n",
    "    \n",
    "    j = 5: share price and return of share price on yearly base (time series format)\n",
    "    \n",
    "    "
   ]
  },
  {
   "cell_type": "code",
   "execution_count": 57,
   "metadata": {},
   "outputs": [
    {
     "name": "stdout",
     "output_type": "stream",
     "text": [
      "There are 18 companies in the agriculture industry.\n",
      " \n",
      "CTA-PB: share price data available from 1973 to 2020.\n",
      " \n",
      "CTA-PA: share price data available from 1973 to 2020.\n",
      " \n",
      "CTVA: share price data available from 2019 to 2020.\n",
      " \n",
      "NTR: share price data available from 2018 to 2020.\n",
      " \n",
      "FMC: share price data available from 1980 to 2020.\n",
      " \n",
      "MOS: share price data available from 1988 to 2020.\n",
      " \n",
      "SMG: share price data available from 1992 to 2020.\n",
      " \n",
      "CF: share price data available from 2005 to 2020.\n",
      " \n",
      "ICL: share price data available from 2005 to 2020.\n",
      " \n",
      "MGPI: share price data available from 1988 to 2020.\n",
      " \n",
      "UAN: share price data available from 2011 to 2020.\n",
      " \n",
      "AVD: share price data available from 1987 to 2020.\n",
      " \n",
      "IPI: share price data available from 2008 to 2020.\n",
      " \n",
      "MBII: share price data available from 2013 to 2020.\n",
      " \n",
      "SEED: share price data available from 2004 to 2020.\n",
      " \n",
      "CGA: share price data available from 2008 to 2020.\n",
      " \n",
      "RKDA: share price data available from 2015 to 2020.\n",
      " \n",
      "YTEN: share price data available from 2006 to 2020.\n",
      " \n"
     ]
    }
   ],
   "source": [
    "DF, iim, iiy = PROCESS_INDUSTRY(\"agriculture\")\n"
   ]
  },
  {
   "cell_type": "markdown",
   "metadata": {},
   "source": []
  },
  {
   "cell_type": "code",
   "execution_count": null,
   "metadata": {},
   "outputs": [],
   "source": []
  },
  {
   "cell_type": "code",
   "execution_count": 77,
   "metadata": {},
   "outputs": [
    {
     "ename": "NameError",
     "evalue": "name 'compnay_list' is not defined",
     "output_type": "error",
     "traceback": [
      "\u001b[0;31m---------------------------------------------------------------------------\u001b[0m",
      "\u001b[0;31mNameError\u001b[0m                                 Traceback (most recent call last)",
      "\u001b[0;32m<ipython-input-77-c85521e077cc>\u001b[0m in \u001b[0;36m<module>\u001b[0;34m\u001b[0m\n\u001b[1;32m      1\u001b[0m \u001b[0;32mfor\u001b[0m \u001b[0mi\u001b[0m \u001b[0;32min\u001b[0m \u001b[0mrange\u001b[0m\u001b[0;34m(\u001b[0m\u001b[0;36m18\u001b[0m\u001b[0;34m)\u001b[0m\u001b[0;34m:\u001b[0m\u001b[0;34m\u001b[0m\u001b[0;34m\u001b[0m\u001b[0m\n\u001b[0;32m----> 2\u001b[0;31m     \u001b[0mprint\u001b[0m\u001b[0;34m(\u001b[0m\u001b[0mcompnay_list\u001b[0m\u001b[0;34m[\u001b[0m\u001b[0mi\u001b[0m\u001b[0;34m]\u001b[0m\u001b[0;34m)\u001b[0m\u001b[0;34m\u001b[0m\u001b[0;34m\u001b[0m\u001b[0m\n\u001b[0m\u001b[1;32m      3\u001b[0m     \u001b[0mplot_all\u001b[0m\u001b[0;34m(\u001b[0m\u001b[0mDF\u001b[0m\u001b[0;34m[\u001b[0m\u001b[0mi\u001b[0m\u001b[0;34m]\u001b[0m\u001b[0;34m[\u001b[0m\u001b[0;36m3\u001b[0m\u001b[0;34m]\u001b[0m\u001b[0;34m)\u001b[0m\u001b[0;34m\u001b[0m\u001b[0;34m\u001b[0m\u001b[0m\n\u001b[1;32m      4\u001b[0m \u001b[0;34m\u001b[0m\u001b[0m\n\u001b[1;32m      5\u001b[0m \u001b[0;34m\u001b[0m\u001b[0m\n",
      "\u001b[0;31mNameError\u001b[0m: name 'compnay_list' is not defined"
     ]
    }
   ],
   "source": [
    "for i in range(18):\n",
    "    print(compnay_list[i])\n",
    "    plot_all(DF[i][3])\n",
    "    \n",
    "    \n",
    "    "
   ]
  },
  {
   "cell_type": "code",
   "execution_count": null,
   "metadata": {},
   "outputs": [],
   "source": [
    "plot"
   ]
  },
  {
   "cell_type": "code",
   "execution_count": null,
   "metadata": {},
   "outputs": [],
   "source": [
    "\n"
   ]
  },
  {
   "cell_type": "code",
   "execution_count": 73,
   "metadata": {},
   "outputs": [
    {
     "data": {
      "text/plain": [
       "['CTVA', 'NTR']"
      ]
     },
     "execution_count": 73,
     "metadata": {},
     "output_type": "execute_result"
    }
   ],
   "source": [
    "\n",
    "\n",
    "\n"
   ]
  },
  {
   "cell_type": "code",
   "execution_count": 74,
   "metadata": {},
   "outputs": [
    {
     "data": {
      "text/plain": [
       "'UAN'"
      ]
     },
     "execution_count": 74,
     "metadata": {},
     "output_type": "execute_result"
    }
   ],
   "source": []
  },
  {
   "cell_type": "code",
   "execution_count": 75,
   "metadata": {},
   "outputs": [
    {
     "data": {
      "text/plain": [
       "'IPI'"
      ]
     },
     "execution_count": 75,
     "metadata": {},
     "output_type": "execute_result"
    }
   ],
   "source": [
    "company_list[12]"
   ]
  },
  {
   "cell_type": "code",
   "execution_count": null,
   "metadata": {},
   "outputs": [],
   "source": []
  },
  {
   "cell_type": "code",
   "execution_count": null,
   "metadata": {},
   "outputs": [],
   "source": []
  },
  {
   "cell_type": "code",
   "execution_count": null,
   "metadata": {},
   "outputs": [],
   "source": []
  },
  {
   "cell_type": "code",
   "execution_count": null,
   "metadata": {},
   "outputs": [],
   "source": []
  },
  {
   "cell_type": "code",
   "execution_count": null,
   "metadata": {},
   "outputs": [],
   "source": []
  },
  {
   "cell_type": "code",
   "execution_count": null,
   "metadata": {},
   "outputs": [],
   "source": []
  },
  {
   "cell_type": "code",
   "execution_count": null,
   "metadata": {},
   "outputs": [],
   "source": []
  },
  {
   "cell_type": "code",
   "execution_count": null,
   "metadata": {},
   "outputs": [],
   "source": []
  },
  {
   "cell_type": "code",
   "execution_count": 324,
   "metadata": {},
   "outputs": [
    {
     "data": {
      "image/png": "[encoded data removed]",
      "text/plain": [
       "<Figure size 432x288 with 1 Axes>"
      ]
     },
     "metadata": {
      "needs_background": "light"
     },
     "output_type": "display_data"
    }
   ],
   "source": [
    "plt.plot(dfts[\"Close\"])\n",
    "plt.xlabel(\"year\")\n",
    "plt.ylabel(\"price\")\n",
    "plt.title(f\"share price\")\n",
    "plt.show()\n"
   ]
  },
  {
   "cell_type": "code",
   "execution_count": 326,
   "metadata": {},
   "outputs": [
    {
     "data": {
      "image/png": "[encoded data removed]",
      "text/plain": [
       "<Figure size 432x288 with 1 Axes>"
      ]
     },
     "metadata": {
      "needs_background": "light"
     },
     "output_type": "display_data"
    }
   ],
   "source": [
    "plot_data(dftsm[\"average_price\"], \"return of month\")\n",
    "\n",
    "\n"
   ]
  },
  {
   "cell_type": "code",
   "execution_count": 318,
   "metadata": {},
   "outputs": [
    {
     "data": {
      "text/plain": [
       "[<matplotlib.lines.Line2D at 0x11e365e50>]"
      ]
     },
     "execution_count": 318,
     "metadata": {},
     "output_type": "execute_result"
    },
    {
     "data": {
      "image/png": "[encoded data removed]",
      "text/plain": [
       "<Figure size 432x288 with 1 Axes>"
      ]
     },
     "metadata": {
      "needs_background": "light"
     },
     "output_type": "display_data"
    }
   ],
   "source": [
    "plt.plot(dftsm[\"return\"])\n",
    "\n",
    "\n",
    "\n",
    "\n"
   ]
  },
  {
   "cell_type": "code",
   "execution_count": 491,
   "metadata": {},
   "outputs": [
    {
     "data": {
      "text/plain": [
       "[<matplotlib.lines.Line2D at 0x1214487d0>]"
      ]
     },
     "execution_count": 491,
     "metadata": {},
     "output_type": "execute_result"
    },
    {
     "data": {
      "image/png": "[encoded data removed]",
      "text/plain": [
       "<Figure size 432x288 with 1 Axes>"
      ]
     },
     "metadata": {
      "needs_background": "light"
     },
     "output_type": "display_data"
    }
   ],
   "source": [
    "plt.plot(industry_index_m[\"return\"])"
   ]
  },
  {
   "cell_type": "code",
   "execution_count": 492,
   "metadata": {},
   "outputs": [
    {
     "data": {
      "text/plain": [
       "[<matplotlib.lines.Line2D at 0x11dd61510>]"
      ]
     },
     "execution_count": 492,
     "metadata": {},
     "output_type": "execute_result"
    },
    {
     "data": {
      "image/png": "[encoded data removed]",
      "text/plain": [
       "<Figure size 432x288 with 1 Axes>"
      ]
     },
     "metadata": {
      "needs_background": "light"
     },
     "output_type": "display_data"
    }
   ],
   "source": [
    "plt.plot(industry_index_y[\"return\"])"
   ]
  },
  {
   "cell_type": "code",
   "execution_count": null,
   "metadata": {},
   "outputs": [],
   "source": []
  },
  {
   "cell_type": "code",
   "execution_count": null,
   "metadata": {},
   "outputs": [],
   "source": []
  },
  {
   "cell_type": "code",
   "execution_count": 469,
   "metadata": {},
   "outputs": [],
   "source": [
    "l = [2,3,4,5]"
   ]
  },
  {
   "cell_type": "code",
   "execution_count": 470,
   "metadata": {},
   "outputs": [
    {
     "data": {
      "text/html": [
       "<div>\n",
       "<style scoped>\n",
       "    .dataframe tbody tr th:only-of-type {\n",
       "        vertical-align: middle;\n",
       "    }\n",
       "\n",
       "    .dataframe tbody tr th {\n",
       "        vertical-align: top;\n",
       "    }\n",
       "\n",
       "    .dataframe thead th {\n",
       "        text-align: right;\n",
       "    }\n",
       "</style>\n",
       "<table border=\"1\" class=\"dataframe\">\n",
       "  <thead>\n",
       "    <tr style=\"text-align: right;\">\n",
       "      <th></th>\n",
       "      <th>0</th>\n",
       "    </tr>\n",
       "  </thead>\n",
       "  <tbody>\n",
       "    <tr>\n",
       "      <td>0</td>\n",
       "      <td>2</td>\n",
       "    </tr>\n",
       "    <tr>\n",
       "      <td>1</td>\n",
       "      <td>3</td>\n",
       "    </tr>\n",
       "    <tr>\n",
       "      <td>2</td>\n",
       "      <td>4</td>\n",
       "    </tr>\n",
       "    <tr>\n",
       "      <td>3</td>\n",
       "      <td>5</td>\n",
       "    </tr>\n",
       "  </tbody>\n",
       "</table>\n",
       "</div>"
      ],
      "text/plain": [
       "   0\n",
       "0  2\n",
       "1  3\n",
       "2  4\n",
       "3  5"
      ]
     },
     "execution_count": 470,
     "metadata": {},
     "output_type": "execute_result"
    }
   ],
   "source": [
    "pd.DataFrame(l)"
   ]
  },
  {
   "cell_type": "code",
   "execution_count": null,
   "metadata": {},
   "outputs": [],
   "source": []
  }
 ],
 "metadata": {
  "kernelspec": {
   "display_name": "Python 3",
   "language": "python",
   "name": "python3"
  },
  "language_info": {
   "codemirror_mode": {
    "name": "ipython",
    "version": 3
   },
   "file_extension": ".py",
   "mimetype": "text/x-python",
   "name": "python",
   "nbconvert_exporter": "python",
   "pygments_lexer": "ipython3",
   "version": "3.7.4"
  }
 },
 "nbformat": 4,
 "nbformat_minor": 2
}
