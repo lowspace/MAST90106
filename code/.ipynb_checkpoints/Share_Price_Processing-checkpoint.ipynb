{
 "cells": [
  {
   "cell_type": "code",
   "execution_count": 168,
   "metadata": {},
   "outputs": [],
   "source": [
    "import pandas as pd\n",
    "import matplotlib.pyplot as plt\n",
    "import datetime\n"
   ]
  },
  {
   "cell_type": "code",
   "execution_count": 29,
   "metadata": {},
   "outputs": [],
   "source": [
    "def Read_data(folderName, CompanyNameList, df):\n",
    "    ###   Read Data from given file reflect to industry and company\n",
    "    ###   make date become df for searching\n",
    "    for i in len(CompanyNameList):\n",
    "        df[i] = pd.read_csv(f\"~/Documents/GitHub/MAST90106/data/{folderName}/{CompanyNameList[i]}.csv\")\n",
    "        set_date_timeseries(df[i])\n",
    "        \n",
    "    return df"
   ]
  },
  {
   "cell_type": "code",
   "execution_count": 347,
   "metadata": {},
   "outputs": [],
   "source": [
    "def average_share_price(df):\n",
    "    ### Return share price based on month and year in DataFrame\n",
    "    y = df.iloc[0,][\"Date\"][0:4]\n",
    "    year = int(y)\n",
    "    \n",
    "    # make date into timeseries for use, with diff file\n",
    "    df_ts = set_date_timeseries(df)\n",
    "    \n",
    "    month_average = {}\n",
    "    year_average = {}\n",
    "    \n",
    "    # calculate average price in monthly\n",
    "    while year < 2021:\n",
    "        #print(year)\n",
    "        for i in range(1,13):\n",
    "            try:\n",
    "                #print(i)\n",
    "                ave_m = df_ts[f'{year}-{i}'].mean()\n",
    "                #print(ave_m)\n",
    "                month_average[f\"{year}-{i}\"] = ave_m[\"Adj Close\"]\n",
    "                #print(month_average)\n",
    "                \n",
    "            except:\n",
    "                pass\n",
    "    \n",
    "    # calculate average price in yearly\n",
    "        ave_y = df_ts[f'{year}'].mean()\n",
    "        year_average[f\"{year}\"] = ave_y[\"Adj Close\"]\n",
    "        year += 1\n",
    "    \n",
    "    # create month base data and add return of month price into df\n",
    "    df_month  = pd.DataFrame(month_average.items(), columns = [\"Date\", \"average_price\"])\n",
    "    df_m = calculate_price_return(df_month)\n",
    "    \n",
    "    # create year base data and add return of year price into df\n",
    "    df_year = pd.DataFrame(year_average.items(), columns = [\"Date\", \"average_price\"])\n",
    "    df_y = calculate_price_return(df_year)\n",
    "    \n",
    "    \n",
    "    df_ts_m = set_month_timeseries(df_m)\n",
    "    #df_ts_m.drop([\"Date\"], axis = 1, inplace = True)\n",
    "    #df_month.drop([\"Year - Month\"], axis = 1, inplace = True)\n",
    "    \n",
    "    df_ts_y = set_year_timeseries(df_y)\n",
    "    #df_ts_y.drop([\"Date\"], axis = 1, inplace = True)\n",
    "    #df_year.drop([\"Year\"], axis = 1, inplace = True)\n",
    "    \n",
    "    return df_m, df_y, df_ts, df_ts_m, df_ts_y\n",
    "\n",
    "\n"
   ]
  },
  {
   "cell_type": "code",
   "execution_count": null,
   "metadata": {},
   "outputs": [],
   "source": []
  },
  {
   "cell_type": "code",
   "execution_count": 341,
   "metadata": {},
   "outputs": [],
   "source": [
    "def set_date_timeseries(df):\n",
    "    df['Date'] = pd.to_datetime(df['Date'])\n",
    "    df_ts = df.set_index(\"Date\", inplace = False)\n",
    "    return df_ts\n"
   ]
  },
  {
   "cell_type": "code",
   "execution_count": 355,
   "metadata": {},
   "outputs": [],
   "source": [
    "def set_month_timeseries(df):\n",
    "    df['Date'] = pd.to_datetime(df['Date'], format = \"%Y-%m\")\n",
    "    #df['Year - Month'] = df['Date'].map(lambda x: 1000*x.year + x.month)\n",
    "    df_ts = df.set_index(\"Date\", inplace = False)\n",
    "    return df_ts\n",
    "\n",
    "\n"
   ]
  },
  {
   "cell_type": "code",
   "execution_count": 343,
   "metadata": {},
   "outputs": [],
   "source": [
    "def set_year_timeseries(df):\n",
    "    df['Date'] = pd.to_datetime(df['Date'], format = \"%Y\")\n",
    "    #df['Year'] = df['Date'].dt.year\n",
    "    df_ts = df.set_index(\"Date\", inplace = False)\n",
    "    return df_ts\n"
   ]
  },
  {
   "cell_type": "code",
   "execution_count": 217,
   "metadata": {},
   "outputs": [],
   "source": [
    "def calculate_price_return(df):\n",
    "    ### add new colunm with return of price\n",
    "    \n",
    "    \n",
    "    return_list = []\n",
    "    for i in range(len(df[\"average_price\"])):\n",
    "        if i == 0:\n",
    "            return_list.append(0)\n",
    "        else:\n",
    "            r = (df[\"average_price\"][i] - df[\"average_price\"][i - 1]) / df[\"average_price\"][i - 1]\n",
    "            return_list.append(r)\n",
    "    df[\"return\"] = return_list\n",
    "    df.drop([0], axis = 0, inplace = True)\n",
    "    return df\n",
    "\n"
   ]
  },
  {
   "cell_type": "code",
   "execution_count": 303,
   "metadata": {},
   "outputs": [],
   "source": [
    "def process_company_data(df, fileName):\n",
    "    DF = []\n",
    "    df_m, df_y, df_ts, df_ts_m, df_ts_y = average_share_price(df)\n",
    "    DF.append(df)\n",
    "    DF.append(df_ts)\n",
    "    DF.append(df_m)\n",
    "    DF.append(df_ts_m)\n",
    "    DF.append(df_y)\n",
    "    DF.append(df_ts_y)\n",
    "    \n",
    "    DF[3].to_csv(f\"{fileName}_month.csv\", index_label = \"Date\")\n",
    "    DF[5].to_csv(f\"{fileName}_year.csv\", index_label = \"Date\")\n",
    "    return DF\n"
   ]
  },
  {
   "cell_type": "code",
   "execution_count": 327,
   "metadata": {},
   "outputs": [],
   "source": [
    "def plot_return_data(x, des):\n",
    "    plt.plot(x[\"return\"])\n",
    "    plt.xlabel(\"Timeline\")\n",
    "    plt.ylabel(des)\n",
    "    plt.title(f\"{des} VS time\")\n",
    "    plt.show()\n",
    "    "
   ]
  },
  {
   "cell_type": "code",
   "execution_count": 328,
   "metadata": {},
   "outputs": [],
   "source": [
    "def plot_ave_data(x, des):\n",
    "    plt.plot(x[\"average_price\"])\n",
    "    plt.xlabel(\"Timeline\")\n",
    "    plt.ylabel(des)\n",
    "    plt.title(f\"{des} VS time\")\n",
    "    plt.show()\n",
    "    "
   ]
  },
  {
   "cell_type": "code",
   "execution_count": 330,
   "metadata": {},
   "outputs": [],
   "source": [
    "def plot_all(x):\n",
    "    plot_return_data(x, \"return\")\n",
    "    plot_ave_data(x, \"average share price\")"
   ]
  },
  {
   "cell_type": "code",
   "execution_count": null,
   "metadata": {},
   "outputs": [],
   "source": [
    "### calculate data by time \"M\" month, \"Y\" year\n",
    "# df.resample(\"M\").mean()"
   ]
  },
  {
   "cell_type": "code",
   "execution_count": null,
   "metadata": {},
   "outputs": [],
   "source": [
    "def index_generator(DF_list, C):\n",
    "    ### generate average return of industry index\n",
    "    ### C indicate type of return, \"M\": monthly, \"Y\":yearly\n",
    "    tem_list = []\n",
    "    for i in range(len(DF_list)):\n",
    "        tem_list.append(DF_list[i])\n",
    "    t = pd.concat(tem_list)\n",
    "    ave_list = t.resample(C).mean()"
   ]
  },
  {
   "cell_type": "code",
   "execution_count": null,
   "metadata": {},
   "outputs": [],
   "source": []
  },
  {
   "cell_type": "code",
   "execution_count": null,
   "metadata": {},
   "outputs": [],
   "source": []
  },
  {
   "cell_type": "code",
   "execution_count": null,
   "metadata": {},
   "outputs": [],
   "source": []
  },
  {
   "cell_type": "code",
   "execution_count": null,
   "metadata": {},
   "outputs": [],
   "source": []
  },
  {
   "cell_type": "code",
   "execution_count": null,
   "metadata": {},
   "outputs": [],
   "source": []
  },
  {
   "cell_type": "code",
   "execution_count": null,
   "metadata": {},
   "outputs": [],
   "source": []
  },
  {
   "cell_type": "code",
   "execution_count": 382,
   "metadata": {},
   "outputs": [
    {
     "data": {
      "text/html": [
       "<div>\n",
       "<style scoped>\n",
       "    .dataframe tbody tr th:only-of-type {\n",
       "        vertical-align: middle;\n",
       "    }\n",
       "\n",
       "    .dataframe tbody tr th {\n",
       "        vertical-align: top;\n",
       "    }\n",
       "\n",
       "    .dataframe thead th {\n",
       "        text-align: right;\n",
       "    }\n",
       "</style>\n",
       "<table border=\"1\" class=\"dataframe\">\n",
       "  <thead>\n",
       "    <tr style=\"text-align: right;\">\n",
       "      <th></th>\n",
       "      <th>Date</th>\n",
       "      <th>High</th>\n",
       "      <th>Low</th>\n",
       "      <th>Open</th>\n",
       "      <th>Close</th>\n",
       "      <th>Volume</th>\n",
       "      <th>Adj Close</th>\n",
       "    </tr>\n",
       "  </thead>\n",
       "  <tbody>\n",
       "    <tr>\n",
       "      <td>0</td>\n",
       "      <td>2006-11-10</td>\n",
       "      <td>39000.00</td>\n",
       "      <td>33816.00</td>\n",
       "      <td>34200.00</td>\n",
       "      <td>37248.00</td>\n",
       "      <td>1796.0</td>\n",
       "      <td>37248.00</td>\n",
       "    </tr>\n",
       "    <tr>\n",
       "      <td>1</td>\n",
       "      <td>2006-11-13</td>\n",
       "      <td>39840.00</td>\n",
       "      <td>37632.00</td>\n",
       "      <td>37632.00</td>\n",
       "      <td>38376.00</td>\n",
       "      <td>316.0</td>\n",
       "      <td>38376.00</td>\n",
       "    </tr>\n",
       "    <tr>\n",
       "      <td>2</td>\n",
       "      <td>2006-11-14</td>\n",
       "      <td>39096.00</td>\n",
       "      <td>35520.00</td>\n",
       "      <td>39096.00</td>\n",
       "      <td>36600.00</td>\n",
       "      <td>113.0</td>\n",
       "      <td>36600.00</td>\n",
       "    </tr>\n",
       "    <tr>\n",
       "      <td>3</td>\n",
       "      <td>2006-11-15</td>\n",
       "      <td>38400.00</td>\n",
       "      <td>36000.00</td>\n",
       "      <td>36936.00</td>\n",
       "      <td>38400.00</td>\n",
       "      <td>84.0</td>\n",
       "      <td>38400.00</td>\n",
       "    </tr>\n",
       "    <tr>\n",
       "      <td>4</td>\n",
       "      <td>2006-11-16</td>\n",
       "      <td>44688.00</td>\n",
       "      <td>38640.00</td>\n",
       "      <td>38664.00</td>\n",
       "      <td>43800.00</td>\n",
       "      <td>141.0</td>\n",
       "      <td>43800.00</td>\n",
       "    </tr>\n",
       "    <tr>\n",
       "      <td>...</td>\n",
       "      <td>...</td>\n",
       "      <td>...</td>\n",
       "      <td>...</td>\n",
       "      <td>...</td>\n",
       "      <td>...</td>\n",
       "      <td>...</td>\n",
       "      <td>...</td>\n",
       "    </tr>\n",
       "    <tr>\n",
       "      <td>3554</td>\n",
       "      <td>2020-12-24</td>\n",
       "      <td>6.12</td>\n",
       "      <td>5.84</td>\n",
       "      <td>6.12</td>\n",
       "      <td>5.93</td>\n",
       "      <td>26400.0</td>\n",
       "      <td>5.93</td>\n",
       "    </tr>\n",
       "    <tr>\n",
       "      <td>3555</td>\n",
       "      <td>2020-12-28</td>\n",
       "      <td>6.02</td>\n",
       "      <td>5.71</td>\n",
       "      <td>6.02</td>\n",
       "      <td>5.83</td>\n",
       "      <td>43000.0</td>\n",
       "      <td>5.83</td>\n",
       "    </tr>\n",
       "    <tr>\n",
       "      <td>3556</td>\n",
       "      <td>2020-12-29</td>\n",
       "      <td>6.10</td>\n",
       "      <td>5.54</td>\n",
       "      <td>5.85</td>\n",
       "      <td>5.76</td>\n",
       "      <td>36300.0</td>\n",
       "      <td>5.76</td>\n",
       "    </tr>\n",
       "    <tr>\n",
       "      <td>3557</td>\n",
       "      <td>2020-12-30</td>\n",
       "      <td>5.87</td>\n",
       "      <td>5.72</td>\n",
       "      <td>5.84</td>\n",
       "      <td>5.84</td>\n",
       "      <td>24200.0</td>\n",
       "      <td>5.84</td>\n",
       "    </tr>\n",
       "    <tr>\n",
       "      <td>3558</td>\n",
       "      <td>2020-12-31</td>\n",
       "      <td>6.00</td>\n",
       "      <td>5.68</td>\n",
       "      <td>5.86</td>\n",
       "      <td>5.78</td>\n",
       "      <td>79500.0</td>\n",
       "      <td>5.78</td>\n",
       "    </tr>\n",
       "  </tbody>\n",
       "</table>\n",
       "<p>3559 rows × 7 columns</p>\n",
       "</div>"
      ],
      "text/plain": [
       "            Date      High       Low      Open     Close   Volume  Adj Close\n",
       "0     2006-11-10  39000.00  33816.00  34200.00  37248.00   1796.0   37248.00\n",
       "1     2006-11-13  39840.00  37632.00  37632.00  38376.00    316.0   38376.00\n",
       "2     2006-11-14  39096.00  35520.00  39096.00  36600.00    113.0   36600.00\n",
       "3     2006-11-15  38400.00  36000.00  36936.00  38400.00     84.0   38400.00\n",
       "4     2006-11-16  44688.00  38640.00  38664.00  43800.00    141.0   43800.00\n",
       "...          ...       ...       ...       ...       ...      ...        ...\n",
       "3554  2020-12-24      6.12      5.84      6.12      5.93  26400.0       5.93\n",
       "3555  2020-12-28      6.02      5.71      6.02      5.83  43000.0       5.83\n",
       "3556  2020-12-29      6.10      5.54      5.85      5.76  36300.0       5.76\n",
       "3557  2020-12-30      5.87      5.72      5.84      5.84  24200.0       5.84\n",
       "3558  2020-12-31      6.00      5.68      5.86      5.78  79500.0       5.78\n",
       "\n",
       "[3559 rows x 7 columns]"
      ]
     },
     "execution_count": 382,
     "metadata": {},
     "output_type": "execute_result"
    }
   ],
   "source": [
    "df1 = pd.read_csv(\"~/Documents/GitHub/MAST90106/data/agriculture/YTEN.csv\")\n",
    "df1\n"
   ]
  },
  {
   "cell_type": "code",
   "execution_count": 386,
   "metadata": {},
   "outputs": [],
   "source": [
    "dfm, dfy, dfts, dftsm, dftsy = average_share_price(df1)"
   ]
  },
  {
   "cell_type": "code",
   "execution_count": 353,
   "metadata": {},
   "outputs": [
    {
     "data": {
      "text/html": [
       "<div>\n",
       "<style scoped>\n",
       "    .dataframe tbody tr th:only-of-type {\n",
       "        vertical-align: middle;\n",
       "    }\n",
       "\n",
       "    .dataframe tbody tr th {\n",
       "        vertical-align: top;\n",
       "    }\n",
       "\n",
       "    .dataframe thead th {\n",
       "        text-align: right;\n",
       "    }\n",
       "</style>\n",
       "<table border=\"1\" class=\"dataframe\">\n",
       "  <thead>\n",
       "    <tr style=\"text-align: right;\">\n",
       "      <th></th>\n",
       "      <th>average_price</th>\n",
       "      <th>return</th>\n",
       "    </tr>\n",
       "    <tr>\n",
       "      <th>Date</th>\n",
       "      <th></th>\n",
       "      <th></th>\n",
       "    </tr>\n",
       "  </thead>\n",
       "  <tbody>\n",
       "    <tr>\n",
       "      <td>2006-12-01</td>\n",
       "      <td>43687.200000</td>\n",
       "      <td>0.092664</td>\n",
       "    </tr>\n",
       "    <tr>\n",
       "      <td>2007-01-01</td>\n",
       "      <td>40216.800000</td>\n",
       "      <td>-0.079437</td>\n",
       "    </tr>\n",
       "    <tr>\n",
       "      <td>2007-02-01</td>\n",
       "      <td>42425.684211</td>\n",
       "      <td>0.054924</td>\n",
       "    </tr>\n",
       "    <tr>\n",
       "      <td>2007-03-01</td>\n",
       "      <td>41146.909091</td>\n",
       "      <td>-0.030142</td>\n",
       "    </tr>\n",
       "    <tr>\n",
       "      <td>2007-04-01</td>\n",
       "      <td>46262.400000</td>\n",
       "      <td>0.124323</td>\n",
       "    </tr>\n",
       "    <tr>\n",
       "      <td>...</td>\n",
       "      <td>...</td>\n",
       "      <td>...</td>\n",
       "    </tr>\n",
       "    <tr>\n",
       "      <td>2020-08-01</td>\n",
       "      <td>5.470952</td>\n",
       "      <td>-0.128703</td>\n",
       "    </tr>\n",
       "    <tr>\n",
       "      <td>2020-09-01</td>\n",
       "      <td>6.691429</td>\n",
       "      <td>0.223083</td>\n",
       "    </tr>\n",
       "    <tr>\n",
       "      <td>2020-10-01</td>\n",
       "      <td>6.540454</td>\n",
       "      <td>-0.022562</td>\n",
       "    </tr>\n",
       "    <tr>\n",
       "      <td>2020-11-01</td>\n",
       "      <td>6.146000</td>\n",
       "      <td>-0.060310</td>\n",
       "    </tr>\n",
       "    <tr>\n",
       "      <td>2020-12-01</td>\n",
       "      <td>6.259091</td>\n",
       "      <td>0.018401</td>\n",
       "    </tr>\n",
       "  </tbody>\n",
       "</table>\n",
       "<p>169 rows × 2 columns</p>\n",
       "</div>"
      ],
      "text/plain": [
       "            average_price    return\n",
       "Date                               \n",
       "2006-12-01   43687.200000  0.092664\n",
       "2007-01-01   40216.800000 -0.079437\n",
       "2007-02-01   42425.684211  0.054924\n",
       "2007-03-01   41146.909091 -0.030142\n",
       "2007-04-01   46262.400000  0.124323\n",
       "...                   ...       ...\n",
       "2020-08-01       5.470952 -0.128703\n",
       "2020-09-01       6.691429  0.223083\n",
       "2020-10-01       6.540454 -0.022562\n",
       "2020-11-01       6.146000 -0.060310\n",
       "2020-12-01       6.259091  0.018401\n",
       "\n",
       "[169 rows x 2 columns]"
      ]
     },
     "execution_count": 353,
     "metadata": {},
     "output_type": "execute_result"
    }
   ],
   "source": [
    "dftsm"
   ]
  },
  {
   "cell_type": "code",
   "execution_count": 354,
   "metadata": {},
   "outputs": [
    {
     "data": {
      "text/html": [
       "<div>\n",
       "<style scoped>\n",
       "    .dataframe tbody tr th:only-of-type {\n",
       "        vertical-align: middle;\n",
       "    }\n",
       "\n",
       "    .dataframe tbody tr th {\n",
       "        vertical-align: top;\n",
       "    }\n",
       "\n",
       "    .dataframe thead th {\n",
       "        text-align: right;\n",
       "    }\n",
       "</style>\n",
       "<table border=\"1\" class=\"dataframe\">\n",
       "  <thead>\n",
       "    <tr style=\"text-align: right;\">\n",
       "      <th></th>\n",
       "      <th>Date</th>\n",
       "      <th>average_price</th>\n",
       "      <th>return</th>\n",
       "    </tr>\n",
       "  </thead>\n",
       "  <tbody>\n",
       "    <tr>\n",
       "      <td>1</td>\n",
       "      <td>2006-12-01</td>\n",
       "      <td>43687.200000</td>\n",
       "      <td>0.092664</td>\n",
       "    </tr>\n",
       "    <tr>\n",
       "      <td>2</td>\n",
       "      <td>2007-01-01</td>\n",
       "      <td>40216.800000</td>\n",
       "      <td>-0.079437</td>\n",
       "    </tr>\n",
       "    <tr>\n",
       "      <td>3</td>\n",
       "      <td>2007-02-01</td>\n",
       "      <td>42425.684211</td>\n",
       "      <td>0.054924</td>\n",
       "    </tr>\n",
       "    <tr>\n",
       "      <td>4</td>\n",
       "      <td>2007-03-01</td>\n",
       "      <td>41146.909091</td>\n",
       "      <td>-0.030142</td>\n",
       "    </tr>\n",
       "    <tr>\n",
       "      <td>5</td>\n",
       "      <td>2007-04-01</td>\n",
       "      <td>46262.400000</td>\n",
       "      <td>0.124323</td>\n",
       "    </tr>\n",
       "    <tr>\n",
       "      <td>...</td>\n",
       "      <td>...</td>\n",
       "      <td>...</td>\n",
       "      <td>...</td>\n",
       "    </tr>\n",
       "    <tr>\n",
       "      <td>165</td>\n",
       "      <td>2020-08-01</td>\n",
       "      <td>5.470952</td>\n",
       "      <td>-0.128703</td>\n",
       "    </tr>\n",
       "    <tr>\n",
       "      <td>166</td>\n",
       "      <td>2020-09-01</td>\n",
       "      <td>6.691429</td>\n",
       "      <td>0.223083</td>\n",
       "    </tr>\n",
       "    <tr>\n",
       "      <td>167</td>\n",
       "      <td>2020-10-01</td>\n",
       "      <td>6.540454</td>\n",
       "      <td>-0.022562</td>\n",
       "    </tr>\n",
       "    <tr>\n",
       "      <td>168</td>\n",
       "      <td>2020-11-01</td>\n",
       "      <td>6.146000</td>\n",
       "      <td>-0.060310</td>\n",
       "    </tr>\n",
       "    <tr>\n",
       "      <td>169</td>\n",
       "      <td>2020-12-01</td>\n",
       "      <td>6.259091</td>\n",
       "      <td>0.018401</td>\n",
       "    </tr>\n",
       "  </tbody>\n",
       "</table>\n",
       "<p>169 rows × 3 columns</p>\n",
       "</div>"
      ],
      "text/plain": [
       "          Date  average_price    return\n",
       "1   2006-12-01   43687.200000  0.092664\n",
       "2   2007-01-01   40216.800000 -0.079437\n",
       "3   2007-02-01   42425.684211  0.054924\n",
       "4   2007-03-01   41146.909091 -0.030142\n",
       "5   2007-04-01   46262.400000  0.124323\n",
       "..         ...            ...       ...\n",
       "165 2020-08-01       5.470952 -0.128703\n",
       "166 2020-09-01       6.691429  0.223083\n",
       "167 2020-10-01       6.540454 -0.022562\n",
       "168 2020-11-01       6.146000 -0.060310\n",
       "169 2020-12-01       6.259091  0.018401\n",
       "\n",
       "[169 rows x 3 columns]"
      ]
     },
     "execution_count": 354,
     "metadata": {},
     "output_type": "execute_result"
    }
   ],
   "source": [
    "dfm"
   ]
  },
  {
   "cell_type": "code",
   "execution_count": null,
   "metadata": {},
   "outputs": [],
   "source": []
  },
  {
   "cell_type": "code",
   "execution_count": null,
   "metadata": {},
   "outputs": [],
   "source": []
  },
  {
   "cell_type": "code",
   "execution_count": null,
   "metadata": {},
   "outputs": [],
   "source": []
  },
  {
   "cell_type": "code",
   "execution_count": null,
   "metadata": {},
   "outputs": [],
   "source": [
    "\n"
   ]
  },
  {
   "cell_type": "code",
   "execution_count": 324,
   "metadata": {},
   "outputs": [
    {
     "data": {
      "image/png": "[encoded data removed]",
      "text/plain": [
       "<Figure size 432x288 with 1 Axes>"
      ]
     },
     "metadata": {
      "needs_background": "light"
     },
     "output_type": "display_data"
    }
   ],
   "source": [
    "plt.plot(dfts[\"Close\"])\n",
    "plt.xlabel(\"year\")\n",
    "plt.ylabel(\"price\")\n",
    "plt.title(f\"share price\")\n",
    "plt.show()\n"
   ]
  },
  {
   "cell_type": "code",
   "execution_count": 326,
   "metadata": {},
   "outputs": [
    {
     "data": {
      "image/png": "[encoded data removed]",
      "text/plain": [
       "<Figure size 432x288 with 1 Axes>"
      ]
     },
     "metadata": {
      "needs_background": "light"
     },
     "output_type": "display_data"
    }
   ],
   "source": [
    "plot_data(dftsm[\"average_price\"], \"return of month\")\n",
    "\n",
    "\n"
   ]
  },
  {
   "cell_type": "code",
   "execution_count": 318,
   "metadata": {},
   "outputs": [
    {
     "data": {
      "text/plain": [
       "[<matplotlib.lines.Line2D at 0x11e365e50>]"
      ]
     },
     "execution_count": 318,
     "metadata": {},
     "output_type": "execute_result"
    },
    {
     "data": {
      "image/png": "[encoded data removed]",
      "text/plain": [
       "<Figure size 432x288 with 1 Axes>"
      ]
     },
     "metadata": {
      "needs_background": "light"
     },
     "output_type": "display_data"
    }
   ],
   "source": [
    "plt.plot(dftsm[\"return\"])\n",
    "\n",
    "\n",
    "\n",
    "\n"
   ]
  },
  {
   "cell_type": "code",
   "execution_count": null,
   "metadata": {},
   "outputs": [],
   "source": []
  },
  {
   "cell_type": "code",
   "execution_count": null,
   "metadata": {},
   "outputs": [],
   "source": []
  },
  {
   "cell_type": "code",
   "execution_count": null,
   "metadata": {},
   "outputs": [],
   "source": []
  },
  {
   "cell_type": "code",
   "execution_count": null,
   "metadata": {},
   "outputs": [],
   "source": []
  },
  {
   "cell_type": "code",
   "execution_count": null,
   "metadata": {},
   "outputs": [],
   "source": []
  }
 ],
 "metadata": {
  "kernelspec": {
   "display_name": "Python 3",
   "language": "python",
   "name": "python3"
  },
  "language_info": {
   "codemirror_mode": {
    "name": "ipython",
    "version": 3
   },
   "file_extension": ".py",
   "mimetype": "text/x-python",
   "name": "python",
   "nbconvert_exporter": "python",
   "pygments_lexer": "ipython3",
   "version": "3.7.4"
  }
 },
 "nbformat": 4,
 "nbformat_minor": 2
}
