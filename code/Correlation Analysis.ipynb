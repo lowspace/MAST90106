{
 "cells": [
  {
   "cell_type": "markdown",
   "id": "23dd0f86",
   "metadata": {},
   "source": [
    "# Set up"
   ]
  },
  {
   "cell_type": "code",
   "execution_count": 5,
   "id": "eb1ce637",
   "metadata": {},
   "outputs": [],
   "source": [
    "from scipy.stats import pearsonr\n",
    "from scipy.stats import spearmanr\n",
    "from scipy.stats import kendalltau\n",
    "\n",
    "import numpy as np"
   ]
  },
  {
   "cell_type": "markdown",
   "id": "f60b6cb4",
   "metadata": {},
   "source": [
    "# Person\n",
    "\n",
    "$$\n",
    "r=\\frac{\\sum\\left(x-m_{x}\\right)\\left(y-m_{y}\\right)}{\\sqrt{\\sum\\left(x-m_{x}\\right)^{2} \\sum\\left(y-m_{y}\\right)^{2}}}\n",
    "$$\n",
    "\n",
    "REF: https://docs.scipy.org/doc/scipy/reference/generated/scipy.stats.pearsonr.html"
   ]
  },
  {
   "cell_type": "code",
   "execution_count": 4,
   "id": "af0f7783",
   "metadata": {},
   "outputs": [
    {
     "data": {
      "text/plain": [
       "(0.8660254037844386, 0.011724811003954649)"
      ]
     },
     "execution_count": 4,
     "metadata": {},
     "output_type": "execute_result"
    }
   ],
   "source": [
    "a = np.array([0, 0, 0, 1, 1, 1, 1])\n",
    "b = np.arange(7)\n",
    "pearsonr(a, b)"
   ]
  },
  {
   "cell_type": "markdown",
   "id": "be18bf19",
   "metadata": {},
   "source": [
    "# Spearman\n",
    "\n",
    "$$\n",
    "\\rho=1-\\frac{6 \\sum d_{i}^{2}}{n\\left(n^{2}-1\\right)}\n",
    "$$\n",
    "\n",
    "$\\rho$ \t=\tSpearman's rank correlation coefficient  \n",
    "$d_i$ = difference between the two ranks of each observation  \n",
    "$n$ = number of observations\n",
    "\n",
    "REF1: https://docs.scipy.org/doc/scipy/reference/generated/scipy.stats.spearmanr.html  \n",
    "REF2: https://en.wikipedia.org/wiki/Spearman%27s_rank_correlation_coefficient"
   ]
  },
  {
   "cell_type": "code",
   "execution_count": 11,
   "id": "1a606652",
   "metadata": {},
   "outputs": [
    {
     "data": {
      "text/plain": [
       "SpearmanrResult(correlation=0.8207826816681233, pvalue=0.08858700531354381)"
      ]
     },
     "execution_count": 11,
     "metadata": {},
     "output_type": "execute_result"
    }
   ],
   "source": [
    "spearmanr([1,2,3,4,5], [5,6,7,8,7])"
   ]
  },
  {
   "cell_type": "markdown",
   "id": "7616dac1",
   "metadata": {},
   "source": [
    "# Kendall\n",
    "\n",
    "$$\n",
    "\\tau=\\frac{(\\text { number of concordant pairs })-(\\text { number of discordant pairs })}{\\left(\\begin{array}{c}\n",
    "n \\\\\n",
    "2\n",
    "\\end{array}\\right)}\n",
    "$$\n",
    "\n",
    "REF: https://docs.scipy.org/doc/scipy/reference/generated/scipy.stats.kendalltau.html?highlight=kendall#scipy.stats.kendalltau"
   ]
  },
  {
   "cell_type": "code",
   "execution_count": 9,
   "id": "40c3160b",
   "metadata": {},
   "outputs": [
    {
     "name": "stdout",
     "output_type": "stream",
     "text": [
      "-0.4714045207910316 0.2827454599327748\n"
     ]
    }
   ],
   "source": [
    "x1 = [12, 2, 1, 12, 2]\n",
    "x2 = [1, 4, 7, 1, 0]\n",
    "tau, p_value = stats.kendalltau(x1, x2)\n",
    "print(tau, p_value)"
   ]
  }
 ],
 "metadata": {
  "kernelspec": {
   "display_name": "Python 3",
   "language": "python",
   "name": "python3"
  },
  "language_info": {
   "codemirror_mode": {
    "name": "ipython",
    "version": 3
   },
   "file_extension": ".py",
   "mimetype": "text/x-python",
   "name": "python",
   "nbconvert_exporter": "python",
   "pygments_lexer": "ipython3",
   "version": "3.7.10"
  }
 },
 "nbformat": 4,
 "nbformat_minor": 5
}
