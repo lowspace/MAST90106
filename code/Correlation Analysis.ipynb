{
 "cells": [
  {
   "cell_type": "markdown",
   "id": "23dd0f86",
   "metadata": {},
   "source": [
    "# Set up"
   ]
  },
  {
   "cell_type": "code",
   "execution_count": 2,
   "id": "eb1ce637",
   "metadata": {},
   "outputs": [],
   "source": [
    "from scipy.stats import pearsonr\n",
    "from scipy.stats import spearmanr\n",
    "from scipy.stats import kendalltau\n",
    "\n",
    "import numpy as np\n",
    "import os\n",
    "import pandas as pd\n",
    "import json"
   ]
  },
  {
   "cell_type": "markdown",
   "id": "650e2d3d",
   "metadata": {},
   "source": [
    "# Read data"
   ]
  },
  {
   "cell_type": "markdown",
   "id": "e5c5f445",
   "metadata": {},
   "source": [
    "## Read financial data"
   ]
  },
  {
   "cell_type": "code",
   "execution_count": 20,
   "id": "9b3b9815",
   "metadata": {},
   "outputs": [],
   "source": [
    "root_path = os.path.abspath(os.path.dirname(os.getcwd()))\n",
    "data_path = os.path.join(root_path, 'data')\n",
    "agr_path = os.path.join(data_path, 'agriculture')\n",
    "\n",
    "finc_data = []\n",
    "for file in os.listdir(agr_path):\n",
    "    if file.endswith('.json'):\n",
    "        file_path = os.path.join(agr_path, file)\n",
    "    with open(file_path, 'r') as file:\n",
    "        finc_data.append(json.load(file))\n",
    "        \n",
    "ROA_data = {}\n",
    "for i in finc_data:\n",
    "    for k, v in i.items():\n",
    "        ROA_data[k] = pd.DataFrame.from_dict(i[k]['ROA'])"
   ]
  },
  {
   "cell_type": "code",
   "execution_count": 22,
   "id": "75ebbf3c",
   "metadata": {},
   "outputs": [
    {
     "data": {
      "text/html": [
       "<div>\n",
       "<style scoped>\n",
       "    .dataframe tbody tr th:only-of-type {\n",
       "        vertical-align: middle;\n",
       "    }\n",
       "\n",
       "    .dataframe tbody tr th {\n",
       "        vertical-align: top;\n",
       "    }\n",
       "\n",
       "    .dataframe thead th {\n",
       "        text-align: right;\n",
       "    }\n",
       "</style>\n",
       "<table border=\"1\" class=\"dataframe\">\n",
       "  <thead>\n",
       "    <tr style=\"text-align: right;\">\n",
       "      <th></th>\n",
       "      <th>name</th>\n",
       "      <th>12/31/2020</th>\n",
       "      <th>12/31/2019</th>\n",
       "      <th>12/31/2018</th>\n",
       "      <th>12/31/2017</th>\n",
       "      <th>12/31/2016</th>\n",
       "      <th>12/31/2015</th>\n",
       "      <th>12/31/2014</th>\n",
       "      <th>12/31/2013</th>\n",
       "      <th>12/31/2012</th>\n",
       "    </tr>\n",
       "  </thead>\n",
       "  <tbody>\n",
       "    <tr>\n",
       "      <th>48</th>\n",
       "      <td>ROA</td>\n",
       "      <td>-0.579412497</td>\n",
       "      <td>-3.585387105</td>\n",
       "      <td>-11.53122327</td>\n",
       "      <td>-10.72882514</td>\n",
       "      <td>-4.87431694</td>\n",
       "      <td>-5.632371393</td>\n",
       "      <td>-3.387329147</td>\n",
       "      <td>-1.889859639</td>\n",
       "      <td>-1.909539981</td>\n",
       "    </tr>\n",
       "  </tbody>\n",
       "</table>\n",
       "</div>"
      ],
      "text/plain": [
       "   name    12/31/2020    12/31/2019    12/31/2018    12/31/2017   12/31/2016  \\\n",
       "48  ROA  -0.579412497  -3.585387105  -11.53122327  -10.72882514  -4.87431694   \n",
       "\n",
       "      12/31/2015    12/31/2014    12/31/2013    12/31/2012  \n",
       "48  -5.632371393  -3.387329147  -1.889859639  -1.909539981  "
      ]
     },
     "execution_count": 22,
     "metadata": {},
     "output_type": "execute_result"
    }
   ],
   "source": [
    "ROA_data['RKDA']"
   ]
  },
  {
   "cell_type": "markdown",
   "id": "02063b8d",
   "metadata": {},
   "source": [
    "## Read temperature data"
   ]
  },
  {
   "cell_type": "markdown",
   "id": "f60b6cb4",
   "metadata": {},
   "source": [
    "# Person\n",
    "\n",
    "$$\n",
    "r=\\frac{\\sum\\left(x-m_{x}\\right)\\left(y-m_{y}\\right)}{\\sqrt{\\sum\\left(x-m_{x}\\right)^{2} \\sum\\left(y-m_{y}\\right)^{2}}}\n",
    "$$\n",
    "\n",
    "REF: https://docs.scipy.org/doc/scipy/reference/generated/scipy.stats.pearsonr.html"
   ]
  },
  {
   "cell_type": "code",
   "execution_count": 4,
   "id": "af0f7783",
   "metadata": {},
   "outputs": [
    {
     "data": {
      "text/plain": [
       "(0.8660254037844386, 0.011724811003954649)"
      ]
     },
     "execution_count": 4,
     "metadata": {},
     "output_type": "execute_result"
    }
   ],
   "source": [
    "a = np.array([0, 0, 0, 1, 1, 1, 1])\n",
    "b = np.arange(7)\n",
    "pearsonr(a, b)"
   ]
  },
  {
   "cell_type": "markdown",
   "id": "be18bf19",
   "metadata": {},
   "source": [
    "# Spearman\n",
    "\n",
    "$$\n",
    "\\rho=1-\\frac{6 \\sum d_{i}^{2}}{n\\left(n^{2}-1\\right)}\n",
    "$$\n",
    "\n",
    "$\\rho$ \t=\tSpearman's rank correlation coefficient  \n",
    "$d_i$ = difference between the two ranks of each observation  \n",
    "$n$ = number of observations\n",
    "\n",
    "REF1: https://docs.scipy.org/doc/scipy/reference/generated/scipy.stats.spearmanr.html  \n",
    "REF2: https://en.wikipedia.org/wiki/Spearman%27s_rank_correlation_coefficient"
   ]
  },
  {
   "cell_type": "code",
   "execution_count": 11,
   "id": "1a606652",
   "metadata": {},
   "outputs": [
    {
     "data": {
      "text/plain": [
       "SpearmanrResult(correlation=0.8207826816681233, pvalue=0.08858700531354381)"
      ]
     },
     "execution_count": 11,
     "metadata": {},
     "output_type": "execute_result"
    }
   ],
   "source": [
    "spearmanr([1,2,3,4,5], [5,6,7,8,7])"
   ]
  },
  {
   "cell_type": "markdown",
   "id": "7616dac1",
   "metadata": {},
   "source": [
    "# Kendall\n",
    "\n",
    "$$\n",
    "\\tau=\\frac{(\\text { number of concordant pairs })-(\\text { number of discordant pairs })}{\\left(\\begin{array}{c}\n",
    "n \\\\\n",
    "2\n",
    "\\end{array}\\right)}\n",
    "$$\n",
    "\n",
    "REF: https://docs.scipy.org/doc/scipy/reference/generated/scipy.stats.kendalltau.html?highlight=kendall#scipy.stats.kendalltau"
   ]
  },
  {
   "cell_type": "code",
   "execution_count": 9,
   "id": "40c3160b",
   "metadata": {},
   "outputs": [
    {
     "name": "stdout",
     "output_type": "stream",
     "text": [
      "-0.4714045207910316 0.2827454599327748\n"
     ]
    }
   ],
   "source": [
    "x1 = [12, 2, 1, 12, 2]\n",
    "x2 = [1, 4, 7, 1, 0]\n",
    "tau, p_value = stats.kendalltau(x1, x2)\n",
    "print(tau, p_value)"
   ]
  }
 ],
 "metadata": {
  "kernelspec": {
   "display_name": "Python 3",
   "language": "python",
   "name": "python3"
  },
  "language_info": {
   "codemirror_mode": {
    "name": "ipython",
    "version": 3
   },
   "file_extension": ".py",
   "mimetype": "text/x-python",
   "name": "python",
   "nbconvert_exporter": "python",
   "pygments_lexer": "ipython3",
   "version": "3.7.10"
  }
 },
 "nbformat": 4,
 "nbformat_minor": 5
}
