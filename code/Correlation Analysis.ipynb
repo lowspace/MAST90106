{
 "cells": [
  {
   "cell_type": "markdown",
   "id": "40441760",
   "metadata": {
    "toc": true
   },
   "source": [
    "<h1>Table of Contents<span class=\"tocSkip\"></span></h1>\n",
    "<div class=\"toc\"><ul class=\"toc-item\"><li><span><a href=\"#Set-up\" data-toc-modified-id=\"Set-up-1\"><span class=\"toc-item-num\">1&nbsp;&nbsp;</span>Set up</a></span></li><li><span><a href=\"#Read-data\" data-toc-modified-id=\"Read-data-2\"><span class=\"toc-item-num\">2&nbsp;&nbsp;</span>Read data</a></span><ul class=\"toc-item\"><li><span><a href=\"#Read-financial-data\" data-toc-modified-id=\"Read-financial-data-2.1\"><span class=\"toc-item-num\">2.1&nbsp;&nbsp;</span>Read financial data</a></span></li><li><span><a href=\"#Read-temperature-data\" data-toc-modified-id=\"Read-temperature-data-2.2\"><span class=\"toc-item-num\">2.2&nbsp;&nbsp;</span>Read temperature data</a></span><ul class=\"toc-item\"><li><span><a href=\"#Montly-temp-differ-data\" data-toc-modified-id=\"Montly-temp-differ-data-2.2.1\"><span class=\"toc-item-num\">2.2.1&nbsp;&nbsp;</span>Montly temp differ data</a></span></li><li><span><a href=\"#Yearly-temp-differ-data\" data-toc-modified-id=\"Yearly-temp-differ-data-2.2.2\"><span class=\"toc-item-num\">2.2.2&nbsp;&nbsp;</span>Yearly temp differ data</a></span></li><li><span><a href=\"#Bushfire-data\" data-toc-modified-id=\"Bushfire-data-2.2.3\"><span class=\"toc-item-num\">2.2.3&nbsp;&nbsp;</span>Bushfire data</a></span></li></ul></li></ul></li><li><span><a href=\"#US-Average-Temp-difference-Correlation-Analysis\" data-toc-modified-id=\"US-Average-Temp-difference-Correlation-Analysis-3\"><span class=\"toc-item-num\">3&nbsp;&nbsp;</span>US Average Temp difference Correlation Analysis</a></span><ul class=\"toc-item\"><li><span><a href=\"#Monthly\" data-toc-modified-id=\"Monthly-3.1\"><span class=\"toc-item-num\">3.1&nbsp;&nbsp;</span>Monthly</a></span></li><li><span><a href=\"#Yearly\" data-toc-modified-id=\"Yearly-3.2\"><span class=\"toc-item-num\">3.2&nbsp;&nbsp;</span>Yearly</a></span></li></ul></li><li><span><a href=\"#Temp-difference-on-States\" data-toc-modified-id=\"Temp-difference-on-States-4\"><span class=\"toc-item-num\">4&nbsp;&nbsp;</span>Temp difference on States</a></span></li><li><span><a href=\"#Bushfires\" data-toc-modified-id=\"Bushfires-5\"><span class=\"toc-item-num\">5&nbsp;&nbsp;</span>Bushfires</a></span></li><li><span><a href=\"#Appendix\" data-toc-modified-id=\"Appendix-6\"><span class=\"toc-item-num\">6&nbsp;&nbsp;</span>Appendix</a></span><ul class=\"toc-item\"><li><span><a href=\"#Person\" data-toc-modified-id=\"Person-6.1\"><span class=\"toc-item-num\">6.1&nbsp;&nbsp;</span>Person</a></span></li><li><span><a href=\"#Spearman\" data-toc-modified-id=\"Spearman-6.2\"><span class=\"toc-item-num\">6.2&nbsp;&nbsp;</span>Spearman</a></span></li><li><span><a href=\"#Kendall\" data-toc-modified-id=\"Kendall-6.3\"><span class=\"toc-item-num\">6.3&nbsp;&nbsp;</span>Kendall</a></span></li></ul></li></ul></div>"
   ]
  },
  {
   "cell_type": "markdown",
   "id": "23dd0f86",
   "metadata": {},
   "source": [
    "# Set up"
   ]
  },
  {
   "cell_type": "code",
   "execution_count": 79,
   "id": "eb1ce637",
   "metadata": {
    "ExecuteTime": {
     "end_time": "2021-05-18T10:47:35.127553Z",
     "start_time": "2021-05-18T10:47:35.124844Z"
    }
   },
   "outputs": [],
   "source": [
    "from scipy.stats import pearsonr\n",
    "from scipy.stats import spearmanr\n",
    "from scipy.stats import kendalltau\n",
    "\n",
    "import matplotlib.pyplot as plt\n",
    "\n",
    "import numpy as np\n",
    "import os\n",
    "import pandas as pd\n",
    "import json\n",
    "import re\n",
    "from geopy.geocoders import Nominatim"
   ]
  },
  {
   "cell_type": "markdown",
   "id": "22517530",
   "metadata": {},
   "source": [
    "# Read data"
   ]
  },
  {
   "cell_type": "markdown",
   "id": "06e9010f",
   "metadata": {},
   "source": [
    "## Read financial data"
   ]
  },
  {
   "cell_type": "code",
   "execution_count": 164,
   "id": "dcfd38f7",
   "metadata": {
    "ExecuteTime": {
     "end_time": "2021-05-18T15:47:06.960045Z",
     "start_time": "2021-05-18T15:47:06.609633Z"
    }
   },
   "outputs": [],
   "source": [
    "def toInt(l:list) -> list:\n",
    "    for i in range(len(l)):\n",
    "        l[i] = float(l[i])\n",
    "\n",
    "root_path = os.path.abspath(os.path.dirname(os.getcwd()))\n",
    "data_path = os.path.join(root_path, 'data')\n",
    "agr_path = os.path.join(data_path, 'agriculture')\n",
    "\n",
    "finc_data = []\n",
    "for file in os.listdir(agr_path):\n",
    "    if file.endswith('.json'):\n",
    "        file_path = os.path.join(agr_path, file)\n",
    "        with open(file_path, 'r') as file:\n",
    "            finc_data.append(json.load(file))\n",
    "        \n",
    "ROA_data = {}\n",
    "state_data = {}\n",
    "for i in finc_data:\n",
    "    for k, v in i.items():\n",
    "        try:\n",
    "            state_data[k] =  i[k]['state']\n",
    "            ROA_data[k] = pd.DataFrame.from_dict(i[k]['ROA'])\n",
    "        except:\n",
    "            pass"
   ]
  },
  {
   "cell_type": "code",
   "execution_count": 81,
   "id": "5190985d",
   "metadata": {
    "ExecuteTime": {
     "end_time": "2021-05-18T10:47:35.751554Z",
     "start_time": "2021-05-18T10:47:35.732125Z"
    },
    "code_folding": []
   },
   "outputs": [
    {
     "data": {
      "text/html": [
       "<div>\n",
       "<style scoped>\n",
       "    .dataframe tbody tr th:only-of-type {\n",
       "        vertical-align: middle;\n",
       "    }\n",
       "\n",
       "    .dataframe tbody tr th {\n",
       "        vertical-align: top;\n",
       "    }\n",
       "\n",
       "    .dataframe thead th {\n",
       "        text-align: right;\n",
       "    }\n",
       "</style>\n",
       "<table border=\"1\" class=\"dataframe\">\n",
       "  <thead>\n",
       "    <tr style=\"text-align: right;\">\n",
       "      <th></th>\n",
       "      <th>Date</th>\n",
       "      <th>High</th>\n",
       "      <th>Low</th>\n",
       "      <th>Open</th>\n",
       "      <th>Close</th>\n",
       "      <th>Volume</th>\n",
       "      <th>Adj Close</th>\n",
       "    </tr>\n",
       "  </thead>\n",
       "  <tbody>\n",
       "    <tr>\n",
       "      <th>0</th>\n",
       "      <td>2015-05-15</td>\n",
       "      <td>154.000000</td>\n",
       "      <td>141.199997</td>\n",
       "      <td>149.800003</td>\n",
       "      <td>146.000000</td>\n",
       "      <td>79130.0</td>\n",
       "      <td>146.000000</td>\n",
       "    </tr>\n",
       "    <tr>\n",
       "      <th>1</th>\n",
       "      <td>2015-05-18</td>\n",
       "      <td>160.800003</td>\n",
       "      <td>142.000000</td>\n",
       "      <td>145.000000</td>\n",
       "      <td>149.000000</td>\n",
       "      <td>12200.0</td>\n",
       "      <td>149.000000</td>\n",
       "    </tr>\n",
       "    <tr>\n",
       "      <th>2</th>\n",
       "      <td>2015-05-19</td>\n",
       "      <td>156.800003</td>\n",
       "      <td>146.000000</td>\n",
       "      <td>154.000000</td>\n",
       "      <td>156.000000</td>\n",
       "      <td>5005.0</td>\n",
       "      <td>156.000000</td>\n",
       "    </tr>\n",
       "    <tr>\n",
       "      <th>3</th>\n",
       "      <td>2015-05-20</td>\n",
       "      <td>158.000000</td>\n",
       "      <td>151.199997</td>\n",
       "      <td>152.800003</td>\n",
       "      <td>155.800003</td>\n",
       "      <td>5810.0</td>\n",
       "      <td>155.800003</td>\n",
       "    </tr>\n",
       "    <tr>\n",
       "      <th>4</th>\n",
       "      <td>2015-05-21</td>\n",
       "      <td>158.000000</td>\n",
       "      <td>151.800003</td>\n",
       "      <td>153.800003</td>\n",
       "      <td>157.800003</td>\n",
       "      <td>5175.0</td>\n",
       "      <td>157.800003</td>\n",
       "    </tr>\n",
       "    <tr>\n",
       "      <th>...</th>\n",
       "      <td>...</td>\n",
       "      <td>...</td>\n",
       "      <td>...</td>\n",
       "      <td>...</td>\n",
       "      <td>...</td>\n",
       "      <td>...</td>\n",
       "      <td>...</td>\n",
       "    </tr>\n",
       "    <tr>\n",
       "      <th>1414</th>\n",
       "      <td>2020-12-24</td>\n",
       "      <td>2.640000</td>\n",
       "      <td>2.530000</td>\n",
       "      <td>2.610000</td>\n",
       "      <td>2.580000</td>\n",
       "      <td>207200.0</td>\n",
       "      <td>2.580000</td>\n",
       "    </tr>\n",
       "    <tr>\n",
       "      <th>1415</th>\n",
       "      <td>2020-12-28</td>\n",
       "      <td>2.665000</td>\n",
       "      <td>2.510000</td>\n",
       "      <td>2.650000</td>\n",
       "      <td>2.540000</td>\n",
       "      <td>410800.0</td>\n",
       "      <td>2.540000</td>\n",
       "    </tr>\n",
       "    <tr>\n",
       "      <th>1416</th>\n",
       "      <td>2020-12-29</td>\n",
       "      <td>2.570000</td>\n",
       "      <td>2.421000</td>\n",
       "      <td>2.540000</td>\n",
       "      <td>2.470000</td>\n",
       "      <td>377000.0</td>\n",
       "      <td>2.470000</td>\n",
       "    </tr>\n",
       "    <tr>\n",
       "      <th>1417</th>\n",
       "      <td>2020-12-30</td>\n",
       "      <td>2.540000</td>\n",
       "      <td>2.475000</td>\n",
       "      <td>2.500000</td>\n",
       "      <td>2.490000</td>\n",
       "      <td>269500.0</td>\n",
       "      <td>2.490000</td>\n",
       "    </tr>\n",
       "    <tr>\n",
       "      <th>1418</th>\n",
       "      <td>2020-12-31</td>\n",
       "      <td>2.580000</td>\n",
       "      <td>2.475000</td>\n",
       "      <td>2.500000</td>\n",
       "      <td>2.530000</td>\n",
       "      <td>525900.0</td>\n",
       "      <td>2.530000</td>\n",
       "    </tr>\n",
       "  </tbody>\n",
       "</table>\n",
       "<p>1419 rows × 7 columns</p>\n",
       "</div>"
      ],
      "text/plain": [
       "            Date        High         Low        Open       Close    Volume  \\\n",
       "0     2015-05-15  154.000000  141.199997  149.800003  146.000000   79130.0   \n",
       "1     2015-05-18  160.800003  142.000000  145.000000  149.000000   12200.0   \n",
       "2     2015-05-19  156.800003  146.000000  154.000000  156.000000    5005.0   \n",
       "3     2015-05-20  158.000000  151.199997  152.800003  155.800003    5810.0   \n",
       "4     2015-05-21  158.000000  151.800003  153.800003  157.800003    5175.0   \n",
       "...          ...         ...         ...         ...         ...       ...   \n",
       "1414  2020-12-24    2.640000    2.530000    2.610000    2.580000  207200.0   \n",
       "1415  2020-12-28    2.665000    2.510000    2.650000    2.540000  410800.0   \n",
       "1416  2020-12-29    2.570000    2.421000    2.540000    2.470000  377000.0   \n",
       "1417  2020-12-30    2.540000    2.475000    2.500000    2.490000  269500.0   \n",
       "1418  2020-12-31    2.580000    2.475000    2.500000    2.530000  525900.0   \n",
       "\n",
       "       Adj Close  \n",
       "0     146.000000  \n",
       "1     149.000000  \n",
       "2     156.000000  \n",
       "3     155.800003  \n",
       "4     157.800003  \n",
       "...          ...  \n",
       "1414    2.580000  \n",
       "1415    2.540000  \n",
       "1416    2.470000  \n",
       "1417    2.490000  \n",
       "1418    2.530000  \n",
       "\n",
       "[1419 rows x 7 columns]"
      ]
     },
     "execution_count": 81,
     "metadata": {},
     "output_type": "execute_result"
    }
   ],
   "source": [
    "# transform dict to pd\n",
    "pd.DataFrame.from_dict(finc_data[0]['RKDA']['stock prices']) "
   ]
  },
  {
   "cell_type": "markdown",
   "id": "e6dcff7f",
   "metadata": {},
   "source": [
    "## Read temperature data"
   ]
  },
  {
   "cell_type": "markdown",
   "id": "4368505c",
   "metadata": {},
   "source": [
    "### Montly temp differ data"
   ]
  },
  {
   "cell_type": "code",
   "execution_count": 82,
   "id": "9377647b",
   "metadata": {
    "ExecuteTime": {
     "end_time": "2021-05-18T10:47:35.764770Z",
     "start_time": "2021-05-18T10:47:35.755270Z"
    }
   },
   "outputs": [],
   "source": [
    "climate_path = os.path.join(data_path, 'climate')\n",
    "climate_path = os.path.join(climate_path, 'US_temperature_data')\n",
    "\n",
    "file_name = 'monthly_temp_difference(1980-2013).csv'\n",
    "file_path = os.path.join(climate_path, file_name)\n",
    "temp_diff_montly_data = pd.read_csv(file_path)"
   ]
  },
  {
   "cell_type": "markdown",
   "id": "9fc9ae0c",
   "metadata": {},
   "source": [
    "rename the time_difference"
   ]
  },
  {
   "cell_type": "code",
   "execution_count": 83,
   "id": "a00eedc0",
   "metadata": {
    "ExecuteTime": {
     "end_time": "2021-05-18T10:47:35.918208Z",
     "start_time": "2021-05-18T10:47:35.913166Z"
    }
   },
   "outputs": [],
   "source": [
    "time_diff = []\n",
    "for i in temp_diff_montly_data[\"Time_Difference\"]:\n",
    "    i = i.split('-')\n",
    "    month = re.compile(r'(?<= )\\d+(?=])')\n",
    "    month = re.search(month, i[-1])[0] # get the month\n",
    "    i = month + '/31/' + i[0]\n",
    "    time_diff.append(i)\n",
    "temp_diff_montly_data[\"Time_Difference\"] = time_diff"
   ]
  },
  {
   "cell_type": "markdown",
   "id": "a031be63",
   "metadata": {},
   "source": [
    "### Yearly temp differ data"
   ]
  },
  {
   "cell_type": "code",
   "execution_count": 84,
   "id": "18379c5a",
   "metadata": {
    "ExecuteTime": {
     "end_time": "2021-05-18T10:47:36.060801Z",
     "start_time": "2021-05-18T10:47:36.055368Z"
    }
   },
   "outputs": [],
   "source": [
    "climate_path = os.path.join(data_path, 'climate')\n",
    "climate_path = os.path.join(climate_path, 'US_temperature_data')\n",
    "\n",
    "file_name = 'Yearly_temp_difference.csv'\n",
    "file_path = os.path.join(climate_path, file_name)\n",
    "temp_diff_yearly_data = pd.read_csv(file_path)"
   ]
  },
  {
   "cell_type": "markdown",
   "id": "37d42e66",
   "metadata": {},
   "source": [
    "### Bushfire data"
   ]
  },
  {
   "cell_type": "code",
   "execution_count": 85,
   "id": "c5e1cadc",
   "metadata": {
    "ExecuteTime": {
     "end_time": "2021-05-18T10:47:36.195601Z",
     "start_time": "2021-05-18T10:47:36.190440Z"
    }
   },
   "outputs": [],
   "source": [
    "climate_path = os.path.join(data_path, 'climate')\n",
    "\n",
    "file_name = 'Wildfire_data.csv'\n",
    "file_path = os.path.join(climate_path, file_name)\n",
    "bushfire_data = pd.read_csv(file_path)"
   ]
  },
  {
   "cell_type": "markdown",
   "id": "e3ee6ba8",
   "metadata": {},
   "source": [
    "# US Average Temp difference Correlation Analysis\n",
    "\n",
    "1. `SEED` = ROA varies a little\n",
    "2. cluster between ROA and temperature"
   ]
  },
  {
   "cell_type": "code",
   "execution_count": 86,
   "id": "5e7e2d92",
   "metadata": {
    "ExecuteTime": {
     "end_time": "2021-05-18T10:47:36.344809Z",
     "start_time": "2021-05-18T10:47:36.339262Z"
    }
   },
   "outputs": [],
   "source": [
    "def corr_ana(l1:list, l2:list, x, y):\n",
    "    assert len(roa_data) == len(temp_data)\n",
    "    if len(l1) > 5:\n",
    "        # Pearson correlation\n",
    "        pearson = pearsonr(l1, l2)[0]\n",
    "        p_p_value = pearsonr(l1, l2)[1]\n",
    "        # Spearman correlation\n",
    "        spearman = spearmanr(l1, l2)[0]\n",
    "        s_p_value = spearmanr(l1, l2)[1]\n",
    "        # Kendall correlation\n",
    "        tau, k_p_value = kendalltau(l1, l2)\n",
    "        # print the results\n",
    "        print(\"\"\"Correlation analysis between {comp} and montly temp difference:\n",
    "        Perason coefficient is {pearson:.3f} with {p_p_value:.3f} p-value.\n",
    "        Spearman coefficient is {spearman:.3f} with {s_p_value:.3f} p-value.\n",
    "        Kendall coefficient is {kendall:.3f} with {k_p_value:.3f} p-value.\n",
    "        \"\"\".format(comp = comp, pearson = pearson, p_p_value = p_p_value,\n",
    "                    spearman = spearman, s_p_value = s_p_value, \n",
    "                     kendall = tau, k_p_value = k_p_value))\n",
    "        plt.scatter(l1, l2)\n",
    "        plt.xlabel(x)\n",
    "        plt.ylabel(y)\n",
    "        plt.show()\n",
    "    else:\n",
    "        print(\"\\nData Insufficient.\\n\")"
   ]
  },
  {
   "cell_type": "markdown",
   "id": "09f2053c",
   "metadata": {},
   "source": [
    "## Monthly"
   ]
  },
  {
   "cell_type": "code",
   "execution_count": 87,
   "id": "cb41a602",
   "metadata": {
    "ExecuteTime": {
     "end_time": "2021-05-18T10:47:37.841615Z",
     "start_time": "2021-05-18T10:47:36.485153Z"
    },
    "code_folding": []
   },
   "outputs": [
    {
     "name": "stdout",
     "output_type": "stream",
     "text": [
      "\n",
      "Data Insufficient.\n",
      "\n",
      "Correlation analysis between YTEN and montly temp difference:\n",
      "        Perason coefficient is 0.082 with 0.823 p-value.\n",
      "        Spearman coefficient is 0.042 with 0.907 p-value.\n",
      "        Kendall coefficient is 0.022 with 1.000 p-value.\n",
      "        \n"
     ]
    },
    {
     "data": {
      "image/png": "[encoded data removed]",
      "text/plain": [
       "<Figure size 432x288 with 1 Axes>"
      ]
     },
     "metadata": {
      "needs_background": "light"
     },
     "output_type": "display_data"
    },
    {
     "name": "stdout",
     "output_type": "stream",
     "text": [
      "Correlation analysis between AVD and montly temp difference:\n",
      "        Perason coefficient is -0.251 with 0.207 p-value.\n",
      "        Spearman coefficient is -0.263 with 0.185 p-value.\n",
      "        Kendall coefficient is -0.181 with 0.200 p-value.\n",
      "        \n"
     ]
    },
    {
     "data": {
      "image/png": "[encoded data removed]",
      "text/plain": [
       "<Figure size 432x288 with 1 Axes>"
      ]
     },
     "metadata": {
      "needs_background": "light"
     },
     "output_type": "display_data"
    },
    {
     "name": "stdout",
     "output_type": "stream",
     "text": [
      "Correlation analysis between ICL and montly temp difference:\n",
      "        Perason coefficient is -0.076 with 0.857 p-value.\n",
      "        Spearman coefficient is 0.238 with 0.570 p-value.\n",
      "        Kendall coefficient is 0.143 with 0.720 p-value.\n",
      "        \n"
     ]
    },
    {
     "data": {
      "image/png": "[encoded data removed]",
      "text/plain": [
       "<Figure size 432x288 with 1 Axes>"
      ]
     },
     "metadata": {
      "needs_background": "light"
     },
     "output_type": "display_data"
    },
    {
     "name": "stdout",
     "output_type": "stream",
     "text": [
      "\n",
      "Data Insufficient.\n",
      "\n",
      "Correlation analysis between IPI and montly temp difference:\n",
      "        Perason coefficient is 0.296 with 0.519 p-value.\n",
      "        Spearman coefficient is 0.071 with 0.879 p-value.\n",
      "        Kendall coefficient is 0.048 with 1.000 p-value.\n",
      "        \n"
     ]
    },
    {
     "data": {
      "image/png": "[encoded data removed]",
      "text/plain": [
       "<Figure size 432x288 with 1 Axes>"
      ]
     },
     "metadata": {
      "needs_background": "light"
     },
     "output_type": "display_data"
    },
    {
     "name": "stdout",
     "output_type": "stream",
     "text": [
      "Correlation analysis between NTR and montly temp difference:\n",
      "        Perason coefficient is 0.009 with 0.967 p-value.\n",
      "        Spearman coefficient is -0.012 with 0.953 p-value.\n",
      "        Kendall coefficient is 0.000 with 1.000 p-value.\n",
      "        \n"
     ]
    },
    {
     "data": {
      "image/png": "[encoded data removed]",
      "text/plain": [
       "<Figure size 432x288 with 1 Axes>"
      ]
     },
     "metadata": {
      "needs_background": "light"
     },
     "output_type": "display_data"
    },
    {
     "name": "stdout",
     "output_type": "stream",
     "text": [
      "\n",
      "Data Insufficient.\n",
      "\n",
      "\n",
      "Data Insufficient.\n",
      "\n",
      "\n",
      "Data Insufficient.\n",
      "\n",
      "Correlation analysis between FMC and montly temp difference:\n",
      "        Perason coefficient is -0.227 with 0.255 p-value.\n",
      "        Spearman coefficient is 0.100 with 0.619 p-value.\n",
      "        Kendall coefficient is 0.077 with 0.591 p-value.\n",
      "        \n"
     ]
    },
    {
     "data": {
      "image/png": "[encoded data removed]",
      "text/plain": [
       "<Figure size 432x288 with 1 Axes>"
      ]
     },
     "metadata": {
      "needs_background": "light"
     },
     "output_type": "display_data"
    },
    {
     "name": "stdout",
     "output_type": "stream",
     "text": [
      "\n",
      "Data Insufficient.\n",
      "\n",
      "\n",
      "Data Insufficient.\n",
      "\n",
      "\n",
      "Data Insufficient.\n",
      "\n",
      "Correlation analysis between CF and montly temp difference:\n",
      "        Perason coefficient is 0.003 with 0.994 p-value.\n",
      "        Spearman coefficient is 0.018 with 0.958 p-value.\n",
      "        Kendall coefficient is -0.018 with 1.000 p-value.\n",
      "        \n"
     ]
    },
    {
     "data": {
      "image/png": "[encoded data removed]",
      "text/plain": [
       "<Figure size 432x288 with 1 Axes>"
      ]
     },
     "metadata": {
      "needs_background": "light"
     },
     "output_type": "display_data"
    },
    {
     "name": "stdout",
     "output_type": "stream",
     "text": [
      "\n",
      "Data Insufficient.\n",
      "\n",
      "\n",
      "Data Insufficient.\n",
      "\n",
      "Correlation analysis between MOS and montly temp difference:\n",
      "        Perason coefficient is 0.392 with 0.384 p-value.\n",
      "        Spearman coefficient is 0.536 with 0.215 p-value.\n",
      "        Kendall coefficient is 0.333 with 0.381 p-value.\n",
      "        \n"
     ]
    },
    {
     "data": {
      "image/png": "[encoded data removed]",
      "text/plain": [
       "<Figure size 432x288 with 1 Axes>"
      ]
     },
     "metadata": {
      "needs_background": "light"
     },
     "output_type": "display_data"
    }
   ],
   "source": [
    "for comp in ROA_data.keys(): \n",
    "    roa_data = []\n",
    "    temp_data = []\n",
    "    for i in ROA_data[comp].iloc[:,range(1, ROA_data[comp].shape[1])]:\n",
    "#         print(i)\n",
    "        try: \n",
    "            t = temp_diff_montly_data.loc[temp_diff_montly_data['Time_Difference'] == i]['Temperature_Difference']\n",
    "            t = t.values[0]\n",
    "            if t:\n",
    "                roa = ROA_data[comp][i].values[0]\n",
    "                roa = float(roa)\n",
    "                if roa and not np.isnan(roa): # to aviod nan value\n",
    "                    roa_data.append(roa)\n",
    "                    temp_data.append(t)\n",
    "        except:\n",
    "            pass\n",
    "        # try correlation analysis\n",
    "    corr_ana(roa_data, temp_data, 'ROA', 'Monthly Temp Diff')\n",
    "        "
   ]
  },
  {
   "cell_type": "markdown",
   "id": "3a0c57cb",
   "metadata": {},
   "source": [
    "## Yearly"
   ]
  },
  {
   "cell_type": "code",
   "execution_count": 88,
   "id": "648df728",
   "metadata": {
    "ExecuteTime": {
     "end_time": "2021-05-18T10:47:39.652106Z",
     "start_time": "2021-05-18T10:47:37.843600Z"
    }
   },
   "outputs": [
    {
     "name": "stdout",
     "output_type": "stream",
     "text": [
      "\n",
      "Data Insufficient.\n",
      "\n",
      "Correlation analysis between YTEN and montly temp difference:\n",
      "        Perason coefficient is 0.336 with 0.313 p-value.\n",
      "        Spearman coefficient is 0.191 with 0.574 p-value.\n",
      "        Kendall coefficient is 0.055 with 0.879 p-value.\n",
      "        \n"
     ]
    },
    {
     "data": {
      "image/png": "[encoded data removed]",
      "text/plain": [
       "<Figure size 432x288 with 1 Axes>"
      ]
     },
     "metadata": {
      "needs_background": "light"
     },
     "output_type": "display_data"
    },
    {
     "name": "stdout",
     "output_type": "stream",
     "text": [
      "Correlation analysis between AVD and montly temp difference:\n",
      "        Perason coefficient is -0.166 with 0.400 p-value.\n",
      "        Spearman coefficient is -0.059 with 0.766 p-value.\n",
      "        Kendall coefficient is -0.022 with 0.874 p-value.\n",
      "        \n"
     ]
    },
    {
     "data": {
      "image/png": "[encoded data removed]",
      "text/plain": [
       "<Figure size 432x288 with 1 Axes>"
      ]
     },
     "metadata": {
      "needs_background": "light"
     },
     "output_type": "display_data"
    },
    {
     "name": "stdout",
     "output_type": "stream",
     "text": [
      "Correlation analysis between ICL and montly temp difference:\n",
      "        Perason coefficient is -0.610 with 0.081 p-value.\n",
      "        Spearman coefficient is -0.233 with 0.546 p-value.\n",
      "        Kendall coefficient is -0.167 with 0.612 p-value.\n",
      "        \n"
     ]
    },
    {
     "data": {
      "image/png": "[encoded data removed]",
      "text/plain": [
       "<Figure size 432x288 with 1 Axes>"
      ]
     },
     "metadata": {
      "needs_background": "light"
     },
     "output_type": "display_data"
    },
    {
     "name": "stdout",
     "output_type": "stream",
     "text": [
      "\n",
      "Data Insufficient.\n",
      "\n",
      "Correlation analysis between IPI and montly temp difference:\n",
      "        Perason coefficient is -0.252 with 0.546 p-value.\n",
      "        Spearman coefficient is -0.333 with 0.420 p-value.\n",
      "        Kendall coefficient is -0.214 with 0.548 p-value.\n",
      "        \n"
     ]
    },
    {
     "data": {
      "image/png": "[encoded data removed]",
      "text/plain": [
       "<Figure size 432x288 with 1 Axes>"
      ]
     },
     "metadata": {
      "needs_background": "light"
     },
     "output_type": "display_data"
    },
    {
     "name": "stdout",
     "output_type": "stream",
     "text": [
      "Correlation analysis between NTR and montly temp difference:\n",
      "        Perason coefficient is -0.034 with 0.869 p-value.\n",
      "        Spearman coefficient is 0.158 with 0.440 p-value.\n",
      "        Kendall coefficient is 0.114 with 0.431 p-value.\n",
      "        \n"
     ]
    },
    {
     "data": {
      "image/png": "[encoded data removed]",
      "text/plain": [
       "<Figure size 432x288 with 1 Axes>"
      ]
     },
     "metadata": {
      "needs_background": "light"
     },
     "output_type": "display_data"
    },
    {
     "name": "stdout",
     "output_type": "stream",
     "text": [
      "Correlation analysis between CGA and montly temp difference:\n",
      "        Perason coefficient is 0.373 with 0.410 p-value.\n",
      "        Spearman coefficient is -0.036 with 0.939 p-value.\n",
      "        Kendall coefficient is -0.048 with 1.000 p-value.\n",
      "        \n"
     ]
    },
    {
     "data": {
      "image/png": "[encoded data removed]",
      "text/plain": [
       "<Figure size 432x288 with 1 Axes>"
      ]
     },
     "metadata": {
      "needs_background": "light"
     },
     "output_type": "display_data"
    },
    {
     "name": "stdout",
     "output_type": "stream",
     "text": [
      "Correlation analysis between MGPI and montly temp difference:\n",
      "        Perason coefficient is -0.008 with 0.968 p-value.\n",
      "        Spearman coefficient is -0.149 with 0.466 p-value.\n",
      "        Kendall coefficient is -0.108 with 0.457 p-value.\n",
      "        \n"
     ]
    },
    {
     "data": {
      "image/png": "[encoded data removed]",
      "text/plain": [
       "<Figure size 432x288 with 1 Axes>"
      ]
     },
     "metadata": {
      "needs_background": "light"
     },
     "output_type": "display_data"
    },
    {
     "name": "stdout",
     "output_type": "stream",
     "text": [
      "Correlation analysis between SMG and montly temp difference:\n",
      "        Perason coefficient is 0.043 with 0.840 p-value.\n",
      "        Spearman coefficient is 0.182 with 0.395 p-value.\n",
      "        Kendall coefficient is 0.159 with 0.290 p-value.\n",
      "        \n"
     ]
    },
    {
     "data": {
      "image/png": "[encoded data removed]",
      "text/plain": [
       "<Figure size 432x288 with 1 Axes>"
      ]
     },
     "metadata": {
      "needs_background": "light"
     },
     "output_type": "display_data"
    },
    {
     "name": "stdout",
     "output_type": "stream",
     "text": [
      "Correlation analysis between FMC and montly temp difference:\n",
      "        Perason coefficient is 0.037 with 0.851 p-value.\n",
      "        Spearman coefficient is 0.147 with 0.455 p-value.\n",
      "        Kendall coefficient is 0.132 with 0.336 p-value.\n",
      "        \n"
     ]
    },
    {
     "data": {
      "image/png": "[encoded data removed]",
      "text/plain": [
       "<Figure size 432x288 with 1 Axes>"
      ]
     },
     "metadata": {
      "needs_background": "light"
     },
     "output_type": "display_data"
    },
    {
     "name": "stdout",
     "output_type": "stream",
     "text": [
      "\n",
      "Data Insufficient.\n",
      "\n",
      "\n",
      "Data Insufficient.\n",
      "\n",
      "Correlation analysis between UAN and montly temp difference:\n",
      "        Perason coefficient is -0.673 with 0.143 p-value.\n",
      "        Spearman coefficient is -0.543 with 0.266 p-value.\n",
      "        Kendall coefficient is -0.467 with 0.272 p-value.\n",
      "        \n"
     ]
    },
    {
     "data": {
      "image/png": "[encoded data removed]",
      "text/plain": [
       "<Figure size 432x288 with 1 Axes>"
      ]
     },
     "metadata": {
      "needs_background": "light"
     },
     "output_type": "display_data"
    },
    {
     "name": "stdout",
     "output_type": "stream",
     "text": [
      "Correlation analysis between CF and montly temp difference:\n",
      "        Perason coefficient is -0.232 with 0.467 p-value.\n",
      "        Spearman coefficient is -0.182 with 0.572 p-value.\n",
      "        Kendall coefficient is -0.152 with 0.545 p-value.\n",
      "        \n"
     ]
    },
    {
     "data": {
      "image/png": "[encoded data removed]",
      "text/plain": [
       "<Figure size 432x288 with 1 Axes>"
      ]
     },
     "metadata": {
      "needs_background": "light"
     },
     "output_type": "display_data"
    },
    {
     "name": "stdout",
     "output_type": "stream",
     "text": [
      "\n",
      "Data Insufficient.\n",
      "\n",
      "Correlation analysis between SEED and montly temp difference:\n",
      "        Perason coefficient is -0.102 with 0.752 p-value.\n",
      "        Spearman coefficient is 0.469 with 0.124 p-value.\n",
      "        Kendall coefficient is 0.394 with 0.086 p-value.\n",
      "        \n"
     ]
    },
    {
     "data": {
      "image/png": "[encoded data removed]",
      "text/plain": [
       "<Figure size 432x288 with 1 Axes>"
      ]
     },
     "metadata": {
      "needs_background": "light"
     },
     "output_type": "display_data"
    },
    {
     "name": "stdout",
     "output_type": "stream",
     "text": [
      "Correlation analysis between MOS and montly temp difference:\n",
      "        Perason coefficient is 0.126 with 0.539 p-value.\n",
      "        Spearman coefficient is 0.166 with 0.418 p-value.\n",
      "        Kendall coefficient is 0.105 with 0.453 p-value.\n",
      "        \n"
     ]
    },
    {
     "data": {
      "image/png": "[encoded data removed]",
      "text/plain": [
       "<Figure size 432x288 with 1 Axes>"
      ]
     },
     "metadata": {
      "needs_background": "light"
     },
     "output_type": "display_data"
    }
   ],
   "source": [
    "for comp in ROA_data.keys(): \n",
    "    roa_data = []\n",
    "    temp_data = []\n",
    "    for i in ROA_data[comp].iloc[:,range(1, ROA_data[comp].shape[1])]:\n",
    "        year = i.split('/')[-1]\n",
    "        try: \n",
    "            t = temp_diff_yearly_data.loc[temp_diff_yearly_data['Year'] == int(year)]['Difference']\n",
    "            t = t.values[0]\n",
    "            if t:\n",
    "                roa = ROA_data[comp][i][0]\n",
    "                roa = float(roa)\n",
    "                if roa and not np.isnan(roa):\n",
    "                    roa_data.append(roa)\n",
    "                    temp_data.append(t)\n",
    "        except:\n",
    "            pass\n",
    "    corr_ana(roa_data, temp_data, 'ROA', 'Yearly Temp Diff')"
   ]
  },
  {
   "cell_type": "markdown",
   "id": "4090ea46",
   "metadata": {},
   "source": [
    "# Temp difference on States"
   ]
  },
  {
   "cell_type": "code",
   "execution_count": 90,
   "id": "25cfdbfe",
   "metadata": {
    "ExecuteTime": {
     "end_time": "2021-05-18T10:48:07.675849Z",
     "start_time": "2021-05-18T10:48:07.656477Z"
    }
   },
   "outputs": [],
   "source": [
    "# get us companies\n",
    "us_comps = []\n",
    "\n",
    "for comp in finc_data:\n",
    "    name = list(comp.keys())[0]\n",
    "    if comp[name]['location'][-1] == 'United States':\n",
    "        us_comps.append(comp)\n",
    "\n",
    "# read raw temp data\n",
    "climate_path = os.path.join(climate_path, 'US_temperature_data')\n",
    "file_name = 'original_temp_data.csv'\n",
    "file_path = os.path.join(climate_path, file_name)\n",
    "raw_temp_date = pd.read_csv(file_path)"
   ]
  },
  {
   "cell_type": "code",
   "execution_count": null,
   "id": "ef67f0ec",
   "metadata": {
    "ExecuteTime": {
     "end_time": "2021-05-18T10:53:26.865136Z",
     "start_time": "2021-05-18T10:53:26.860713Z"
    }
   },
   "outputs": [],
   "source": [
    "us_comps[0]['RKDA']['state']"
   ]
  },
  {
   "cell_type": "markdown",
   "id": "6c5382df",
   "metadata": {},
   "source": [
    "Want I want = the pairs of (ROA, temp differ)\n",
    "\n",
    "The logic:\n",
    "\n",
    "1. get the state of the company\n",
    "2. get the state temperature \n",
    "3. according to the company's ROA date, get the timeline which helps us to find the corresponding temperature data\n",
    "4. temperature difference = current year avg. temp - the past *n* years avg. temp"
   ]
  },
  {
   "cell_type": "code",
   "execution_count": null,
   "id": "37a6d0c4",
   "metadata": {},
   "outputs": [],
   "source": [
    "def cal_temp_diff(i: int, comp):\n",
    "    \"\"\"\n",
    "    :i = the past n year(s)\n",
    "    :comp = comp\n",
    "    \"\"\"\n",
    "    state = state_data[comp] # get state\n",
    "    state_temp = raw_temp_date.loc[raw_temp_date['State'] == state] # get state temp date\n",
    "    state_temp = state_temp.set_index(\"Date\") # set Date as row index\n",
    "    \n",
    "    # get roa timeline\n",
    "    roa_time = []\n",
    "    for i in ROA_data[comp].iloc[:,range(1, ROA_data[comp].shape[1])]:\n",
    "        i = i.split('/')\n",
    "        roa_time.append(datetime.date(int(i[-1]), int(i[0]), int(i[1])))\n",
    "        \n",
    "    # get temp timeline\n",
    "    state_temp_time = []\n",
    "    for i in state_temp.index.values:\n",
    "        i = i.split('/')\n",
    "        state_temp_time.append(datetime.date(int(i[0]), int(i[1]), int(i[2])))\n",
    "    \n",
    "    # get the roa interval\n",
    "    \n",
    "    # get the temp timeline \n",
    "    \n",
    "    for roa in range(len(roa_time)-1):\n",
    "        now = roa_time[roa]\n",
    "        past_year = roa_time[roa-1]\n",
    "        temp_sum = 0\n",
    "        temp_count = 0\n",
    "        for temp in range(len(state_temp_time)):\n",
    "            if past_year <= state_temp_time[temp] < now:\n",
    "                temp_sum += \n",
    "                temp_count += 1\n",
    "            temp_avg = temp_summp/temp_count"
   ]
  },
  {
   "cell_type": "code",
   "execution_count": 130,
   "id": "51eb4a06",
   "metadata": {
    "ExecuteTime": {
     "end_time": "2021-05-18T14:49:12.440933Z",
     "start_time": "2021-05-18T14:49:12.432608Z"
    }
   },
   "outputs": [
    {
     "data": {
      "text/plain": [
       "AverageTemperature                       7.716\n",
       "AverageTemperatureUncertainty            0.275\n",
       "State                               California\n",
       "Country                          United States\n",
       "Name: 1980/1/1, dtype: object"
      ]
     },
     "execution_count": 130,
     "metadata": {},
     "output_type": "execute_result"
    }
   ],
   "source": [
    "t1 = raw_temp_date.loc[raw_temp_date['State'] == 'California']\n",
    "t1 = t1.set_index(\"Date\")\n",
    "t1.loc['1980/1/1']"
   ]
  },
  {
   "cell_type": "code",
   "execution_count": 174,
   "id": "8f337e33",
   "metadata": {
    "ExecuteTime": {
     "end_time": "2021-05-18T15:51:52.293913Z",
     "start_time": "2021-05-18T15:51:52.289660Z"
    }
   },
   "outputs": [],
   "source": [
    "state_temp_time = []\n",
    "for i in t1.index.values:\n",
    "    i = i.split('/')\n",
    "    state_temp_time.append(datetime.date(int(i[0]), int(i[1]), int(i[2])))"
   ]
  },
  {
   "cell_type": "code",
   "execution_count": 91,
   "id": "061a701c",
   "metadata": {
    "ExecuteTime": {
     "end_time": "2021-05-18T10:48:11.761444Z",
     "start_time": "2021-05-18T10:48:11.747657Z"
    }
   },
   "outputs": [
    {
     "data": {
      "text/html": [
       "<div>\n",
       "<style scoped>\n",
       "    .dataframe tbody tr th:only-of-type {\n",
       "        vertical-align: middle;\n",
       "    }\n",
       "\n",
       "    .dataframe tbody tr th {\n",
       "        vertical-align: top;\n",
       "    }\n",
       "\n",
       "    .dataframe thead th {\n",
       "        text-align: right;\n",
       "    }\n",
       "</style>\n",
       "<table border=\"1\" class=\"dataframe\">\n",
       "  <thead>\n",
       "    <tr style=\"text-align: right;\">\n",
       "      <th></th>\n",
       "      <th>Date</th>\n",
       "      <th>AverageTemperature</th>\n",
       "      <th>AverageTemperatureUncertainty</th>\n",
       "      <th>State</th>\n",
       "      <th>Country</th>\n",
       "    </tr>\n",
       "  </thead>\n",
       "  <tbody>\n",
       "    <tr>\n",
       "      <th>0</th>\n",
       "      <td>1980/1/1</td>\n",
       "      <td>8.452</td>\n",
       "      <td>0.171</td>\n",
       "      <td>Alabama</td>\n",
       "      <td>United States</td>\n",
       "    </tr>\n",
       "    <tr>\n",
       "      <th>1</th>\n",
       "      <td>1980/2/1</td>\n",
       "      <td>6.275</td>\n",
       "      <td>0.145</td>\n",
       "      <td>Alabama</td>\n",
       "      <td>United States</td>\n",
       "    </tr>\n",
       "    <tr>\n",
       "      <th>2</th>\n",
       "      <td>1980/3/1</td>\n",
       "      <td>11.830</td>\n",
       "      <td>0.116</td>\n",
       "      <td>Alabama</td>\n",
       "      <td>United States</td>\n",
       "    </tr>\n",
       "    <tr>\n",
       "      <th>3</th>\n",
       "      <td>1980/4/1</td>\n",
       "      <td>16.182</td>\n",
       "      <td>0.263</td>\n",
       "      <td>Alabama</td>\n",
       "      <td>United States</td>\n",
       "    </tr>\n",
       "    <tr>\n",
       "      <th>4</th>\n",
       "      <td>1980/5/1</td>\n",
       "      <td>21.644</td>\n",
       "      <td>0.189</td>\n",
       "      <td>Alabama</td>\n",
       "      <td>United States</td>\n",
       "    </tr>\n",
       "    <tr>\n",
       "      <th>...</th>\n",
       "      <td>...</td>\n",
       "      <td>...</td>\n",
       "      <td>...</td>\n",
       "      <td>...</td>\n",
       "      <td>...</td>\n",
       "    </tr>\n",
       "    <tr>\n",
       "      <th>20650</th>\n",
       "      <td>2013/5/1</td>\n",
       "      <td>10.607</td>\n",
       "      <td>0.208</td>\n",
       "      <td>Wyoming</td>\n",
       "      <td>United States</td>\n",
       "    </tr>\n",
       "    <tr>\n",
       "      <th>20651</th>\n",
       "      <td>2013/6/1</td>\n",
       "      <td>16.267</td>\n",
       "      <td>0.276</td>\n",
       "      <td>Wyoming</td>\n",
       "      <td>United States</td>\n",
       "    </tr>\n",
       "    <tr>\n",
       "      <th>20652</th>\n",
       "      <td>2013/7/1</td>\n",
       "      <td>20.222</td>\n",
       "      <td>0.133</td>\n",
       "      <td>Wyoming</td>\n",
       "      <td>United States</td>\n",
       "    </tr>\n",
       "    <tr>\n",
       "      <th>20653</th>\n",
       "      <td>2013/8/1</td>\n",
       "      <td>19.621</td>\n",
       "      <td>0.217</td>\n",
       "      <td>Wyoming</td>\n",
       "      <td>United States</td>\n",
       "    </tr>\n",
       "    <tr>\n",
       "      <th>20654</th>\n",
       "      <td>2013/9/1</td>\n",
       "      <td>15.811</td>\n",
       "      <td>1.101</td>\n",
       "      <td>Wyoming</td>\n",
       "      <td>United States</td>\n",
       "    </tr>\n",
       "  </tbody>\n",
       "</table>\n",
       "<p>20655 rows × 5 columns</p>\n",
       "</div>"
      ],
      "text/plain": [
       "           Date  AverageTemperature  AverageTemperatureUncertainty    State  \\\n",
       "0      1980/1/1               8.452                          0.171  Alabama   \n",
       "1      1980/2/1               6.275                          0.145  Alabama   \n",
       "2      1980/3/1              11.830                          0.116  Alabama   \n",
       "3      1980/4/1              16.182                          0.263  Alabama   \n",
       "4      1980/5/1              21.644                          0.189  Alabama   \n",
       "...         ...                 ...                            ...      ...   \n",
       "20650  2013/5/1              10.607                          0.208  Wyoming   \n",
       "20651  2013/6/1              16.267                          0.276  Wyoming   \n",
       "20652  2013/7/1              20.222                          0.133  Wyoming   \n",
       "20653  2013/8/1              19.621                          0.217  Wyoming   \n",
       "20654  2013/9/1              15.811                          1.101  Wyoming   \n",
       "\n",
       "             Country  \n",
       "0      United States  \n",
       "1      United States  \n",
       "2      United States  \n",
       "3      United States  \n",
       "4      United States  \n",
       "...              ...  \n",
       "20650  United States  \n",
       "20651  United States  \n",
       "20652  United States  \n",
       "20653  United States  \n",
       "20654  United States  \n",
       "\n",
       "[20655 rows x 5 columns]"
      ]
     },
     "execution_count": 91,
     "metadata": {},
     "output_type": "execute_result"
    }
   ],
   "source": [
    "raw_temp_date"
   ]
  },
  {
   "cell_type": "markdown",
   "id": "d9c0052e",
   "metadata": {},
   "source": [
    "# Bushfires"
   ]
  },
  {
   "cell_type": "code",
   "execution_count": 63,
   "id": "5daa17fc",
   "metadata": {
    "ExecuteTime": {
     "end_time": "2021-05-17T04:19:20.678844Z",
     "start_time": "2021-05-17T04:19:18.460140Z"
    }
   },
   "outputs": [
    {
     "name": "stdout",
     "output_type": "stream",
     "text": [
      "Correlation analysis between RKDA and montly temp difference:\n",
      "        Perason coefficient is -0.319 with 0.402 p-value.\n",
      "        Spearman coefficient is -0.200 with 0.606 p-value.\n",
      "        Kendall coefficient is -0.167 with 0.612 p-value.\n",
      "        \n"
     ]
    },
    {
     "data": {
      "image/png": "[encoded data removed]",
      "text/plain": [
       "<Figure size 432x288 with 1 Axes>"
      ]
     },
     "metadata": {
      "needs_background": "light"
     },
     "output_type": "display_data"
    },
    {
     "name": "stdout",
     "output_type": "stream",
     "text": [
      "Correlation analysis between YTEN and montly temp difference:\n",
      "        Perason coefficient is 0.383 with 0.116 p-value.\n",
      "        Spearman coefficient is 0.313 with 0.206 p-value.\n",
      "        Kendall coefficient is 0.216 with 0.229 p-value.\n",
      "        \n"
     ]
    },
    {
     "data": {
      "image/png": "[encoded data removed]",
      "text/plain": [
       "<Figure size 432x288 with 1 Axes>"
      ]
     },
     "metadata": {
      "needs_background": "light"
     },
     "output_type": "display_data"
    },
    {
     "name": "stdout",
     "output_type": "stream",
     "text": [
      "Correlation analysis between AVD and montly temp difference:\n",
      "        Perason coefficient is 0.150 with 0.389 p-value.\n",
      "        Spearman coefficient is 0.112 with 0.520 p-value.\n",
      "        Kendall coefficient is 0.072 with 0.558 p-value.\n",
      "        \n"
     ]
    },
    {
     "data": {
      "image/png": "[encoded data removed]",
      "text/plain": [
       "<Figure size 432x288 with 1 Axes>"
      ]
     },
     "metadata": {
      "needs_background": "light"
     },
     "output_type": "display_data"
    },
    {
     "name": "stdout",
     "output_type": "stream",
     "text": [
      "Correlation analysis between ICL and montly temp difference:\n",
      "        Perason coefficient is -0.126 with 0.641 p-value.\n",
      "        Spearman coefficient is -0.153 with 0.572 p-value.\n",
      "        Kendall coefficient is -0.117 with 0.564 p-value.\n",
      "        \n"
     ]
    },
    {
     "data": {
      "image/png": "[encoded data removed]",
      "text/plain": [
       "<Figure size 432x288 with 1 Axes>"
      ]
     },
     "metadata": {
      "needs_background": "light"
     },
     "output_type": "display_data"
    },
    {
     "name": "stdout",
     "output_type": "stream",
     "text": [
      "\n",
      "Data Insufficient.\n",
      "\n",
      "Correlation analysis between IPI and montly temp difference:\n",
      "        Perason coefficient is -0.175 with 0.532 p-value.\n",
      "        Spearman coefficient is -0.114 with 0.685 p-value.\n",
      "        Kendall coefficient is -0.029 with 0.923 p-value.\n",
      "        \n"
     ]
    },
    {
     "data": {
      "image/png": "[encoded data removed]",
      "text/plain": [
       "<Figure size 432x288 with 1 Axes>"
      ]
     },
     "metadata": {
      "needs_background": "light"
     },
     "output_type": "display_data"
    },
    {
     "name": "stdout",
     "output_type": "stream",
     "text": [
      "Correlation analysis between NTR and montly temp difference:\n",
      "        Perason coefficient is 0.121 with 0.503 p-value.\n",
      "        Spearman coefficient is 0.152 with 0.398 p-value.\n",
      "        Kendall coefficient is 0.091 with 0.469 p-value.\n",
      "        \n"
     ]
    },
    {
     "data": {
      "image/png": "[encoded data removed]",
      "text/plain": [
       "<Figure size 432x288 with 1 Axes>"
      ]
     },
     "metadata": {
      "needs_background": "light"
     },
     "output_type": "display_data"
    },
    {
     "name": "stdout",
     "output_type": "stream",
     "text": [
      "Correlation analysis between CGA and montly temp difference:\n",
      "        Perason coefficient is -0.296 with 0.304 p-value.\n",
      "        Spearman coefficient is -0.437 with 0.118 p-value.\n",
      "        Kendall coefficient is -0.319 with 0.127 p-value.\n",
      "        \n"
     ]
    },
    {
     "data": {
      "image/png": "[encoded data removed]",
      "text/plain": [
       "<Figure size 432x288 with 1 Axes>"
      ]
     },
     "metadata": {
      "needs_background": "light"
     },
     "output_type": "display_data"
    },
    {
     "name": "stdout",
     "output_type": "stream",
     "text": [
      "Correlation analysis between MGPI and montly temp difference:\n",
      "        Perason coefficient is 0.046 with 0.801 p-value.\n",
      "        Spearman coefficient is 0.106 with 0.559 p-value.\n",
      "        Kendall coefficient is 0.076 with 0.549 p-value.\n",
      "        \n"
     ]
    },
    {
     "data": {
      "image/png": "[encoded data removed]",
      "text/plain": [
       "<Figure size 432x288 with 1 Axes>"
      ]
     },
     "metadata": {
      "needs_background": "light"
     },
     "output_type": "display_data"
    },
    {
     "name": "stdout",
     "output_type": "stream",
     "text": [
      "Correlation analysis between SMG and montly temp difference:\n",
      "        Perason coefficient is 0.210 with 0.256 p-value.\n",
      "        Spearman coefficient is 0.276 with 0.133 p-value.\n",
      "        Kendall coefficient is 0.209 with 0.103 p-value.\n",
      "        \n"
     ]
    },
    {
     "data": {
      "image/png": "[encoded data removed]",
      "text/plain": [
       "<Figure size 432x288 with 1 Axes>"
      ]
     },
     "metadata": {
      "needs_background": "light"
     },
     "output_type": "display_data"
    },
    {
     "name": "stdout",
     "output_type": "stream",
     "text": [
      "Correlation analysis between FMC and montly temp difference:\n",
      "        Perason coefficient is 0.305 with 0.075 p-value.\n",
      "        Spearman coefficient is 0.266 with 0.123 p-value.\n",
      "        Kendall coefficient is 0.170 with 0.151 p-value.\n",
      "        \n"
     ]
    },
    {
     "data": {
      "image/png": "[encoded data removed]",
      "text/plain": [
       "<Figure size 432x288 with 1 Axes>"
      ]
     },
     "metadata": {
      "needs_background": "light"
     },
     "output_type": "display_data"
    },
    {
     "name": "stdout",
     "output_type": "stream",
     "text": [
      "Correlation analysis between MBII and montly temp difference:\n",
      "        Perason coefficient is -0.222 with 0.538 p-value.\n",
      "        Spearman coefficient is -0.018 with 0.960 p-value.\n",
      "        Kendall coefficient is -0.022 with 1.000 p-value.\n",
      "        \n"
     ]
    },
    {
     "data": {
      "image/png": "[encoded data removed]",
      "text/plain": [
       "<Figure size 432x288 with 1 Axes>"
      ]
     },
     "metadata": {
      "needs_background": "light"
     },
     "output_type": "display_data"
    },
    {
     "name": "stdout",
     "output_type": "stream",
     "text": [
      "\n",
      "Data Insufficient.\n",
      "\n",
      "Correlation analysis between UAN and montly temp difference:\n",
      "        Perason coefficient is -0.321 with 0.284 p-value.\n",
      "        Spearman coefficient is -0.330 with 0.271 p-value.\n",
      "        Kendall coefficient is -0.231 with 0.306 p-value.\n",
      "        \n"
     ]
    },
    {
     "data": {
      "image/png": "[encoded data removed]",
      "text/plain": [
       "<Figure size 432x288 with 1 Axes>"
      ]
     },
     "metadata": {
      "needs_background": "light"
     },
     "output_type": "display_data"
    },
    {
     "name": "stdout",
     "output_type": "stream",
     "text": [
      "Correlation analysis between CF and montly temp difference:\n",
      "        Perason coefficient is -0.080 with 0.746 p-value.\n",
      "        Spearman coefficient is -0.004 with 0.989 p-value.\n",
      "        Kendall coefficient is 0.041 with 0.836 p-value.\n",
      "        \n"
     ]
    },
    {
     "data": {
      "image/png": "[encoded data removed]",
      "text/plain": [
       "<Figure size 432x288 with 1 Axes>"
      ]
     },
     "metadata": {
      "needs_background": "light"
     },
     "output_type": "display_data"
    },
    {
     "name": "stdout",
     "output_type": "stream",
     "text": [
      "\n",
      "Data Insufficient.\n",
      "\n",
      "Correlation analysis between SEED and montly temp difference:\n",
      "        Perason coefficient is 0.023 with 0.924 p-value.\n",
      "        Spearman coefficient is -0.500 with 0.029 p-value.\n",
      "        Kendall coefficient is -0.357 with 0.034 p-value.\n",
      "        \n"
     ]
    },
    {
     "data": {
      "image/png": "[encoded data removed]",
      "text/plain": [
       "<Figure size 432x288 with 1 Axes>"
      ]
     },
     "metadata": {
      "needs_background": "light"
     },
     "output_type": "display_data"
    },
    {
     "name": "stdout",
     "output_type": "stream",
     "text": [
      "Correlation analysis between MOS and montly temp difference:\n",
      "        Perason coefficient is 0.118 with 0.512 p-value.\n",
      "        Spearman coefficient is 0.099 with 0.583 p-value.\n",
      "        Kendall coefficient is 0.082 with 0.505 p-value.\n",
      "        \n"
     ]
    },
    {
     "data": {
      "image/png": "[encoded data removed]",
      "text/plain": [
       "<Figure size 432x288 with 1 Axes>"
      ]
     },
     "metadata": {
      "needs_background": "light"
     },
     "output_type": "display_data"
    }
   ],
   "source": [
    "for comp in ROA_data.keys(): \n",
    "    roa_data = []\n",
    "    temp_data = []\n",
    "    for i in ROA_data[comp].iloc[:,range(1, ROA_data[comp].shape[1])]:\n",
    "        year = i.split('/')[-1]\n",
    "        \n",
    "        try: \n",
    "            t = bushfire_data.loc[bushfire_data['Year'] == int(year)]['Acres']\n",
    "            t = int(t.values[0].replace(',', ''))\n",
    "            if t:\n",
    "                roa = ROA_data[comp][i][0]\n",
    "                roa = float(roa)\n",
    "                if roa and not np.isnan(roa):\n",
    "                    roa_data.append(roa)\n",
    "                    temp_data.append(t)\n",
    "        except:\n",
    "            pass\n",
    "    corr_ana(roa_data, temp_data, 'ROA', 'Bushfire Areas')"
   ]
  },
  {
   "cell_type": "markdown",
   "id": "b191c1c1",
   "metadata": {},
   "source": [
    "# Appendix"
   ]
  },
  {
   "cell_type": "markdown",
   "id": "f60b6cb4",
   "metadata": {},
   "source": [
    "## Person\n",
    "\n",
    "$$\n",
    "r=\\frac{\\sum\\left(x-m_{x}\\right)\\left(y-m_{y}\\right)}{\\sqrt{\\sum\\left(x-m_{x}\\right)^{2} \\sum\\left(y-m_{y}\\right)^{2}}}\n",
    "$$\n",
    "\n",
    "REF: https://docs.scipy.org/doc/scipy/reference/generated/scipy.stats.pearsonr.html"
   ]
  },
  {
   "cell_type": "markdown",
   "id": "be18bf19",
   "metadata": {},
   "source": [
    "## Spearman\n",
    "\n",
    "$$\n",
    "\\rho=1-\\frac{6 \\sum d_{i}^{2}}{n\\left(n^{2}-1\\right)}\n",
    "$$\n",
    "\n",
    "$\\rho$ \t=\tSpearman's rank correlation coefficient  \n",
    "$d_i$ = difference between the two ranks of each observation  \n",
    "$n$ = number of observations\n",
    "\n",
    "REF1: https://docs.scipy.org/doc/scipy/reference/generated/scipy.stats.spearmanr.html  \n",
    "REF2: https://en.wikipedia.org/wiki/Spearman%27s_rank_correlation_coefficient"
   ]
  },
  {
   "cell_type": "code",
   "execution_count": 118,
   "id": "1a606652",
   "metadata": {},
   "outputs": [
    {
     "data": {
      "text/plain": [
       "SpearmanrResult(correlation=0.04242424242424241, pvalue=0.907363817812816)"
      ]
     },
     "execution_count": 118,
     "metadata": {},
     "output_type": "execute_result"
    }
   ],
   "source": [
    "spearmanr(a, b)"
   ]
  },
  {
   "cell_type": "markdown",
   "id": "7616dac1",
   "metadata": {},
   "source": [
    "## Kendall\n",
    "\n",
    "$$\n",
    "\\tau=\\frac{(\\text { number of concordant pairs })-(\\text { number of discordant pairs })}{\\left(\\begin{array}{c}\n",
    "n \\\\\n",
    "2\n",
    "\\end{array}\\right)}\n",
    "$$\n",
    "\n",
    "REF: https://docs.scipy.org/doc/scipy/reference/generated/scipy.stats.kendalltau.html?highlight=kendall#scipy.stats.kendalltau"
   ]
  },
  {
   "cell_type": "code",
   "execution_count": 120,
   "id": "40c3160b",
   "metadata": {},
   "outputs": [
    {
     "name": "stdout",
     "output_type": "stream",
     "text": [
      "0.022222222222222223 1.0\n"
     ]
    }
   ],
   "source": [
    "x1 = [12, 2, 1, 12, 2]\n",
    "x2 = [1, 4, 7, 1, 0]\n",
    "tau, p_value = kendalltau(a, b)\n",
    "print(tau, p_value)"
   ]
  }
 ],
 "metadata": {
  "hide_input": false,
  "kernelspec": {
   "display_name": "Python 3",
   "language": "python",
   "name": "python3"
  },
  "language_info": {
   "codemirror_mode": {
    "name": "ipython",
    "version": 3
   },
   "file_extension": ".py",
   "mimetype": "text/x-python",
   "name": "python",
   "nbconvert_exporter": "python",
   "pygments_lexer": "ipython3",
   "version": "3.7.10"
  },
  "latex_envs": {
   "LaTeX_envs_menu_present": true,
   "autoclose": false,
   "autocomplete": true,
   "bibliofile": "biblio.bib",
   "cite_by": "apalike",
   "current_citInitial": 1,
   "eqLabelWithNumbers": true,
   "eqNumInitial": 1,
   "hotkeys": {
    "equation": "Ctrl-E",
    "itemize": "Ctrl-I"
   },
   "labels_anchors": false,
   "latex_user_defs": false,
   "report_style_numbering": false,
   "user_envs_cfg": false
  },
  "toc": {
   "base_numbering": "1",
   "nav_menu": {
    "height": "12px",
    "width": "172px"
   },
   "number_sections": true,
   "sideBar": true,
   "skip_h1_title": false,
   "title_cell": "Table of Contents",
   "title_sidebar": "Contents",
   "toc_cell": true,
   "toc_position": {
    "height": "calc(100% - 180px)",
    "left": "10px",
    "top": "150px",
    "width": "224px"
   },
   "toc_section_display": true,
   "toc_window_display": true
  },
  "varInspector": {
   "cols": {
    "lenName": 16,
    "lenType": 16,
    "lenVar": 40
   },
   "kernels_config": {
    "python": {
     "delete_cmd_postfix": "",
     "delete_cmd_prefix": "del ",
     "library": "var_list.py",
     "varRefreshCmd": "print(var_dic_list())"
    },
    "r": {
     "delete_cmd_postfix": ") ",
     "delete_cmd_prefix": "rm(",
     "library": "var_list.r",
     "varRefreshCmd": "cat(var_dic_list()) "
    }
   },
   "types_to_exclude": [
    "module",
    "function",
    "builtin_function_or_method",
    "instance",
    "_Feature"
   ],
   "window_display": false
  }
 },
 "nbformat": 4,
 "nbformat_minor": 5
}
