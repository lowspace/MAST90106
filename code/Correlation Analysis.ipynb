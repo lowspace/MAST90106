{
 "cells": [
  {
   "cell_type": "markdown",
   "id": "40441760",
   "metadata": {
    "toc": true
   },
   "source": [
    "<h1>Table of Contents<span class=\"tocSkip\"></span></h1>\n",
    "<div class=\"toc\"><ul class=\"toc-item\"><li><span><a href=\"#Set-up\" data-toc-modified-id=\"Set-up-1\"><span class=\"toc-item-num\">1&nbsp;&nbsp;</span>Set up</a></span></li><li><span><a href=\"#Read-data\" data-toc-modified-id=\"Read-data-2\"><span class=\"toc-item-num\">2&nbsp;&nbsp;</span>Read data</a></span><ul class=\"toc-item\"><li><span><a href=\"#Read-financial-data\" data-toc-modified-id=\"Read-financial-data-2.1\"><span class=\"toc-item-num\">2.1&nbsp;&nbsp;</span>Read financial data</a></span></li><li><span><a href=\"#Read-temperature-data\" data-toc-modified-id=\"Read-temperature-data-2.2\"><span class=\"toc-item-num\">2.2&nbsp;&nbsp;</span>Read temperature data</a></span><ul class=\"toc-item\"><li><span><a href=\"#Montly-temp-differ-data\" data-toc-modified-id=\"Montly-temp-differ-data-2.2.1\"><span class=\"toc-item-num\">2.2.1&nbsp;&nbsp;</span>Montly temp differ data</a></span></li><li><span><a href=\"#Yearly-temp-differ-data\" data-toc-modified-id=\"Yearly-temp-differ-data-2.2.2\"><span class=\"toc-item-num\">2.2.2&nbsp;&nbsp;</span>Yearly temp differ data</a></span></li><li><span><a href=\"#Bushfire-data\" data-toc-modified-id=\"Bushfire-data-2.2.3\"><span class=\"toc-item-num\">2.2.3&nbsp;&nbsp;</span>Bushfire data</a></span></li></ul></li></ul></li><li><span><a href=\"#Temp-difference-Correlation-Analysis\" data-toc-modified-id=\"Temp-difference-Correlation-Analysis-3\"><span class=\"toc-item-num\">3&nbsp;&nbsp;</span>Temp difference Correlation Analysis</a></span><ul class=\"toc-item\"><li><span><a href=\"#Monthly\" data-toc-modified-id=\"Monthly-3.1\"><span class=\"toc-item-num\">3.1&nbsp;&nbsp;</span>Monthly</a></span></li><li><span><a href=\"#Yearly\" data-toc-modified-id=\"Yearly-3.2\"><span class=\"toc-item-num\">3.2&nbsp;&nbsp;</span>Yearly</a></span></li></ul></li><li><span><a href=\"#Bushfires\" data-toc-modified-id=\"Bushfires-4\"><span class=\"toc-item-num\">4&nbsp;&nbsp;</span>Bushfires</a></span></li><li><span><a href=\"#Appendix\" data-toc-modified-id=\"Appendix-5\"><span class=\"toc-item-num\">5&nbsp;&nbsp;</span>Appendix</a></span><ul class=\"toc-item\"><li><span><a href=\"#Person\" data-toc-modified-id=\"Person-5.1\"><span class=\"toc-item-num\">5.1&nbsp;&nbsp;</span>Person</a></span></li><li><span><a href=\"#Spearman\" data-toc-modified-id=\"Spearman-5.2\"><span class=\"toc-item-num\">5.2&nbsp;&nbsp;</span>Spearman</a></span></li><li><span><a href=\"#Kendall\" data-toc-modified-id=\"Kendall-5.3\"><span class=\"toc-item-num\">5.3&nbsp;&nbsp;</span>Kendall</a></span></li></ul></li></ul></div>"
   ]
  },
  {
   "cell_type": "markdown",
   "id": "23dd0f86",
   "metadata": {},
   "source": [
    "# Set up"
   ]
  },
  {
   "cell_type": "code",
   "execution_count": 308,
   "id": "eb1ce637",
   "metadata": {},
   "outputs": [],
   "source": [
    "from scipy.stats import pearsonr\n",
    "from scipy.stats import spearmanr\n",
    "from scipy.stats import kendalltau\n",
    "\n",
    "import numpy as np\n",
    "import os\n",
    "import pandas as pd\n",
    "import json\n",
    "import re"
   ]
  },
  {
   "cell_type": "markdown",
   "id": "22517530",
   "metadata": {},
   "source": [
    "# Read data"
   ]
  },
  {
   "cell_type": "markdown",
   "id": "06e9010f",
   "metadata": {},
   "source": [
    "## Read financial data"
   ]
  },
  {
   "cell_type": "code",
   "execution_count": 226,
   "id": "dcfd38f7",
   "metadata": {},
   "outputs": [],
   "source": [
    "def toInt(l:list) -> list:\n",
    "    for i in range(len(l)):\n",
    "        l[i] = float(l[i])\n",
    "\n",
    "root_path = os.path.abspath(os.path.dirname(os.getcwd()))\n",
    "data_path = os.path.join(root_path, 'data')\n",
    "agr_path = os.path.join(data_path, 'agriculture')\n",
    "\n",
    "finc_data = []\n",
    "for file in os.listdir(agr_path):\n",
    "    if file.endswith('.json'):\n",
    "        file_path = os.path.join(agr_path, file)\n",
    "    with open(file_path, 'r') as file:\n",
    "        finc_data.append(json.load(file))\n",
    "        \n",
    "ROA_data = {}\n",
    "for i in finc_data:\n",
    "    for k, v in i.items():\n",
    "        ROA_data[k] = pd.DataFrame.from_dict(i[k]['ROA'])"
   ]
  },
  {
   "cell_type": "markdown",
   "id": "e6dcff7f",
   "metadata": {},
   "source": [
    "## Read temperature data"
   ]
  },
  {
   "cell_type": "markdown",
   "id": "4368505c",
   "metadata": {},
   "source": [
    "### Montly temp differ data"
   ]
  },
  {
   "cell_type": "code",
   "execution_count": 235,
   "id": "9377647b",
   "metadata": {},
   "outputs": [],
   "source": [
    "climate_path = os.path.join(data_path, 'climate')\n",
    "climate_path = os.path.join(climate_path, 'US_temperature_data')\n",
    "\n",
    "file_name = 'monthly_temp_difference(1980-2013).csv'\n",
    "file_path = os.path.join(climate_path, file_name)\n",
    "temp_diff_montly_data = pd.read_csv(file_path)"
   ]
  },
  {
   "cell_type": "markdown",
   "id": "9fc9ae0c",
   "metadata": {},
   "source": [
    "rename the time_difference"
   ]
  },
  {
   "cell_type": "code",
   "execution_count": 236,
   "id": "a00eedc0",
   "metadata": {},
   "outputs": [],
   "source": [
    "time_diff = []\n",
    "for i in temp_diff_montly_data[\"Time_Difference\"]:\n",
    "    i = i.split('-')\n",
    "    month = re.compile(r'(?<= )\\d+(?=])')\n",
    "    month = re.search(month, i[-1])[0] # get the month\n",
    "    i = month + '/31/' + i[0]\n",
    "    time_diff.append(i)\n",
    "temp_diff_montly_data[\"Time_Difference\"] = time_diff"
   ]
  },
  {
   "cell_type": "markdown",
   "id": "a031be63",
   "metadata": {},
   "source": [
    "### Yearly temp differ data"
   ]
  },
  {
   "cell_type": "code",
   "execution_count": 357,
   "id": "18379c5a",
   "metadata": {},
   "outputs": [],
   "source": [
    "climate_path = os.path.join(data_path, 'climate')\n",
    "climate_path = os.path.join(climate_path, 'US_temperature_data')\n",
    "\n",
    "file_name = 'Yearly_temp_difference.csv'\n",
    "file_path = os.path.join(climate_path, file_name)\n",
    "temp_diff_yearly_data = pd.read_csv(file_path)"
   ]
  },
  {
   "cell_type": "markdown",
   "id": "37d42e66",
   "metadata": {},
   "source": [
    "### Bushfire data"
   ]
  },
  {
   "cell_type": "code",
   "execution_count": 359,
   "id": "c5e1cadc",
   "metadata": {},
   "outputs": [],
   "source": [
    "climate_path = os.path.join(data_path, 'climate')\n",
    "\n",
    "file_name = 'Wildfire_data.csv'\n",
    "file_path = os.path.join(climate_path, file_name)\n",
    "bushfire_data = pd.read_csv(file_path)"
   ]
  },
  {
   "cell_type": "markdown",
   "id": "e3ee6ba8",
   "metadata": {},
   "source": [
    "# Temp difference Correlation Analysis"
   ]
  },
  {
   "cell_type": "markdown",
   "id": "09f2053c",
   "metadata": {},
   "source": [
    "## Monthly"
   ]
  },
  {
   "cell_type": "code",
   "execution_count": 420,
   "id": "cb41a602",
   "metadata": {
    "code_folding": []
   },
   "outputs": [
    {
     "name": "stdout",
     "output_type": "stream",
     "text": [
      "Correlation analysis between YTEN and montly temp difference:\n",
      "        Perason coefficient is 0.082 with 0.823 p-value.\n",
      "        Spearman coefficient is 0.042 with 0.907 p-value.\n",
      "        Kendall coefficient is 0.022 with 1.000 p-value.\n",
      "        \n",
      "Correlation analysis between AVD and montly temp difference:\n",
      "        Perason coefficient is -0.251 with 0.207 p-value.\n",
      "        Spearman coefficient is -0.263 with 0.185 p-value.\n",
      "        Kendall coefficient is -0.181 with 0.200 p-value.\n",
      "        \n",
      "Correlation analysis between ICL and montly temp difference:\n",
      "        Perason coefficient is -0.076 with 0.857 p-value.\n",
      "        Spearman coefficient is 0.238 with 0.570 p-value.\n",
      "        Kendall coefficient is 0.143 with 0.720 p-value.\n",
      "        \n",
      "Correlation analysis between IPI and montly temp difference:\n",
      "        Perason coefficient is 0.296 with 0.519 p-value.\n",
      "        Spearman coefficient is 0.071 with 0.879 p-value.\n",
      "        Kendall coefficient is 0.048 with 1.000 p-value.\n",
      "        \n",
      "Correlation analysis between NTR and montly temp difference:\n",
      "        Perason coefficient is 0.009 with 0.967 p-value.\n",
      "        Spearman coefficient is -0.012 with 0.953 p-value.\n",
      "        Kendall coefficient is 0.000 with 1.000 p-value.\n",
      "        \n",
      "Correlation analysis between FMC and montly temp difference:\n",
      "        Perason coefficient is -0.227 with 0.255 p-value.\n",
      "        Spearman coefficient is 0.100 with 0.619 p-value.\n",
      "        Kendall coefficient is 0.077 with 0.591 p-value.\n",
      "        \n",
      "Correlation analysis between MBII and montly temp difference:\n",
      "        Perason coefficient is -1.000 with 1.000 p-value.\n",
      "        Spearman coefficient is -1.000 with nan p-value.\n",
      "        Kendall coefficient is -1.000 with 1.000 p-value.\n",
      "        \n",
      "Correlation analysis between UAN and montly temp difference:\n",
      "        Perason coefficient is 0.151 with 0.808 p-value.\n",
      "        Spearman coefficient is 0.200 with 0.747 p-value.\n",
      "        Kendall coefficient is 0.200 with 0.817 p-value.\n",
      "        \n",
      "Correlation analysis between CF and montly temp difference:\n",
      "        Perason coefficient is 0.003 with 0.994 p-value.\n",
      "        Spearman coefficient is 0.018 with 0.958 p-value.\n",
      "        Kendall coefficient is -0.018 with 1.000 p-value.\n",
      "        \n",
      "Correlation analysis between SEED and montly temp difference:\n",
      "        Perason coefficient is -0.422 with 0.479 p-value.\n",
      "        Spearman coefficient is -0.300 with 0.624 p-value.\n",
      "        Kendall coefficient is -0.200 with 0.817 p-value.\n",
      "        \n",
      "Correlation analysis between MOS and montly temp difference:\n",
      "        Perason coefficient is 0.392 with 0.384 p-value.\n",
      "        Spearman coefficient is 0.536 with 0.215 p-value.\n",
      "        Kendall coefficient is 0.333 with 0.381 p-value.\n",
      "        \n"
     ]
    }
   ],
   "source": [
    "for comp in ROA_data.keys(): \n",
    "    roa_data = []\n",
    "    temp_data = []\n",
    "    for i in ROA_data[comp].iloc[:,range(1, ROA_data[comp].shape[1])]:\n",
    "        try: \n",
    "            t = temp_diff_montly_data.loc[temp_diff_montly_data['Time_Difference'] == i]['Temperature_Difference']\n",
    "            t = t.values[0]\n",
    "            if t:\n",
    "                roa = ROA_data[comp][i].values[0]\n",
    "                roa = float(roa)\n",
    "                if roa and not np.isnan(roa): # to aviod nan value\n",
    "                    roa_data.append(roa)\n",
    "                    temp_data.append(t)\n",
    "        except:\n",
    "            pass\n",
    "    assert len(roa_data) == len(temp_data)\n",
    "    if len(roa_data) >= 2:\n",
    "        pearson = pearsonr(roa_data, temp_data)[0]\n",
    "        p_p_value = pearsonr(roa_data, temp_data)[1]\n",
    "        spearman = spearmanr(roa_data, temp_data)[0]\n",
    "        s_p_value = spearmanr(roa_data, temp_data)[1]\n",
    "        tau, k_p_value = kendalltau(roa_data, temp_data)\n",
    "        print(\"\"\"Correlation analysis between {comp} and montly temp difference:\n",
    "        Perason coefficient is {pearson:.3f} with {p_p_value:.3f} p-value.\n",
    "        Spearman coefficient is {spearman:.3f} with {s_p_value:.3f} p-value.\n",
    "        Kendall coefficient is {kendall:.3f} with {k_p_value:.3f} p-value.\n",
    "        \"\"\".format(comp = comp, pearson = pearson, p_p_value = p_p_value,\n",
    "                    spearman = spearman, s_p_value = s_p_value, \n",
    "                     kendall = tau, k_p_value = k_p_value))"
   ]
  },
  {
   "cell_type": "markdown",
   "id": "3a0c57cb",
   "metadata": {},
   "source": [
    "## Yearly"
   ]
  },
  {
   "cell_type": "code",
   "execution_count": 418,
   "id": "648df728",
   "metadata": {},
   "outputs": [
    {
     "name": "stdout",
     "output_type": "stream",
     "text": [
      "Correlation analysis between RKDA and montly temp difference:\n",
      "        Perason coefficient is -1.000 with 1.000 p-value.\n",
      "        Spearman coefficient is -1.000 with nan p-value.\n",
      "        Kendall coefficient is -1.000 with 1.000 p-value.\n",
      "        \n",
      "Correlation analysis between YTEN and montly temp difference:\n",
      "        Perason coefficient is 0.336 with 0.313 p-value.\n",
      "        Spearman coefficient is 0.191 with 0.574 p-value.\n",
      "        Kendall coefficient is 0.055 with 0.879 p-value.\n",
      "        \n",
      "Correlation analysis between AVD and montly temp difference:\n",
      "        Perason coefficient is -0.166 with 0.400 p-value.\n",
      "        Spearman coefficient is -0.059 with 0.766 p-value.\n",
      "        Kendall coefficient is -0.022 with 0.874 p-value.\n",
      "        \n",
      "Correlation analysis between ICL and montly temp difference:\n",
      "        Perason coefficient is -0.610 with 0.081 p-value.\n",
      "        Spearman coefficient is -0.233 with 0.546 p-value.\n",
      "        Kendall coefficient is -0.167 with 0.612 p-value.\n",
      "        \n",
      "Correlation analysis between IPI and montly temp difference:\n",
      "        Perason coefficient is -0.252 with 0.546 p-value.\n",
      "        Spearman coefficient is -0.333 with 0.420 p-value.\n",
      "        Kendall coefficient is -0.214 with 0.548 p-value.\n",
      "        \n",
      "Correlation analysis between NTR and montly temp difference:\n",
      "        Perason coefficient is -0.034 with 0.869 p-value.\n",
      "        Spearman coefficient is 0.158 with 0.440 p-value.\n",
      "        Kendall coefficient is 0.114 with 0.431 p-value.\n",
      "        \n",
      "Correlation analysis between CGA and montly temp difference:\n",
      "        Perason coefficient is 0.373 with 0.410 p-value.\n",
      "        Spearman coefficient is -0.036 with 0.939 p-value.\n",
      "        Kendall coefficient is -0.048 with 1.000 p-value.\n",
      "        \n",
      "Correlation analysis between MGPI and montly temp difference:\n",
      "        Perason coefficient is -0.008 with 0.968 p-value.\n",
      "        Spearman coefficient is -0.149 with 0.466 p-value.\n",
      "        Kendall coefficient is -0.108 with 0.457 p-value.\n",
      "        \n",
      "Correlation analysis between SMG and montly temp difference:\n",
      "        Perason coefficient is 0.043 with 0.840 p-value.\n",
      "        Spearman coefficient is 0.182 with 0.395 p-value.\n",
      "        Kendall coefficient is 0.159 with 0.290 p-value.\n",
      "        \n",
      "Correlation analysis between FMC and montly temp difference:\n",
      "        Perason coefficient is 0.037 with 0.851 p-value.\n",
      "        Spearman coefficient is 0.147 with 0.455 p-value.\n",
      "        Kendall coefficient is 0.132 with 0.336 p-value.\n",
      "        \n",
      "Correlation analysis between MBII and montly temp difference:\n",
      "        Perason coefficient is -0.073 with 0.953 p-value.\n",
      "        Spearman coefficient is 0.500 with 0.667 p-value.\n",
      "        Kendall coefficient is 0.333 with 1.000 p-value.\n",
      "        \n",
      "Correlation analysis between UAN and montly temp difference:\n",
      "        Perason coefficient is -0.673 with 0.143 p-value.\n",
      "        Spearman coefficient is -0.543 with 0.266 p-value.\n",
      "        Kendall coefficient is -0.467 with 0.272 p-value.\n",
      "        \n",
      "Correlation analysis between CF and montly temp difference:\n",
      "        Perason coefficient is -0.232 with 0.467 p-value.\n",
      "        Spearman coefficient is -0.182 with 0.572 p-value.\n",
      "        Kendall coefficient is -0.152 with 0.545 p-value.\n",
      "        \n",
      "Correlation analysis between SEED and montly temp difference:\n",
      "        Perason coefficient is -0.102 with 0.752 p-value.\n",
      "        Spearman coefficient is 0.469 with 0.124 p-value.\n",
      "        Kendall coefficient is 0.394 with 0.086 p-value.\n",
      "        \n",
      "Correlation analysis between MOS and montly temp difference:\n",
      "        Perason coefficient is 0.126 with 0.539 p-value.\n",
      "        Spearman coefficient is 0.166 with 0.418 p-value.\n",
      "        Kendall coefficient is 0.105 with 0.453 p-value.\n",
      "        \n"
     ]
    }
   ],
   "source": [
    "for comp in ROA_data.keys(): \n",
    "    roa_data = []\n",
    "    temp_data = []\n",
    "    for i in ROA_data[comp].iloc[:,range(1, ROA_data[comp].shape[1])]:\n",
    "        year = i.split('/')[-1]\n",
    "        try: \n",
    "            t = temp_diff_yearly_data.loc[temp_diff_yearly_data['Year'] == int(year)]['Difference']\n",
    "            t = t.values[0]\n",
    "            if t:\n",
    "                roa = ROA_data[comp][i][0]\n",
    "                roa = float(roa)\n",
    "                if roa and not np.isnan(roa):\n",
    "                    roa_data.append(roa)\n",
    "                    temp_data.append(t)\n",
    "        except:\n",
    "            pass\n",
    "    assert len(roa_data) == len(temp_data)\n",
    "    if len(roa_data) >= 2:\n",
    "        pearson = pearsonr(roa_data, temp_data)[0]\n",
    "        p_p_value = pearsonr(roa_data, temp_data)[1]\n",
    "        spearman = spearmanr(roa_data, temp_data)[0]\n",
    "        s_p_value = spearmanr(roa_data, temp_data)[1]\n",
    "        tau, k_p_value = kendalltau(roa_data, temp_data)\n",
    "        print(\"\"\"Correlation analysis between {comp} and montly temp difference:\n",
    "        Perason coefficient is {pearson:.3f} with {p_p_value:.3f} p-value.\n",
    "        Spearman coefficient is {spearman:.3f} with {s_p_value:.3f} p-value.\n",
    "        Kendall coefficient is {kendall:.3f} with {k_p_value:.3f} p-value.\n",
    "        \"\"\".format(comp = comp, pearson = pearson, p_p_value = p_p_value,\n",
    "                    spearman = spearman, s_p_value = s_p_value, \n",
    "                     kendall = tau, k_p_value = k_p_value))"
   ]
  },
  {
   "cell_type": "markdown",
   "id": "d9c0052e",
   "metadata": {},
   "source": [
    "# Bushfires"
   ]
  },
  {
   "cell_type": "code",
   "execution_count": 421,
   "id": "5daa17fc",
   "metadata": {},
   "outputs": [
    {
     "name": "stdout",
     "output_type": "stream",
     "text": [
      "Correlation analysis between RKDA and montly temp difference:\n",
      "        Perason coefficient is -0.319 with 0.402 p-value.\n",
      "        Spearman coefficient is -0.200 with 0.606 p-value.\n",
      "        Kendall coefficient is -0.167 with 0.612 p-value.\n",
      "        \n",
      "Correlation analysis between YTEN and montly temp difference:\n",
      "        Perason coefficient is 0.383 with 0.116 p-value.\n",
      "        Spearman coefficient is 0.313 with 0.206 p-value.\n",
      "        Kendall coefficient is 0.216 with 0.229 p-value.\n",
      "        \n",
      "Correlation analysis between AVD and montly temp difference:\n",
      "        Perason coefficient is 0.150 with 0.389 p-value.\n",
      "        Spearman coefficient is 0.112 with 0.520 p-value.\n",
      "        Kendall coefficient is 0.072 with 0.558 p-value.\n",
      "        \n",
      "Correlation analysis between ICL and montly temp difference:\n",
      "        Perason coefficient is -0.126 with 0.641 p-value.\n",
      "        Spearman coefficient is -0.153 with 0.572 p-value.\n",
      "        Kendall coefficient is -0.117 with 0.564 p-value.\n",
      "        \n",
      "Correlation analysis between CTA-PB and montly temp difference:\n",
      "        Perason coefficient is 0.004 with 0.997 p-value.\n",
      "        Spearman coefficient is 0.500 with 0.667 p-value.\n",
      "        Kendall coefficient is 0.333 with 1.000 p-value.\n",
      "        \n",
      "Correlation analysis between IPI and montly temp difference:\n",
      "        Perason coefficient is -0.175 with 0.532 p-value.\n",
      "        Spearman coefficient is -0.114 with 0.685 p-value.\n",
      "        Kendall coefficient is -0.029 with 0.923 p-value.\n",
      "        \n",
      "Correlation analysis between NTR and montly temp difference:\n",
      "        Perason coefficient is 0.121 with 0.503 p-value.\n",
      "        Spearman coefficient is 0.152 with 0.398 p-value.\n",
      "        Kendall coefficient is 0.091 with 0.469 p-value.\n",
      "        \n",
      "Correlation analysis between CGA and montly temp difference:\n",
      "        Perason coefficient is -0.296 with 0.304 p-value.\n",
      "        Spearman coefficient is -0.437 with 0.118 p-value.\n",
      "        Kendall coefficient is -0.319 with 0.127 p-value.\n",
      "        \n",
      "Correlation analysis between MGPI and montly temp difference:\n",
      "        Perason coefficient is 0.046 with 0.801 p-value.\n",
      "        Spearman coefficient is 0.106 with 0.559 p-value.\n",
      "        Kendall coefficient is 0.076 with 0.549 p-value.\n",
      "        \n",
      "Correlation analysis between SMG and montly temp difference:\n",
      "        Perason coefficient is 0.210 with 0.256 p-value.\n",
      "        Spearman coefficient is 0.276 with 0.133 p-value.\n",
      "        Kendall coefficient is 0.209 with 0.103 p-value.\n",
      "        \n",
      "Correlation analysis between FMC and montly temp difference:\n",
      "        Perason coefficient is 0.305 with 0.075 p-value.\n",
      "        Spearman coefficient is 0.266 with 0.123 p-value.\n",
      "        Kendall coefficient is 0.170 with 0.151 p-value.\n",
      "        \n",
      "Correlation analysis between MBII and montly temp difference:\n",
      "        Perason coefficient is -0.222 with 0.538 p-value.\n",
      "        Spearman coefficient is -0.018 with 0.960 p-value.\n",
      "        Kendall coefficient is -0.022 with 1.000 p-value.\n",
      "        \n",
      "Correlation analysis between CTVA and montly temp difference:\n",
      "        Perason coefficient is 0.004 with 0.997 p-value.\n",
      "        Spearman coefficient is 0.500 with 0.667 p-value.\n",
      "        Kendall coefficient is 0.333 with 1.000 p-value.\n",
      "        \n",
      "Correlation analysis between UAN and montly temp difference:\n",
      "        Perason coefficient is -0.321 with 0.284 p-value.\n",
      "        Spearman coefficient is -0.330 with 0.271 p-value.\n",
      "        Kendall coefficient is -0.231 with 0.306 p-value.\n",
      "        \n",
      "Correlation analysis between CF and montly temp difference:\n",
      "        Perason coefficient is -0.080 with 0.746 p-value.\n",
      "        Spearman coefficient is -0.004 with 0.989 p-value.\n",
      "        Kendall coefficient is 0.041 with 0.836 p-value.\n",
      "        \n",
      "Correlation analysis between CTA-PA and montly temp difference:\n",
      "        Perason coefficient is 0.004 with 0.997 p-value.\n",
      "        Spearman coefficient is 0.500 with 0.667 p-value.\n",
      "        Kendall coefficient is 0.333 with 1.000 p-value.\n",
      "        \n",
      "Correlation analysis between SEED and montly temp difference:\n",
      "        Perason coefficient is 0.023 with 0.924 p-value.\n",
      "        Spearman coefficient is -0.500 with 0.029 p-value.\n",
      "        Kendall coefficient is -0.357 with 0.034 p-value.\n",
      "        \n",
      "Correlation analysis between MOS and montly temp difference:\n",
      "        Perason coefficient is 0.118 with 0.512 p-value.\n",
      "        Spearman coefficient is 0.099 with 0.583 p-value.\n",
      "        Kendall coefficient is 0.082 with 0.505 p-value.\n",
      "        \n"
     ]
    }
   ],
   "source": [
    "for comp in ROA_data.keys(): \n",
    "    roa_data = []\n",
    "    temp_data = []\n",
    "    for i in ROA_data[comp].iloc[:,range(1, ROA_data[comp].shape[1])]:\n",
    "        year = i.split('/')[-1]\n",
    "        \n",
    "        try: \n",
    "            t = bushfire_data.loc[bushfire_data['Year'] == int(year)]['Acres']\n",
    "            t = int(t.values[0].replace(',', ''))\n",
    "            if t:\n",
    "                roa = ROA_data[comp][i][0]\n",
    "                roa = float(roa)\n",
    "                if roa and not np.isnan(roa):\n",
    "                    roa_data.append(roa)\n",
    "                    temp_data.append(t)\n",
    "        except:\n",
    "            pass\n",
    "    assert len(roa_data) == len(temp_data)\n",
    "    if len(roa_data) >= 2:\n",
    "        pearson = pearsonr(roa_data, temp_data)[0]\n",
    "        p_p_value = pearsonr(roa_data, temp_data)[1]\n",
    "        spearman = spearmanr(roa_data, temp_data)[0]\n",
    "        s_p_value = spearmanr(roa_data, temp_data)[1]\n",
    "        tau, k_p_value = kendalltau(roa_data, temp_data)\n",
    "        print(\"\"\"Correlation analysis between {comp} and montly temp difference:\n",
    "        Perason coefficient is {pearson:.3f} with {p_p_value:.3f} p-value.\n",
    "        Spearman coefficient is {spearman:.3f} with {s_p_value:.3f} p-value.\n",
    "        Kendall coefficient is {kendall:.3f} with {k_p_value:.3f} p-value.\n",
    "        \"\"\".format(comp = comp, pearson = pearson, p_p_value = p_p_value,\n",
    "                    spearman = spearman, s_p_value = s_p_value, \n",
    "                     kendall = tau, k_p_value = k_p_value))"
   ]
  },
  {
   "cell_type": "markdown",
   "id": "b191c1c1",
   "metadata": {},
   "source": [
    "# Appendix"
   ]
  },
  {
   "cell_type": "markdown",
   "id": "f60b6cb4",
   "metadata": {},
   "source": [
    "## Person\n",
    "\n",
    "$$\n",
    "r=\\frac{\\sum\\left(x-m_{x}\\right)\\left(y-m_{y}\\right)}{\\sqrt{\\sum\\left(x-m_{x}\\right)^{2} \\sum\\left(y-m_{y}\\right)^{2}}}\n",
    "$$\n",
    "\n",
    "REF: https://docs.scipy.org/doc/scipy/reference/generated/scipy.stats.pearsonr.html"
   ]
  },
  {
   "cell_type": "markdown",
   "id": "be18bf19",
   "metadata": {},
   "source": [
    "## Spearman\n",
    "\n",
    "$$\n",
    "\\rho=1-\\frac{6 \\sum d_{i}^{2}}{n\\left(n^{2}-1\\right)}\n",
    "$$\n",
    "\n",
    "$\\rho$ \t=\tSpearman's rank correlation coefficient  \n",
    "$d_i$ = difference between the two ranks of each observation  \n",
    "$n$ = number of observations\n",
    "\n",
    "REF1: https://docs.scipy.org/doc/scipy/reference/generated/scipy.stats.spearmanr.html  \n",
    "REF2: https://en.wikipedia.org/wiki/Spearman%27s_rank_correlation_coefficient"
   ]
  },
  {
   "cell_type": "code",
   "execution_count": 118,
   "id": "1a606652",
   "metadata": {},
   "outputs": [
    {
     "data": {
      "text/plain": [
       "SpearmanrResult(correlation=0.04242424242424241, pvalue=0.907363817812816)"
      ]
     },
     "execution_count": 118,
     "metadata": {},
     "output_type": "execute_result"
    }
   ],
   "source": [
    "spearmanr(a, b)"
   ]
  },
  {
   "cell_type": "markdown",
   "id": "7616dac1",
   "metadata": {},
   "source": [
    "## Kendall\n",
    "\n",
    "$$\n",
    "\\tau=\\frac{(\\text { number of concordant pairs })-(\\text { number of discordant pairs })}{\\left(\\begin{array}{c}\n",
    "n \\\\\n",
    "2\n",
    "\\end{array}\\right)}\n",
    "$$\n",
    "\n",
    "REF: https://docs.scipy.org/doc/scipy/reference/generated/scipy.stats.kendalltau.html?highlight=kendall#scipy.stats.kendalltau"
   ]
  },
  {
   "cell_type": "code",
   "execution_count": 120,
   "id": "40c3160b",
   "metadata": {},
   "outputs": [
    {
     "name": "stdout",
     "output_type": "stream",
     "text": [
      "0.022222222222222223 1.0\n"
     ]
    }
   ],
   "source": [
    "x1 = [12, 2, 1, 12, 2]\n",
    "x2 = [1, 4, 7, 1, 0]\n",
    "tau, p_value = kendalltau(a, b)\n",
    "print(tau, p_value)"
   ]
  }
 ],
 "metadata": {
  "hide_input": false,
  "kernelspec": {
   "display_name": "Python 3",
   "language": "python",
   "name": "python3"
  },
  "language_info": {
   "codemirror_mode": {
    "name": "ipython",
    "version": 3
   },
   "file_extension": ".py",
   "mimetype": "text/x-python",
   "name": "python",
   "nbconvert_exporter": "python",
   "pygments_lexer": "ipython3",
   "version": "3.7.10"
  },
  "latex_envs": {
   "LaTeX_envs_menu_present": true,
   "autoclose": false,
   "autocomplete": true,
   "bibliofile": "biblio.bib",
   "cite_by": "apalike",
   "current_citInitial": 1,
   "eqLabelWithNumbers": true,
   "eqNumInitial": 1,
   "hotkeys": {
    "equation": "Ctrl-E",
    "itemize": "Ctrl-I"
   },
   "labels_anchors": false,
   "latex_user_defs": false,
   "report_style_numbering": false,
   "user_envs_cfg": false
  },
  "toc": {
   "base_numbering": "1",
   "nav_menu": {
    "height": "12px",
    "width": "172px"
   },
   "number_sections": true,
   "sideBar": true,
   "skip_h1_title": false,
   "title_cell": "Table of Contents",
   "title_sidebar": "Contents",
   "toc_cell": true,
   "toc_position": {
    "height": "calc(100% - 180px)",
    "left": "10px",
    "top": "150px",
    "width": "224px"
   },
   "toc_section_display": true,
   "toc_window_display": true
  },
  "varInspector": {
   "cols": {
    "lenName": 16,
    "lenType": 16,
    "lenVar": 40
   },
   "kernels_config": {
    "python": {
     "delete_cmd_postfix": "",
     "delete_cmd_prefix": "del ",
     "library": "var_list.py",
     "varRefreshCmd": "print(var_dic_list())"
    },
    "r": {
     "delete_cmd_postfix": ") ",
     "delete_cmd_prefix": "rm(",
     "library": "var_list.r",
     "varRefreshCmd": "cat(var_dic_list()) "
    }
   },
   "types_to_exclude": [
    "module",
    "function",
    "builtin_function_or_method",
    "instance",
    "_Feature"
   ],
   "window_display": false
  }
 },
 "nbformat": 4,
 "nbformat_minor": 5
}
