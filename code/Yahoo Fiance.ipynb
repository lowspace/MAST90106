{
 "cells": [
  {
   "cell_type": "markdown",
   "metadata": {},
   "source": [
    "# Read the Data from Yahoo Fiance Remotely For One Stock\n",
    "\n",
    "Using package `pandas_datareader` to read data remotely: <sup>[[1]](#ft1)</sup>\n",
    "+ use `pip install pandas_datareader` to install `pandas_datareader` in shell"
   ]
  },
  {
   "cell_type": "code",
   "execution_count": null,
   "metadata": {},
   "outputs": [],
   "source": [
    "import pandas as pd\n",
    "# REF: https://pandas.pydata.org/pandas-docs/version/0.18.1/remote_data.html#remote-data-yahoo\n",
    "# Install pandas_datareader first.\n",
    "import pandas_datareader.data as web\n",
    "import datetime\n",
    "\n",
    "start = datetime.datetime(1970,1,1)\n",
    "end = datetime.date.today()\n",
    "# read data from Yahoo Fiance Remotely\n",
    "BHP = web.DataReader(\"BHP\", \"yahoo\", start, end)"
   ]
  },
  {
   "cell_type": "code",
   "execution_count": null,
   "metadata": {},
   "outputs": [],
   "source": [
    "type(BHP)"
   ]
  },
  {
   "cell_type": "markdown",
   "metadata": {},
   "source": [
    "# How to Obtain the Company List of an Industry\n",
    "\n",
    "1. Website: https://finance.yahoo.com/sector/ms_basic_materials\n",
    "2. Select the filter\n",
    "3. Copy the list to txt, and get the company name via regex"
   ]
  },
  {
   "cell_type": "code",
   "execution_count": 9,
   "metadata": {},
   "outputs": [],
   "source": [
    "import re\n",
    "from collections import defaultdict\n",
    "import pandas as pd\n",
    "import pandas_datareader.data as web\n",
    "import datetime\n",
    "import os\n",
    "\n",
    "def getIndustryData(path: str, start: datetime.datetime, end: datetime.datetime):\n",
    "    # read the txt file\n",
    "    with open(path, 'r') as f:\n",
    "        f = f.readlines()\n",
    "    # identify the symbol pattern of the company\n",
    "    pattern = re.compile('(?<=^)[A-Z-]+(?=\\t)')\n",
    "    \n",
    "    company_list = []\n",
    "    # get the company list\n",
    "    for line in f:\n",
    "        company_list.extend(re.findall(pattern, line)) \n",
    "        \n",
    "    company_dict = defaultdict(pd.core.frame.DataFrame)\n",
    "    for c in company_list:\n",
    "        # read data from Yahoo Fiance Remotely\n",
    "        try:\n",
    "            company_dict[c] = web.DataReader(c, \"yahoo\", start, end)\n",
    "        except:\n",
    "            print(c)\n",
    "        \n",
    "    return company_dict\n",
    "\n",
    "def toCsv(d: dict, folder: str):\n",
    "    # store the data into data folder\n",
    "    # REF: https://www.jianshu.com/p/dde02a88a5c1\n",
    "    root_path = os.path.abspath(os.path.dirname(os.getcwd()))\n",
    "    data_path = os.path.join(root_path, 'data')\n",
    "    path = os.path.join(data_path, folder)\n",
    "    try:\n",
    "        # REF: https://www.geeksforgeeks.org/create-a-directory-in-python/\n",
    "        os.mkdir(path) # create the corresponding industry direction\n",
    "    except:\n",
    "        pass\n",
    "    for k,v in d.items():\n",
    "        file = path + '/' + k + '.csv' # file location\n",
    "        v.to_csv(path_or_buf = file, index = True)\n",
    "\n",
    "start = datetime.datetime(1970,1,1) # start time point \n",
    "end = datetime.datetime(2021,1,1) # end time point"
   ]
  },
  {
   "cell_type": "markdown",
   "metadata": {},
   "source": [
    "## Agriculture\n",
    "\n",
    "Filter:\n",
    "\n",
    "|Attributes|Value|\n",
    "|:--|:--|\n",
    "|Prices| >0|\n",
    "|Section|Basic Materials|\n",
    "|Industry|Agricultural Inputs|\n",
    "|Exchange|NasdaqGS<br> NYSE<br> Nasdaq<br> NasdaqCM<br> NasdaqGM<br>|"
   ]
  },
  {
   "cell_type": "code",
   "execution_count": 6,
   "metadata": {},
   "outputs": [],
   "source": [
    "agri_dict = getIndustryData('./agriculture.txt', start, end)\n",
    "# toCsv(agri_dict, 'agriculture')"
   ]
  },
  {
   "cell_type": "markdown",
   "metadata": {},
   "source": [
    "## Energy\n",
    "\n",
    "![](https://user-images.githubusercontent.com/22797017/115959053-e398e100-a53c-11eb-9161-db98a1c912d6.png)\n",
    "\n",
    "The following companies do not have the data prior to 2021-01-01<sup>[[2]](#ft2)</sup>:\n",
    "+ CSAN\n",
    "+ CHK\n",
    "+ DEN\n",
    "+ XOG\n",
    "+ VEI\n",
    "+ AMR\n",
    "+ GLP-PB"
   ]
  },
  {
   "cell_type": "code",
   "execution_count": 10,
   "metadata": {},
   "outputs": [
    {
     "name": "stdout",
     "output_type": "stream",
     "text": [
      "CSAN\n",
      "CHK\n",
      "DEN\n",
      "XOG\n",
      "VEI\n",
      "AMR\n",
      "GLP-PB\n"
     ]
    }
   ],
   "source": [
    "energy_dict = getIndustryData('./energy.txt', start, end)\n",
    "# toCsv(energy_dict, 'energy')"
   ]
  },
  {
   "cell_type": "markdown",
   "metadata": {},
   "source": [
    "## Transportation\n",
    "\n",
    "![](https://user-images.githubusercontent.com/22797017/115959990-99fec500-a541-11eb-89cd-19ff40f4771e.png)"
   ]
  },
  {
   "cell_type": "markdown",
   "metadata": {},
   "source": [
    "# Footnotes\n",
    "\n",
    "<a name=\"ft1\">[1]</a>: How to acess Yahoo Fiance data remotely? (Chinese Version) https://blog.csdn.net/Hellolijunshy/article/details/82527643\n",
    "\n",
    "<a name=\"ft2\">[2]</a>: Getting KeyError : 'Date' in Yahoo https://github.com/pydata/pandas-datareader/issues/640"
   ]
  }
 ],
 "metadata": {
  "kernelspec": {
   "display_name": "Python 3",
   "language": "python",
   "name": "python3"
  },
  "language_info": {
   "codemirror_mode": {
    "name": "ipython",
    "version": 3
   },
   "file_extension": ".py",
   "mimetype": "text/x-python",
   "name": "python",
   "nbconvert_exporter": "python",
   "pygments_lexer": "ipython3",
   "version": "3.7.10"
  }
 },
 "nbformat": 4,
 "nbformat_minor": 4
}
